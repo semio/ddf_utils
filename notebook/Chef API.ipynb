{
 "cells": [
  {
   "cell_type": "markdown",
   "metadata": {},
   "source": [
    "# Using chef in jupyter notebook\n",
    "\n",
    "To run chef in the notebook, use the `Chef` class from `ddf_utils.chef.api`"
   ]
  },
  {
   "cell_type": "code",
   "execution_count": 5,
   "metadata": {},
   "outputs": [],
   "source": [
    "import os\n",
    "import sys\n",
    "import ruamel.yaml as yaml\n",
    "from ddf_utils.chef.api import Chef"
   ]
  },
  {
   "cell_type": "code",
   "execution_count": null,
   "metadata": {
    "collapsed": true
   },
   "outputs": [],
   "source": []
  },
  {
   "cell_type": "code",
   "execution_count": 15,
   "metadata": {
    "collapsed": true
   },
   "outputs": [],
   "source": [
    "# at the beginning, initial the chef\n",
    "chef = Chef()"
   ]
  },
  {
   "cell_type": "code",
   "execution_count": 16,
   "metadata": {},
   "outputs": [
    {
     "data": {
      "text/plain": [
       "<ddf_utils.chef.api.Chef at 0x105b52630>"
      ]
     },
     "execution_count": 16,
     "metadata": {},
     "output_type": "execute_result"
    }
   ],
   "source": [
    "# adding configs and metadata(to the info section)\n",
    "\n",
    "(chef.add_config(ddf_dir=os.path.expanduser('~/src/work/Gapminder'))\n",
    "     .add_metadata(id='test_dataset', \n",
    "                   base=['ddf--transpint--corrupton']))"
   ]
  },
  {
   "cell_type": "code",
   "execution_count": 17,
   "metadata": {},
   "outputs": [
    {
     "data": {
      "text/plain": [
       "<ddf_utils.chef.api.Chef at 0x105b52630>"
      ]
     },
     "execution_count": 17,
     "metadata": {},
     "output_type": "execute_result"
    }
   ],
   "source": [
    "# adding ingredient, parameters are just like in recipe\n",
    "\n",
    "i = '''\n",
    "id: cpi-datapoints\n",
    "dataset: ddf--transpint--corrupton\n",
    "key: country, year\n",
    "value: \"*\"\n",
    "'''\n",
    "\n",
    "d = yaml.round_trip_load(i)\n",
    "chef.add_ingredient(**d)"
   ]
  },
  {
   "cell_type": "code",
   "execution_count": 18,
   "metadata": {},
   "outputs": [
    {
     "data": {
      "text/plain": [
       "<ddf_utils.chef.api.Chef at 0x105b52630>"
      ]
     },
     "execution_count": 18,
     "metadata": {},
     "output_type": "execute_result"
    }
   ],
   "source": [
    "# add an other ingredient\n",
    "\n",
    "chef.add_ingredient(id='bp-datapoints', dataset='ddf--bp--energy', key='geo, year', value='*')"
   ]
  },
  {
   "cell_type": "code",
   "execution_count": null,
   "metadata": {
    "collapsed": true
   },
   "outputs": [],
   "source": []
  },
  {
   "cell_type": "code",
   "execution_count": 19,
   "metadata": {},
   "outputs": [
    {
     "data": {
      "text/plain": [
       "<ddf_utils.chef.api.Chef at 0x105b52630>"
      ]
     },
     "execution_count": 19,
     "metadata": {},
     "output_type": "execute_result"
    }
   ],
   "source": [
    "# add procedures, parameters are same as in recipe\n",
    "\n",
    "chef.add_procedure(collection='datapoints',   # which part of cooking section the procedure is in\n",
    "                   procedure='translate_header', \n",
    "                   ingredients=['bp-datapoints'], \n",
    "                   result='bp-datapoints-translate', \n",
    "                   options={'dictionary': {'geo': 'country'}})"
   ]
  },
  {
   "cell_type": "code",
   "execution_count": 20,
   "metadata": {},
   "outputs": [
    {
     "data": {
      "text/plain": [
       "<ddf_utils.chef.api.Chef at 0x105b52630>"
      ]
     },
     "execution_count": 20,
     "metadata": {},
     "output_type": "execute_result"
    }
   ],
   "source": [
    "# add an other procedure\n",
    "\n",
    "chef.add_procedure(collection='datapoints', \n",
    "                   procedure='merge', \n",
    "                   ingredients=['bp-datapoints-translate', 'cpi-datapoints'], \n",
    "                   result='res')"
   ]
  },
  {
   "cell_type": "code",
   "execution_count": 21,
   "metadata": {},
   "outputs": [
    {
     "name": "stdout",
     "output_type": "stream",
     "text": [
      "info:\n",
      "  id: test_dataset\n",
      "  base:\n",
      "  - ddf--transpint--corrupton\n",
      "config:\n",
      "  ddf_dir: /Users/semio/src/work/Gapminder\n",
      "ingredients:\n",
      "- id: cpi-datapoints\n",
      "  dataset: ddf--transpint--corrupton\n",
      "  key: country, year\n",
      "  values: '*'\n",
      "- id: bp-datapoints\n",
      "  dataset: ddf--bp--energy\n",
      "  key: geo, year\n",
      "  values: '*'\n",
      "cooking:\n",
      "  datapoints:\n",
      "  - procedure: translate_header\n",
      "    ingredients:\n",
      "    - bp-datapoints\n",
      "    options:\n",
      "      dictionary:\n",
      "        geo: country\n",
      "    result: bp-datapoints-translate\n",
      "  - procedure: merge\n",
      "    ingredients:\n",
      "    - bp-datapoints-translate\n",
      "    - cpi-datapoints\n",
      "    result: res\n"
     ]
    }
   ],
   "source": [
    "# you can print the recipe in yaml format\n",
    "\n",
    "chef.to_recipe()"
   ]
  },
  {
   "cell_type": "code",
   "execution_count": 22,
   "metadata": {},
   "outputs": [
    {
     "data": {
      "image/svg+xml": [
       "<?xml version=\"1.0\" encoding=\"UTF-8\" standalone=\"no\"?>\n",
       "<!DOCTYPE svg PUBLIC \"-//W3C//DTD SVG 1.1//EN\"\n",
       " \"http://www.w3.org/Graphics/SVG/1.1/DTD/svg11.dtd\">\n",
       "<!-- Generated by graphviz version 2.40.1 (20161225.0304)\n",
       " -->\n",
       "<!-- Title: %3 Pages: 1 -->\n",
       "<svg width=\"328pt\" height=\"188pt\"\n",
       " viewBox=\"0.00 0.00 328.35 188.00\" xmlns=\"http://www.w3.org/2000/svg\" xmlns:xlink=\"http://www.w3.org/1999/xlink\">\n",
       "<g id=\"graph0\" class=\"graph\" transform=\"scale(1 1) rotate(0) translate(4 184)\">\n",
       "<title>%3</title>\n",
       "<polygon fill=\"#ffffff\" stroke=\"transparent\" points=\"-4,4 -4,-184 324.35,-184 324.35,4 -4,4\"/>\n",
       "<!-- cpi&#45;datapoints -->\n",
       "<g id=\"node1\" class=\"node\">\n",
       "<title>cpi&#45;datapoints</title>\n",
       "<ellipse fill=\"none\" stroke=\"#000000\" cx=\"60.2054\" cy=\"-90\" rx=\"60.4115\" ry=\"18\"/>\n",
       "<text text-anchor=\"middle\" x=\"60.2054\" y=\"-85.8\" font-family=\"Times,serif\" font-size=\"14.00\" fill=\"#000000\">cpi&#45;datapoints</text>\n",
       "</g>\n",
       "<!-- res -->\n",
       "<g id=\"node2\" class=\"node\">\n",
       "<title>res</title>\n",
       "<ellipse fill=\"none\" stroke=\"#000000\" cx=\"144.2054\" cy=\"-18\" rx=\"27\" ry=\"18\"/>\n",
       "<text text-anchor=\"middle\" x=\"144.2054\" y=\"-13.8\" font-family=\"Times,serif\" font-size=\"14.00\" fill=\"#000000\">res</text>\n",
       "</g>\n",
       "<!-- cpi&#45;datapoints&#45;&gt;res -->\n",
       "<g id=\"edge1\" class=\"edge\">\n",
       "<title>cpi&#45;datapoints&#45;&gt;res</title>\n",
       "<path fill=\"none\" stroke=\"#000000\" d=\"M80.1122,-72.937C91.972,-62.7715 107.1174,-49.7897 119.7074,-38.9983\"/>\n",
       "<polygon fill=\"#000000\" stroke=\"#000000\" points=\"122.2369,-41.44 127.5517,-32.2746 117.6813,-36.1252 122.2369,-41.44\"/>\n",
       "</g>\n",
       "<!-- bp&#45;datapoints -->\n",
       "<g id=\"node3\" class=\"node\">\n",
       "<title>bp&#45;datapoints</title>\n",
       "<ellipse fill=\"none\" stroke=\"#000000\" cx=\"229.2054\" cy=\"-162\" rx=\"58.491\" ry=\"18\"/>\n",
       "<text text-anchor=\"middle\" x=\"229.2054\" y=\"-157.8\" font-family=\"Times,serif\" font-size=\"14.00\" fill=\"#000000\">bp&#45;datapoints</text>\n",
       "</g>\n",
       "<!-- bp&#45;datapoints&#45;translate -->\n",
       "<g id=\"node4\" class=\"node\">\n",
       "<title>bp&#45;datapoints&#45;translate</title>\n",
       "<ellipse fill=\"none\" stroke=\"#000000\" cx=\"229.2054\" cy=\"-90\" rx=\"91.2894\" ry=\"18\"/>\n",
       "<text text-anchor=\"middle\" x=\"229.2054\" y=\"-85.8\" font-family=\"Times,serif\" font-size=\"14.00\" fill=\"#000000\">bp&#45;datapoints&#45;translate</text>\n",
       "</g>\n",
       "<!-- bp&#45;datapoints&#45;&gt;bp&#45;datapoints&#45;translate -->\n",
       "<g id=\"edge2\" class=\"edge\">\n",
       "<title>bp&#45;datapoints&#45;&gt;bp&#45;datapoints&#45;translate</title>\n",
       "<path fill=\"none\" stroke=\"#000000\" d=\"M229.2054,-143.8314C229.2054,-136.131 229.2054,-126.9743 229.2054,-118.4166\"/>\n",
       "<polygon fill=\"#000000\" stroke=\"#000000\" points=\"232.7055,-118.4132 229.2054,-108.4133 225.7055,-118.4133 232.7055,-118.4132\"/>\n",
       "</g>\n",
       "<!-- bp&#45;datapoints&#45;translate&#45;&gt;res -->\n",
       "<g id=\"edge3\" class=\"edge\">\n",
       "<title>bp&#45;datapoints&#45;translate&#45;&gt;res</title>\n",
       "<path fill=\"none\" stroke=\"#000000\" d=\"M208.1942,-72.2022C196.257,-62.0908 181.2506,-49.3795 168.7708,-38.8083\"/>\n",
       "<polygon fill=\"#000000\" stroke=\"#000000\" points=\"170.885,-36.0123 160.9923,-32.2195 166.3606,-41.3537 170.885,-36.0123\"/>\n",
       "</g>\n",
       "</g>\n",
       "</svg>\n"
      ],
      "text/plain": [
       "<graphviz.dot.Digraph at 0x105b5edd8>"
      ]
     },
     "execution_count": 22,
     "metadata": {},
     "output_type": "execute_result"
    }
   ],
   "source": [
    "# also in graph\n",
    "\n",
    "chef.to_graph()"
   ]
  },
  {
   "cell_type": "code",
   "execution_count": 23,
   "metadata": {},
   "outputs": [],
   "source": [
    "# to run the recipe and get the output:\n",
    "\n",
    "res = chef.run()"
   ]
  },
  {
   "cell_type": "code",
   "execution_count": 24,
   "metadata": {},
   "outputs": [
    {
     "data": {
      "text/plain": [
       "[<ProcedureResult: res>]"
      ]
     },
     "execution_count": 24,
     "metadata": {},
     "output_type": "execute_result"
    }
   ],
   "source": [
    "res"
   ]
  },
  {
   "cell_type": "code",
   "execution_count": 25,
   "metadata": {},
   "outputs": [
    {
     "data": {
      "text/plain": [
       "dict_keys(['biofuels_production_kboed', 'biofuels_production_ktoe', 'carbon_dioxide_emissions', 'coal_consumption_mtoe', 'coal_production_mtoe', 'coal_production_tonnes', 'electricity_generation', 'gas_consumption_bcf', 'gas_consumption_bcm', 'gas_consumption_tonnes', 'gas_production_bcf', 'gas_production_bcm', 'gas_production_tonnes', 'gas_proved_reserves_history', 'geo_biomass_other_mtoe', 'geo_biomass_other_twh', 'hydro_consumption_mtoe', 'hydro_consumption_twh', 'nuclear_consumption_mtoe', 'nuclear_consumption_twh', 'oil_consumption_barrels', 'oil_consumption_tonnes', 'oil_production_barrels', 'oil_production_tonnes', 'oil_proved_reserves_history', 'oil_refinery_capacities', 'oil_refinery_throughput', 'other_renewables_mtoe', 'other_renewables_twh', 'primary_energy_consumption', 'solar_consumption_mtoe', 'solar_consumption_twh', 'wind_consumption_mtoe', 'wind_consumption_twh', 'cpi'])"
      ]
     },
     "execution_count": 25,
     "metadata": {},
     "output_type": "execute_result"
    }
   ],
   "source": [
    "res[0].get_data().keys()"
   ]
  },
  {
   "cell_type": "code",
   "execution_count": 29,
   "metadata": {},
   "outputs": [
    {
     "data": {
      "text/html": [
       "<div>\n",
       "<style>\n",
       "    .dataframe thead tr:only-child th {\n",
       "        text-align: right;\n",
       "    }\n",
       "\n",
       "    .dataframe thead th {\n",
       "        text-align: left;\n",
       "    }\n",
       "\n",
       "    .dataframe tbody tr th {\n",
       "        vertical-align: top;\n",
       "    }\n",
       "</style>\n",
       "<table border=\"1\" class=\"dataframe\">\n",
       "  <thead>\n",
       "    <tr style=\"text-align: right;\">\n",
       "      <th></th>\n",
       "      <th>country</th>\n",
       "      <th>year</th>\n",
       "      <th>biofuels_production_kboed</th>\n",
       "    </tr>\n",
       "  </thead>\n",
       "  <tbody>\n",
       "    <tr>\n",
       "      <th>258</th>\n",
       "      <td>france</td>\n",
       "      <td>2014</td>\n",
       "      <td>52.2690</td>\n",
       "    </tr>\n",
       "    <tr>\n",
       "      <th>823</th>\n",
       "      <td>total_world</td>\n",
       "      <td>2007</td>\n",
       "      <td>696.8200</td>\n",
       "    </tr>\n",
       "    <tr>\n",
       "      <th>530</th>\n",
       "      <td>portugal</td>\n",
       "      <td>2000</td>\n",
       "      <td>0.0000</td>\n",
       "    </tr>\n",
       "    <tr>\n",
       "      <th>565</th>\n",
       "      <td>south_korea</td>\n",
       "      <td>2009</td>\n",
       "      <td>6.8967</td>\n",
       "    </tr>\n",
       "    <tr>\n",
       "      <th>771</th>\n",
       "      <td>total_north_america</td>\n",
       "      <td>2007</td>\n",
       "      <td>279.5600</td>\n",
       "    </tr>\n",
       "  </tbody>\n",
       "</table>\n",
       "</div>"
      ],
      "text/plain": [
       "                 country  year  biofuels_production_kboed\n",
       "258               france  2014                    52.2690\n",
       "823          total_world  2007                   696.8200\n",
       "530             portugal  2000                     0.0000\n",
       "565          south_korea  2009                     6.8967\n",
       "771  total_north_america  2007                   279.5600"
      ]
     },
     "execution_count": 29,
     "metadata": {},
     "output_type": "execute_result"
    }
   ],
   "source": [
    "res[0].get_data()['biofuels_production_kboed'].sample(5)"
   ]
  },
  {
   "cell_type": "code",
   "execution_count": 30,
   "metadata": {},
   "outputs": [
    {
     "data": {
      "text/html": [
       "<div>\n",
       "<style>\n",
       "    .dataframe thead tr:only-child th {\n",
       "        text-align: right;\n",
       "    }\n",
       "\n",
       "    .dataframe thead th {\n",
       "        text-align: left;\n",
       "    }\n",
       "\n",
       "    .dataframe tbody tr th {\n",
       "        vertical-align: top;\n",
       "    }\n",
       "</style>\n",
       "<table border=\"1\" class=\"dataframe\">\n",
       "  <thead>\n",
       "    <tr style=\"text-align: right;\">\n",
       "      <th></th>\n",
       "      <th>country</th>\n",
       "      <th>year</th>\n",
       "      <th>cpi</th>\n",
       "    </tr>\n",
       "  </thead>\n",
       "  <tbody>\n",
       "    <tr>\n",
       "      <th>675</th>\n",
       "      <td>civ</td>\n",
       "      <td>2011</td>\n",
       "      <td>2.233704</td>\n",
       "    </tr>\n",
       "    <tr>\n",
       "      <th>1011</th>\n",
       "      <td>nic</td>\n",
       "      <td>2013</td>\n",
       "      <td>28.000000</td>\n",
       "    </tr>\n",
       "    <tr>\n",
       "      <th>795</th>\n",
       "      <td>zmb</td>\n",
       "      <td>2012</td>\n",
       "      <td>37.000000</td>\n",
       "    </tr>\n",
       "    <tr>\n",
       "      <th>574</th>\n",
       "      <td>kwt</td>\n",
       "      <td>2011</td>\n",
       "      <td>4.616031</td>\n",
       "    </tr>\n",
       "    <tr>\n",
       "      <th>137</th>\n",
       "      <td>kgz</td>\n",
       "      <td>2014</td>\n",
       "      <td>27.000000</td>\n",
       "    </tr>\n",
       "  </tbody>\n",
       "</table>\n",
       "</div>"
      ],
      "text/plain": [
       "     country  year        cpi\n",
       "675      civ  2011   2.233704\n",
       "1011     nic  2013  28.000000\n",
       "795      zmb  2012  37.000000\n",
       "574      kwt  2011   4.616031\n",
       "137      kgz  2014  27.000000"
      ]
     },
     "execution_count": 30,
     "metadata": {},
     "output_type": "execute_result"
    }
   ],
   "source": [
    "res[0].get_data()['cpi'].sample(5)"
   ]
  },
  {
   "cell_type": "code",
   "execution_count": null,
   "metadata": {
    "collapsed": true
   },
   "outputs": [],
   "source": []
  },
  {
   "cell_type": "code",
   "execution_count": null,
   "metadata": {
    "collapsed": true
   },
   "outputs": [],
   "source": []
  },
  {
   "cell_type": "code",
   "execution_count": 32,
   "metadata": {},
   "outputs": [
    {
     "name": "stdout",
     "output_type": "stream",
     "text": [
      "info:\n",
      "    id: test-flatten\n",
      "\n",
      "\n",
      "ingredients:\n",
      "    - id: cme-datapoints\n",
      "      dataset: ddf--cme\n",
      "      key: \"country,year\"\n",
      "      value: \"*\"\n",
      "\n",
      "\n",
      "\n",
      "cooking:\n",
      "    datapoints:\n",
      "        - procedure: filter_row\n",
      "          ingredients:\n",
      "              - cme-datapoints\n",
      "          result: filtered\n",
      "          options:\n",
      "              filters:\n",
      "                imr_lower:\n",
      "                    country: afg\n",
      "                    year:\n",
      "                        - 1990\n",
      "                        - 1991\n",
      "                imr_upper:\n",
      "                    country:\n",
      "                        - usa\n",
      "                        - swe\n",
      "                    year:\n",
      "                        - 1990\n",
      "                        - 1991\n",
      "                        - 1992\n",
      "                        - 1993\n",
      "                        - 1994\n",
      "                        - 1995\n",
      "                        - 1996\n",
      "        - procedure: flatten\n",
      "          ingredients:\n",
      "              - filtered\n",
      "          options:\n",
      "              dictionary:\n",
      "                  \"imr*\": \"{concept}_{country}\"\n",
      "              flatten_dimensions:\n",
      "                  - country\n",
      "          result: res\n",
      "\n"
     ]
    }
   ],
   "source": [
    "# we can also create a Chef instance from existing recipes\n",
    "\n",
    "recipe_file = '../tests/recipes_pass/test_flatten.yml'\n",
    "print(open(os.path.expandvars(recipe_file)).read())"
   ]
  },
  {
   "cell_type": "code",
   "execution_count": 33,
   "metadata": {},
   "outputs": [
    {
     "name": "stderr",
     "output_type": "stream",
     "text": [
      "no serve procedure found, serving the last result: res\n"
     ]
    }
   ],
   "source": [
    "chef = Chef.from_recipe(os.path.expandvars(recipe_file))"
   ]
  },
  {
   "cell_type": "code",
   "execution_count": 34,
   "metadata": {
    "scrolled": true
   },
   "outputs": [
    {
     "data": {
      "text/plain": [
       "<ddf_utils.chef.api.Chef at 0x100fb8080>"
      ]
     },
     "execution_count": 34,
     "metadata": {},
     "output_type": "execute_result"
    }
   ],
   "source": [
    "chef.add_config(ddf_dir='../tests/datasets/')"
   ]
  },
  {
   "cell_type": "code",
   "execution_count": 35,
   "metadata": {},
   "outputs": [
    {
     "data": {
      "image/svg+xml": [
       "<?xml version=\"1.0\" encoding=\"UTF-8\" standalone=\"no\"?>\n",
       "<!DOCTYPE svg PUBLIC \"-//W3C//DTD SVG 1.1//EN\"\n",
       " \"http://www.w3.org/Graphics/SVG/1.1/DTD/svg11.dtd\">\n",
       "<!-- Generated by graphviz version 2.40.1 (20161225.0304)\n",
       " -->\n",
       "<!-- Title: %3 Pages: 1 -->\n",
       "<svg width=\"136pt\" height=\"188pt\"\n",
       " viewBox=\"0.00 0.00 136.26 188.00\" xmlns=\"http://www.w3.org/2000/svg\" xmlns:xlink=\"http://www.w3.org/1999/xlink\">\n",
       "<g id=\"graph0\" class=\"graph\" transform=\"scale(1 1) rotate(0) translate(4 184)\">\n",
       "<title>%3</title>\n",
       "<polygon fill=\"#ffffff\" stroke=\"transparent\" points=\"-4,4 -4,-184 132.2611,-184 132.2611,4 -4,4\"/>\n",
       "<!-- cme&#45;datapoints -->\n",
       "<g id=\"node1\" class=\"node\">\n",
       "<title>cme&#45;datapoints</title>\n",
       "<ellipse fill=\"none\" stroke=\"#000000\" cx=\"64.1306\" cy=\"-162\" rx=\"64.2614\" ry=\"18\"/>\n",
       "<text text-anchor=\"middle\" x=\"64.1306\" y=\"-157.8\" font-family=\"Times,serif\" font-size=\"14.00\" fill=\"#000000\">cme&#45;datapoints</text>\n",
       "</g>\n",
       "<!-- filtered -->\n",
       "<g id=\"node2\" class=\"node\">\n",
       "<title>filtered</title>\n",
       "<ellipse fill=\"none\" stroke=\"#000000\" cx=\"64.1306\" cy=\"-90\" rx=\"35.3129\" ry=\"18\"/>\n",
       "<text text-anchor=\"middle\" x=\"64.1306\" y=\"-85.8\" font-family=\"Times,serif\" font-size=\"14.00\" fill=\"#000000\">filtered</text>\n",
       "</g>\n",
       "<!-- cme&#45;datapoints&#45;&gt;filtered -->\n",
       "<g id=\"edge1\" class=\"edge\">\n",
       "<title>cme&#45;datapoints&#45;&gt;filtered</title>\n",
       "<path fill=\"none\" stroke=\"#000000\" d=\"M64.1306,-143.8314C64.1306,-136.131 64.1306,-126.9743 64.1306,-118.4166\"/>\n",
       "<polygon fill=\"#000000\" stroke=\"#000000\" points=\"67.6307,-118.4132 64.1306,-108.4133 60.6307,-118.4133 67.6307,-118.4132\"/>\n",
       "</g>\n",
       "<!-- res -->\n",
       "<g id=\"node3\" class=\"node\">\n",
       "<title>res</title>\n",
       "<ellipse fill=\"none\" stroke=\"#000000\" cx=\"64.1306\" cy=\"-18\" rx=\"27\" ry=\"18\"/>\n",
       "<text text-anchor=\"middle\" x=\"64.1306\" y=\"-13.8\" font-family=\"Times,serif\" font-size=\"14.00\" fill=\"#000000\">res</text>\n",
       "</g>\n",
       "<!-- filtered&#45;&gt;res -->\n",
       "<g id=\"edge2\" class=\"edge\">\n",
       "<title>filtered&#45;&gt;res</title>\n",
       "<path fill=\"none\" stroke=\"#000000\" d=\"M64.1306,-71.8314C64.1306,-64.131 64.1306,-54.9743 64.1306,-46.4166\"/>\n",
       "<polygon fill=\"#000000\" stroke=\"#000000\" points=\"67.6307,-46.4132 64.1306,-36.4133 60.6307,-46.4133 67.6307,-46.4132\"/>\n",
       "</g>\n",
       "</g>\n",
       "</svg>\n"
      ],
      "text/plain": [
       "<graphviz.dot.Digraph at 0x100fd9828>"
      ]
     },
     "execution_count": 35,
     "metadata": {},
     "output_type": "execute_result"
    }
   ],
   "source": [
    "chef.to_graph()"
   ]
  },
  {
   "cell_type": "code",
   "execution_count": 36,
   "metadata": {
    "collapsed": true
   },
   "outputs": [],
   "source": [
    "res = chef.run()"
   ]
  },
  {
   "cell_type": "code",
   "execution_count": 37,
   "metadata": {},
   "outputs": [
    {
     "data": {
      "text/plain": [
       "dict_keys(['imr_lower_afg', 'imr_upper_swe', 'imr_upper_usa'])"
      ]
     },
     "execution_count": 37,
     "metadata": {},
     "output_type": "execute_result"
    }
   ],
   "source": [
    "res[0].get_data().keys()"
   ]
  },
  {
   "cell_type": "code",
   "execution_count": 41,
   "metadata": {},
   "outputs": [
    {
     "data": {
      "text/html": [
       "<div>\n",
       "<style>\n",
       "    .dataframe thead tr:only-child th {\n",
       "        text-align: right;\n",
       "    }\n",
       "\n",
       "    .dataframe thead th {\n",
       "        text-align: left;\n",
       "    }\n",
       "\n",
       "    .dataframe tbody tr th {\n",
       "        vertical-align: top;\n",
       "    }\n",
       "</style>\n",
       "<table border=\"1\" class=\"dataframe\">\n",
       "  <thead>\n",
       "    <tr style=\"text-align: right;\">\n",
       "      <th></th>\n",
       "      <th>year</th>\n",
       "      <th>imr_lower_afg</th>\n",
       "    </tr>\n",
       "  </thead>\n",
       "  <tbody>\n",
       "    <tr>\n",
       "      <th>29</th>\n",
       "      <td>1990</td>\n",
       "      <td>111.6</td>\n",
       "    </tr>\n",
       "    <tr>\n",
       "      <th>30</th>\n",
       "      <td>1991</td>\n",
       "      <td>108.0</td>\n",
       "    </tr>\n",
       "  </tbody>\n",
       "</table>\n",
       "</div>"
      ],
      "text/plain": [
       "    year  imr_lower_afg\n",
       "29  1990          111.6\n",
       "30  1991          108.0"
      ]
     },
     "execution_count": 41,
     "metadata": {},
     "output_type": "execute_result"
    }
   ],
   "source": [
    "res[0].get_data()['imr_lower_afg']"
   ]
  },
  {
   "cell_type": "code",
   "execution_count": null,
   "metadata": {
    "collapsed": true
   },
   "outputs": [],
   "source": []
  },
  {
   "cell_type": "markdown",
   "metadata": {},
   "source": [
    "# Advance usage: create new procedure\n",
    "\n",
    "will add description later"
   ]
  },
  {
   "cell_type": "code",
   "execution_count": 42,
   "metadata": {
    "collapsed": true
   },
   "outputs": [],
   "source": [
    "from ddf_utils.chef.ingredient import Ingredient, ProcedureResult"
   ]
  },
  {
   "cell_type": "code",
   "execution_count": 58,
   "metadata": {
    "collapsed": true
   },
   "outputs": [],
   "source": [
    "def multiply_1000(dag, ingredients, result, **options):\n",
    "    ingredients = [dag.get_node(x) for x in ingredients]\n",
    "    ingredient = ingredients[0].evaluate()\n",
    "    \n",
    "    new_data = dict()\n",
    "    for k, df in ingredient.get_data().items():\n",
    "        df_ = df.copy()\n",
    "        df_[k] = df_[k] * 1000\n",
    "        new_data[k] = df_\n",
    "        \n",
    "    return ProcedureResult(result, ingredient.key, new_data)"
   ]
  },
  {
   "cell_type": "code",
   "execution_count": 44,
   "metadata": {},
   "outputs": [
    {
     "data": {
      "text/plain": [
       "<ddf_utils.chef.api.Chef at 0x105d402e8>"
      ]
     },
     "execution_count": 44,
     "metadata": {},
     "output_type": "execute_result"
    }
   ],
   "source": [
    "chef = Chef()\n",
    "chef.add_config(ddf_dir=os.path.expanduser('~/src/work/Gapminder'))"
   ]
  },
  {
   "cell_type": "code",
   "execution_count": 45,
   "metadata": {},
   "outputs": [
    {
     "data": {
      "text/plain": [
       "<ddf_utils.chef.api.Chef at 0x105d402e8>"
      ]
     },
     "execution_count": 45,
     "metadata": {},
     "output_type": "execute_result"
    }
   ],
   "source": [
    "i = '''\n",
    "id: cpi-datapoints\n",
    "dataset: ddf--transpint--corrupton\n",
    "key: country, year\n",
    "value: \"*\"\n",
    "'''\n",
    "\n",
    "d = yaml.round_trip_load(i)\n",
    "chef.add_ingredient(**d)"
   ]
  },
  {
   "cell_type": "code",
   "execution_count": 59,
   "metadata": {
    "collapsed": true
   },
   "outputs": [],
   "source": [
    "chef.register_procedure(multiply_1000)"
   ]
  },
  {
   "cell_type": "code",
   "execution_count": 49,
   "metadata": {},
   "outputs": [
    {
     "data": {
      "text/plain": [
       "<ddf_utils.chef.api.Chef at 0x105d402e8>"
      ]
     },
     "execution_count": 49,
     "metadata": {},
     "output_type": "execute_result"
    }
   ],
   "source": [
    "chef.add_procedure(collection='datapoints',\n",
    "                   procedure='multiply_1000',\n",
    "                   result='res',\n",
    "                   ingredients=['cpi-datapoints']\n",
    "                  )"
   ]
  },
  {
   "cell_type": "code",
   "execution_count": 61,
   "metadata": {},
   "outputs": [],
   "source": [
    "res = chef.run()"
   ]
  },
  {
   "cell_type": "code",
   "execution_count": 65,
   "metadata": {},
   "outputs": [
    {
     "data": {
      "text/html": [
       "<div>\n",
       "<style>\n",
       "    .dataframe thead tr:only-child th {\n",
       "        text-align: right;\n",
       "    }\n",
       "\n",
       "    .dataframe thead th {\n",
       "        text-align: left;\n",
       "    }\n",
       "\n",
       "    .dataframe tbody tr th {\n",
       "        vertical-align: top;\n",
       "    }\n",
       "</style>\n",
       "<table border=\"1\" class=\"dataframe\">\n",
       "  <thead>\n",
       "    <tr style=\"text-align: right;\">\n",
       "      <th></th>\n",
       "      <th>country</th>\n",
       "      <th>year</th>\n",
       "      <th>cpi</th>\n",
       "    </tr>\n",
       "  </thead>\n",
       "  <tbody>\n",
       "    <tr>\n",
       "      <th>0</th>\n",
       "      <td>dnk</td>\n",
       "      <td>2014</td>\n",
       "      <td>92000.0</td>\n",
       "    </tr>\n",
       "    <tr>\n",
       "      <th>1</th>\n",
       "      <td>nzl</td>\n",
       "      <td>2014</td>\n",
       "      <td>91000.0</td>\n",
       "    </tr>\n",
       "    <tr>\n",
       "      <th>2</th>\n",
       "      <td>fin</td>\n",
       "      <td>2014</td>\n",
       "      <td>89000.0</td>\n",
       "    </tr>\n",
       "    <tr>\n",
       "      <th>3</th>\n",
       "      <td>swe</td>\n",
       "      <td>2014</td>\n",
       "      <td>87000.0</td>\n",
       "    </tr>\n",
       "    <tr>\n",
       "      <th>4</th>\n",
       "      <td>nor</td>\n",
       "      <td>2014</td>\n",
       "      <td>86000.0</td>\n",
       "    </tr>\n",
       "  </tbody>\n",
       "</table>\n",
       "</div>"
      ],
      "text/plain": [
       "  country  year      cpi\n",
       "0     dnk  2014  92000.0\n",
       "1     nzl  2014  91000.0\n",
       "2     fin  2014  89000.0\n",
       "3     swe  2014  87000.0\n",
       "4     nor  2014  86000.0"
      ]
     },
     "execution_count": 65,
     "metadata": {},
     "output_type": "execute_result"
    }
   ],
   "source": [
    "res[0].get_data()['cpi'].head(5)"
   ]
  },
  {
   "cell_type": "code",
   "execution_count": 64,
   "metadata": {},
   "outputs": [
    {
     "data": {
      "text/plain": [
       "[<Ingredient: cpi-datapoints>]"
      ]
     },
     "execution_count": 64,
     "metadata": {},
     "output_type": "execute_result"
    }
   ],
   "source": [
    "chef.ingredients"
   ]
  },
  {
   "cell_type": "code",
   "execution_count": 66,
   "metadata": {},
   "outputs": [
    {
     "data": {
      "text/html": [
       "<div>\n",
       "<style>\n",
       "    .dataframe thead tr:only-child th {\n",
       "        text-align: right;\n",
       "    }\n",
       "\n",
       "    .dataframe thead th {\n",
       "        text-align: left;\n",
       "    }\n",
       "\n",
       "    .dataframe tbody tr th {\n",
       "        vertical-align: top;\n",
       "    }\n",
       "</style>\n",
       "<table border=\"1\" class=\"dataframe\">\n",
       "  <thead>\n",
       "    <tr style=\"text-align: right;\">\n",
       "      <th></th>\n",
       "      <th>country</th>\n",
       "      <th>year</th>\n",
       "      <th>cpi</th>\n",
       "    </tr>\n",
       "  </thead>\n",
       "  <tbody>\n",
       "    <tr>\n",
       "      <th>0</th>\n",
       "      <td>dnk</td>\n",
       "      <td>2014</td>\n",
       "      <td>92.0</td>\n",
       "    </tr>\n",
       "    <tr>\n",
       "      <th>1</th>\n",
       "      <td>nzl</td>\n",
       "      <td>2014</td>\n",
       "      <td>91.0</td>\n",
       "    </tr>\n",
       "    <tr>\n",
       "      <th>2</th>\n",
       "      <td>fin</td>\n",
       "      <td>2014</td>\n",
       "      <td>89.0</td>\n",
       "    </tr>\n",
       "    <tr>\n",
       "      <th>3</th>\n",
       "      <td>swe</td>\n",
       "      <td>2014</td>\n",
       "      <td>87.0</td>\n",
       "    </tr>\n",
       "    <tr>\n",
       "      <th>4</th>\n",
       "      <td>nor</td>\n",
       "      <td>2014</td>\n",
       "      <td>86.0</td>\n",
       "    </tr>\n",
       "  </tbody>\n",
       "</table>\n",
       "</div>"
      ],
      "text/plain": [
       "  country  year   cpi\n",
       "0     dnk  2014  92.0\n",
       "1     nzl  2014  91.0\n",
       "2     fin  2014  89.0\n",
       "3     swe  2014  87.0\n",
       "4     nor  2014  86.0"
      ]
     },
     "execution_count": 66,
     "metadata": {},
     "output_type": "execute_result"
    }
   ],
   "source": [
    "chef.ingredients[0].get_data()['cpi'].head()  # the original"
   ]
  },
  {
   "cell_type": "code",
   "execution_count": null,
   "metadata": {
    "collapsed": true
   },
   "outputs": [],
   "source": []
  }
 ],
 "metadata": {
  "kernelspec": {
   "display_name": "Python 3",
   "language": "python",
   "name": "python3"
  },
  "language_info": {
   "codemirror_mode": {
    "name": "ipython",
    "version": 3
   },
   "file_extension": ".py",
   "mimetype": "text/x-python",
   "name": "python",
   "nbconvert_exporter": "python",
   "pygments_lexer": "ipython3",
   "version": "3.6.0"
  }
 },
 "nbformat": 4,
 "nbformat_minor": 2
}
