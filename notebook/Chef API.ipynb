{
 "cells": [
  {
   "cell_type": "markdown",
   "metadata": {},
   "source": [
    "# Using chef in jupyter notebook\n",
    "\n",
    "To run chef in the notebook, use the `Chef` class from `ddf_utils.chef.api`"
   ]
  },
  {
   "cell_type": "code",
   "execution_count": 1,
   "metadata": {},
   "outputs": [],
   "source": [
    "import os\n",
    "import sys\n",
    "import ruamel.yaml as yaml\n",
    "from ddf_utils.chef.api import Chef"
   ]
  },
  {
   "cell_type": "code",
   "execution_count": null,
   "metadata": {
    "collapsed": true
   },
   "outputs": [],
   "source": []
  },
  {
   "cell_type": "code",
   "execution_count": 2,
   "metadata": {
    "collapsed": true
   },
   "outputs": [],
   "source": [
    "# at the beginning, initial the chef\n",
    "chef = Chef()"
   ]
  },
  {
   "cell_type": "code",
   "execution_count": 3,
   "metadata": {},
   "outputs": [
    {
     "data": {
      "text/plain": [
       "<ddf_utils.chef.cook.Chef at 0x1121a2160>"
      ]
     },
     "execution_count": 3,
     "metadata": {},
     "output_type": "execute_result"
    }
   ],
   "source": [
    "# adding configs and metadata(to the info section)\n",
    "\n",
    "(chef.add_config(ddf_dir=os.path.expanduser('~/src/work/Gapminder/datasets'))\n",
    "     .add_metadata(id='test_dataset', \n",
    "                   base=['ddf--transpint--corrupton']))"
   ]
  },
  {
   "cell_type": "code",
   "execution_count": 4,
   "metadata": {},
   "outputs": [
    {
     "data": {
      "text/plain": [
       "<ddf_utils.chef.cook.Chef at 0x1121a2160>"
      ]
     },
     "execution_count": 4,
     "metadata": {},
     "output_type": "execute_result"
    }
   ],
   "source": [
    "# adding ingredient, parameters are just like in recipe\n",
    "\n",
    "i = '''\n",
    "id: cpi-datapoints\n",
    "dataset: ddf--transpint--corrupton\n",
    "key: country, year\n",
    "value: \"*\"\n",
    "'''\n",
    "\n",
    "d = yaml.round_trip_load(i)\n",
    "chef.add_ingredient(**d)"
   ]
  },
  {
   "cell_type": "code",
   "execution_count": 5,
   "metadata": {},
   "outputs": [
    {
     "data": {
      "text/plain": [
       "<ddf_utils.chef.cook.Chef at 0x1121a2160>"
      ]
     },
     "execution_count": 5,
     "metadata": {},
     "output_type": "execute_result"
    }
   ],
   "source": [
    "# add an other ingredient\n",
    "\n",
    "chef.add_ingredient(id='bp-datapoints', dataset='ddf--bp--energy', key='geo, year', value='*')"
   ]
  },
  {
   "cell_type": "code",
   "execution_count": null,
   "metadata": {
    "collapsed": true
   },
   "outputs": [],
   "source": []
  },
  {
   "cell_type": "code",
   "execution_count": 6,
   "metadata": {},
   "outputs": [
    {
     "data": {
      "text/plain": [
       "<ddf_utils.chef.cook.Chef at 0x1121a2160>"
      ]
     },
     "execution_count": 6,
     "metadata": {},
     "output_type": "execute_result"
    }
   ],
   "source": [
    "# add procedures, parameters are same as in recipe\n",
    "\n",
    "chef.add_procedure(collection='datapoints',   # which part of cooking section the procedure is in\n",
    "                   procedure='translate_header', \n",
    "                   ingredients=['bp-datapoints'], \n",
    "                   result='bp-datapoints-translate', \n",
    "                   options={'dictionary': {'geo': 'country'}})"
   ]
  },
  {
   "cell_type": "code",
   "execution_count": 7,
   "metadata": {},
   "outputs": [
    {
     "data": {
      "text/plain": [
       "<ddf_utils.chef.cook.Chef at 0x1121a2160>"
      ]
     },
     "execution_count": 7,
     "metadata": {},
     "output_type": "execute_result"
    }
   ],
   "source": [
    "# add an other procedure\n",
    "\n",
    "chef.add_procedure(collection='datapoints', \n",
    "                   procedure='merge', \n",
    "                   ingredients=['bp-datapoints-translate', 'cpi-datapoints'], \n",
    "                   result='res')"
   ]
  },
  {
   "cell_type": "code",
   "execution_count": 8,
   "metadata": {},
   "outputs": [
    {
     "name": "stdout",
     "output_type": "stream",
     "text": [
      "info:\n",
      "  id: test_dataset\n",
      "  base:\n",
      "  - ddf--transpint--corrupton\n",
      "config:\n",
      "  ddf_dir: /Users/semio/src/work/Gapminder/datasets\n",
      "ingredients:\n",
      "- id: cpi-datapoints\n",
      "  dataset: ddf--transpint--corrupton\n",
      "  key: country, year\n",
      "  values: '*'\n",
      "- id: bp-datapoints\n",
      "  dataset: ddf--bp--energy\n",
      "  key: geo, year\n",
      "  values: '*'\n",
      "cooking:\n",
      "  datapoints:\n",
      "  - procedure: translate_header\n",
      "    ingredients:\n",
      "    - bp-datapoints\n",
      "    options:\n",
      "      dictionary:\n",
      "        geo: country\n",
      "    result: bp-datapoints-translate\n",
      "  - procedure: merge\n",
      "    ingredients:\n",
      "    - bp-datapoints-translate\n",
      "    - cpi-datapoints\n",
      "    result: res\n"
     ]
    }
   ],
   "source": [
    "# you can print the recipe in yaml format\n",
    "\n",
    "a = chef.to_recipe()"
   ]
  },
  {
   "cell_type": "code",
   "execution_count": 9,
   "metadata": {},
   "outputs": [
    {
     "data": {
      "image/svg+xml": [
       "<?xml version=\"1.0\" encoding=\"UTF-8\" standalone=\"no\"?>\n",
       "<!DOCTYPE svg PUBLIC \"-//W3C//DTD SVG 1.1//EN\"\n",
       " \"http://www.w3.org/Graphics/SVG/1.1/DTD/svg11.dtd\">\n",
       "<!-- Generated by graphviz version 2.40.1 (20161225.0304)\n",
       " -->\n",
       "<!-- Title: %3 Pages: 1 -->\n",
       "<svg width=\"328pt\" height=\"188pt\"\n",
       " viewBox=\"0.00 0.00 328.35 188.00\" xmlns=\"http://www.w3.org/2000/svg\" xmlns:xlink=\"http://www.w3.org/1999/xlink\">\n",
       "<g id=\"graph0\" class=\"graph\" transform=\"scale(1 1) rotate(0) translate(4 184)\">\n",
       "<title>%3</title>\n",
       "<polygon fill=\"#ffffff\" stroke=\"transparent\" points=\"-4,4 -4,-184 324.35,-184 324.35,4 -4,4\"/>\n",
       "<!-- cpi&#45;datapoints -->\n",
       "<g id=\"node1\" class=\"node\">\n",
       "<title>cpi&#45;datapoints</title>\n",
       "<ellipse fill=\"none\" stroke=\"#000000\" cx=\"60.2054\" cy=\"-90\" rx=\"60.4115\" ry=\"18\"/>\n",
       "<text text-anchor=\"middle\" x=\"60.2054\" y=\"-85.8\" font-family=\"Times,serif\" font-size=\"14.00\" fill=\"#000000\">cpi&#45;datapoints</text>\n",
       "</g>\n",
       "<!-- res -->\n",
       "<g id=\"node2\" class=\"node\">\n",
       "<title>res</title>\n",
       "<ellipse fill=\"none\" stroke=\"#000000\" cx=\"144.2054\" cy=\"-18\" rx=\"27\" ry=\"18\"/>\n",
       "<text text-anchor=\"middle\" x=\"144.2054\" y=\"-13.8\" font-family=\"Times,serif\" font-size=\"14.00\" fill=\"#000000\">res</text>\n",
       "</g>\n",
       "<!-- cpi&#45;datapoints&#45;&gt;res -->\n",
       "<g id=\"edge1\" class=\"edge\">\n",
       "<title>cpi&#45;datapoints&#45;&gt;res</title>\n",
       "<path fill=\"none\" stroke=\"#000000\" d=\"M80.1122,-72.937C91.972,-62.7715 107.1174,-49.7897 119.7074,-38.9983\"/>\n",
       "<polygon fill=\"#000000\" stroke=\"#000000\" points=\"122.2369,-41.44 127.5517,-32.2746 117.6813,-36.1252 122.2369,-41.44\"/>\n",
       "</g>\n",
       "<!-- bp&#45;datapoints -->\n",
       "<g id=\"node3\" class=\"node\">\n",
       "<title>bp&#45;datapoints</title>\n",
       "<ellipse fill=\"none\" stroke=\"#000000\" cx=\"229.2054\" cy=\"-162\" rx=\"58.491\" ry=\"18\"/>\n",
       "<text text-anchor=\"middle\" x=\"229.2054\" y=\"-157.8\" font-family=\"Times,serif\" font-size=\"14.00\" fill=\"#000000\">bp&#45;datapoints</text>\n",
       "</g>\n",
       "<!-- bp&#45;datapoints&#45;translate -->\n",
       "<g id=\"node4\" class=\"node\">\n",
       "<title>bp&#45;datapoints&#45;translate</title>\n",
       "<ellipse fill=\"none\" stroke=\"#000000\" cx=\"229.2054\" cy=\"-90\" rx=\"91.2894\" ry=\"18\"/>\n",
       "<text text-anchor=\"middle\" x=\"229.2054\" y=\"-85.8\" font-family=\"Times,serif\" font-size=\"14.00\" fill=\"#000000\">bp&#45;datapoints&#45;translate</text>\n",
       "</g>\n",
       "<!-- bp&#45;datapoints&#45;&gt;bp&#45;datapoints&#45;translate -->\n",
       "<g id=\"edge2\" class=\"edge\">\n",
       "<title>bp&#45;datapoints&#45;&gt;bp&#45;datapoints&#45;translate</title>\n",
       "<path fill=\"none\" stroke=\"#000000\" d=\"M229.2054,-143.8314C229.2054,-136.131 229.2054,-126.9743 229.2054,-118.4166\"/>\n",
       "<polygon fill=\"#000000\" stroke=\"#000000\" points=\"232.7055,-118.4132 229.2054,-108.4133 225.7055,-118.4133 232.7055,-118.4132\"/>\n",
       "</g>\n",
       "<!-- bp&#45;datapoints&#45;translate&#45;&gt;res -->\n",
       "<g id=\"edge3\" class=\"edge\">\n",
       "<title>bp&#45;datapoints&#45;translate&#45;&gt;res</title>\n",
       "<path fill=\"none\" stroke=\"#000000\" d=\"M208.1942,-72.2022C196.257,-62.0908 181.2506,-49.3795 168.7708,-38.8083\"/>\n",
       "<polygon fill=\"#000000\" stroke=\"#000000\" points=\"170.885,-36.0123 160.9923,-32.2195 166.3606,-41.3537 170.885,-36.0123\"/>\n",
       "</g>\n",
       "</g>\n",
       "</svg>\n"
      ],
      "text/plain": [
       "<graphviz.dot.Digraph at 0x115458e10>"
      ]
     },
     "execution_count": 9,
     "metadata": {},
     "output_type": "execute_result"
    }
   ],
   "source": [
    "# also in graph\n",
    "\n",
    "chef.to_graph()"
   ]
  },
  {
   "cell_type": "code",
   "execution_count": 10,
   "metadata": {},
   "outputs": [],
   "source": [
    "# to run the recipe and get the output:\n",
    "\n",
    "res = chef.run()"
   ]
  },
  {
   "cell_type": "code",
   "execution_count": 11,
   "metadata": {},
   "outputs": [
    {
     "data": {
      "text/plain": [
       "[<ProcedureResult: res>]"
      ]
     },
     "execution_count": 11,
     "metadata": {},
     "output_type": "execute_result"
    }
   ],
   "source": [
    "res"
   ]
  },
  {
   "cell_type": "code",
   "execution_count": 12,
   "metadata": {},
   "outputs": [
    {
     "data": {
      "text/plain": [
       "dict_keys(['biofuels_production_kboed', 'biofuels_production_ktoe', 'carbon_dioxide_emissions', 'coal_consumption_mtoe', 'coal_production_mtoe', 'coal_production_tonnes', 'electricity_generation', 'gas_consumption_bcf', 'gas_consumption_bcm', 'gas_consumption_tonnes', 'gas_production_bcf', 'gas_production_bcm', 'gas_production_tonnes', 'gas_proved_reserves_history', 'geo_biomass_other_mtoe', 'geo_biomass_other_twh', 'hydro_consumption_mtoe', 'hydro_consumption_twh', 'nuclear_consumption_mtoe', 'nuclear_consumption_twh', 'oil_consumption_barrels', 'oil_consumption_tonnes', 'oil_production_barrels', 'oil_production_tonnes', 'oil_proved_reserves_history', 'oil_refinery_capacities', 'oil_refinery_throughput', 'other_renewables_mtoe', 'other_renewables_twh', 'primary_energy_consumption', 'solar_consumption_mtoe', 'solar_consumption_twh', 'wind_consumption_mtoe', 'wind_consumption_twh', 'cpi'])"
      ]
     },
     "execution_count": 12,
     "metadata": {},
     "output_type": "execute_result"
    }
   ],
   "source": [
    "res[0].get_data().keys()"
   ]
  },
  {
   "cell_type": "code",
   "execution_count": 16,
   "metadata": {},
   "outputs": [
    {
     "data": {
      "text/html": [
       "<div>\n",
       "<style>\n",
       "    .dataframe thead tr:only-child th {\n",
       "        text-align: right;\n",
       "    }\n",
       "\n",
       "    .dataframe thead th {\n",
       "        text-align: left;\n",
       "    }\n",
       "\n",
       "    .dataframe tbody tr th {\n",
       "        vertical-align: top;\n",
       "    }\n",
       "</style>\n",
       "<table border=\"1\" class=\"dataframe\">\n",
       "  <thead>\n",
       "    <tr style=\"text-align: right;\">\n",
       "      <th></th>\n",
       "      <th>country</th>\n",
       "      <th>year</th>\n",
       "      <th>biofuels_production_kboed</th>\n",
       "    </tr>\n",
       "  </thead>\n",
       "  <tbody>\n",
       "    <tr>\n",
       "      <th>867</th>\n",
       "      <td>us</td>\n",
       "      <td>1999</td>\n",
       "      <td>54.391</td>\n",
       "    </tr>\n",
       "    <tr>\n",
       "      <th>146</th>\n",
       "      <td>canada</td>\n",
       "      <td>2006</td>\n",
       "      <td>3.208</td>\n",
       "    </tr>\n",
       "    <tr>\n",
       "      <th>647</th>\n",
       "      <td>thailand</td>\n",
       "      <td>2013</td>\n",
       "      <td>25.129</td>\n",
       "    </tr>\n",
       "    <tr>\n",
       "      <th>596</th>\n",
       "      <td>spain</td>\n",
       "      <td>2014</td>\n",
       "      <td>19.836</td>\n",
       "    </tr>\n",
       "    <tr>\n",
       "      <th>261</th>\n",
       "      <td>germany</td>\n",
       "      <td>1991</td>\n",
       "      <td>0.000</td>\n",
       "    </tr>\n",
       "  </tbody>\n",
       "</table>\n",
       "</div>"
      ],
      "text/plain": [
       "      country  year  biofuels_production_kboed\n",
       "867        us  1999                     54.391\n",
       "146    canada  2006                      3.208\n",
       "647  thailand  2013                     25.129\n",
       "596     spain  2014                     19.836\n",
       "261   germany  1991                      0.000"
      ]
     },
     "execution_count": 16,
     "metadata": {},
     "output_type": "execute_result"
    }
   ],
   "source": [
    "res[0].get_data()['biofuels_production_kboed'].sample(5)"
   ]
  },
  {
   "cell_type": "code",
   "execution_count": 17,
   "metadata": {},
   "outputs": [
    {
     "data": {
      "text/html": [
       "<div>\n",
       "<style>\n",
       "    .dataframe thead tr:only-child th {\n",
       "        text-align: right;\n",
       "    }\n",
       "\n",
       "    .dataframe thead th {\n",
       "        text-align: left;\n",
       "    }\n",
       "\n",
       "    .dataframe tbody tr th {\n",
       "        vertical-align: top;\n",
       "    }\n",
       "</style>\n",
       "<table border=\"1\" class=\"dataframe\">\n",
       "  <thead>\n",
       "    <tr style=\"text-align: right;\">\n",
       "      <th></th>\n",
       "      <th>country</th>\n",
       "      <th>year</th>\n",
       "      <th>cpi</th>\n",
       "    </tr>\n",
       "  </thead>\n",
       "  <tbody>\n",
       "    <tr>\n",
       "      <th>456</th>\n",
       "      <td>solomon_islands</td>\n",
       "      <td>2010</td>\n",
       "      <td>2.80000</td>\n",
       "    </tr>\n",
       "    <tr>\n",
       "      <th>146</th>\n",
       "      <td>ken</td>\n",
       "      <td>2014</td>\n",
       "      <td>25.00000</td>\n",
       "    </tr>\n",
       "    <tr>\n",
       "      <th>564</th>\n",
       "      <td>dma</td>\n",
       "      <td>2011</td>\n",
       "      <td>5.17456</td>\n",
       "    </tr>\n",
       "    <tr>\n",
       "      <th>97</th>\n",
       "      <td>lbr</td>\n",
       "      <td>2014</td>\n",
       "      <td>37.00000</td>\n",
       "    </tr>\n",
       "    <tr>\n",
       "      <th>891</th>\n",
       "      <td>isl</td>\n",
       "      <td>2013</td>\n",
       "      <td>78.00000</td>\n",
       "    </tr>\n",
       "  </tbody>\n",
       "</table>\n",
       "</div>"
      ],
      "text/plain": [
       "             country  year       cpi\n",
       "456  solomon_islands  2010   2.80000\n",
       "146              ken  2014  25.00000\n",
       "564              dma  2011   5.17456\n",
       "97               lbr  2014  37.00000\n",
       "891              isl  2013  78.00000"
      ]
     },
     "execution_count": 17,
     "metadata": {},
     "output_type": "execute_result"
    }
   ],
   "source": [
    "res[0].get_data()['cpi'].sample(5)"
   ]
  },
  {
   "cell_type": "code",
   "execution_count": null,
   "metadata": {
    "collapsed": true
   },
   "outputs": [],
   "source": []
  },
  {
   "cell_type": "code",
   "execution_count": null,
   "metadata": {
    "collapsed": true
   },
   "outputs": [],
   "source": []
  },
  {
   "cell_type": "code",
   "execution_count": 2,
   "metadata": {},
   "outputs": [
    {
     "name": "stdout",
     "output_type": "stream",
     "text": [
      "info:\n",
      "    id: test-flatten\n",
      "\n",
      "\n",
      "ingredients:\n",
      "    - id: cme-datapoints\n",
      "      dataset: ddf--cme\n",
      "      key: \"country,year\"\n",
      "      value: \"*\"\n",
      "\n",
      "\n",
      "\n",
      "cooking:\n",
      "    datapoints:\n",
      "        - procedure: filter_row\n",
      "          ingredients:\n",
      "              - cme-datapoints\n",
      "          result: filtered\n",
      "          options:\n",
      "              filters:\n",
      "                imr_lower:\n",
      "                    country: afg\n",
      "                    year:\n",
      "                        - 1990\n",
      "                        - 1991\n",
      "                imr_upper:\n",
      "                    country:\n",
      "                        - usa\n",
      "                        - swe\n",
      "                    year:\n",
      "                        - 1990\n",
      "                        - 1991\n",
      "                        - 1992\n",
      "                        - 1993\n",
      "                        - 1994\n",
      "                        - 1995\n",
      "                        - 1996\n",
      "        - procedure: flatten\n",
      "          ingredients:\n",
      "              - filtered\n",
      "          options:\n",
      "              dictionary:\n",
      "                  \"imr*\": \"{concept}_{country}\"\n",
      "              flatten_dimensions:\n",
      "                  - country\n",
      "          result: res\n",
      "\n"
     ]
    }
   ],
   "source": [
    "# we can also create a Chef instance from existing recipes\n",
    "\n",
    "recipe_file = '../tests/recipes_pass/test_flatten.yml'\n",
    "print(open(os.path.abspath(recipe_file)).read())"
   ]
  },
  {
   "cell_type": "code",
   "execution_count": 3,
   "metadata": {},
   "outputs": [
    {
     "name": "stderr",
     "output_type": "stream",
     "text": [
      "no serve procedure found, will serve the last result: res\n"
     ]
    }
   ],
   "source": [
    "chef = Chef.from_recipe(os.path.expandvars(recipe_file),\n",
    "                        ddf_dir=os.path.expanduser('/Users/semio/src/work/Gapminder/libs/ddf_utils/tests/datasets'))"
   ]
  },
  {
   "cell_type": "code",
   "execution_count": 4,
   "metadata": {},
   "outputs": [
    {
     "name": "stdout",
     "output_type": "stream",
     "text": [
      "info:\n",
      "  id: test-flatten\n",
      "config:\n",
      "  ddf_dir: /Users/semio/src/work/Gapminder/libs/ddf_utils/tests/datasets\n",
      "ingredients:\n",
      "- id: cme-datapoints\n",
      "  dataset: ddf--cme\n",
      "  key: country,year\n",
      "  values: '*'\n",
      "cooking:\n",
      "  datapoints:\n",
      "  - procedure: filter_row\n",
      "    ingredients:\n",
      "    - cme-datapoints\n",
      "    options:\n",
      "      filters:\n",
      "        imr_lower:\n",
      "          country: afg\n",
      "          year:\n",
      "          - 1990\n",
      "          - 1991\n",
      "        imr_upper:\n",
      "          country:\n",
      "          - usa\n",
      "          - swe\n",
      "          year:\n",
      "          - 1990\n",
      "          - 1991\n",
      "          - 1992\n",
      "          - 1993\n",
      "          - 1994\n",
      "          - 1995\n",
      "          - 1996\n",
      "    result: filtered\n",
      "  - procedure: flatten\n",
      "    ingredients:\n",
      "    - filtered\n",
      "    options:\n",
      "      dictionary:\n",
      "        imr*: '{concept}_{country}'\n",
      "      flatten_dimensions:\n",
      "      - country\n",
      "    result: res\n"
     ]
    }
   ],
   "source": [
    "chef.to_recipe()"
   ]
  },
  {
   "cell_type": "code",
   "execution_count": 7,
   "metadata": {
    "scrolled": false
   },
   "outputs": [],
   "source": [
    "res = chef.run()"
   ]
  },
  {
   "cell_type": "code",
   "execution_count": 8,
   "metadata": {},
   "outputs": [
    {
     "data": {
      "text/plain": [
       "dict_keys(['imr_lower_afg', 'imr_upper_swe', 'imr_upper_usa'])"
      ]
     },
     "execution_count": 8,
     "metadata": {},
     "output_type": "execute_result"
    }
   ],
   "source": [
    "res[0].get_data().keys()"
   ]
  },
  {
   "cell_type": "code",
   "execution_count": 9,
   "metadata": {},
   "outputs": [
    {
     "data": {
      "text/html": [
       "<div>\n",
       "<style>\n",
       "    .dataframe thead tr:only-child th {\n",
       "        text-align: right;\n",
       "    }\n",
       "\n",
       "    .dataframe thead th {\n",
       "        text-align: left;\n",
       "    }\n",
       "\n",
       "    .dataframe tbody tr th {\n",
       "        vertical-align: top;\n",
       "    }\n",
       "</style>\n",
       "<table border=\"1\" class=\"dataframe\">\n",
       "  <thead>\n",
       "    <tr style=\"text-align: right;\">\n",
       "      <th></th>\n",
       "      <th>year</th>\n",
       "      <th>imr_lower_afg</th>\n",
       "    </tr>\n",
       "  </thead>\n",
       "  <tbody>\n",
       "    <tr>\n",
       "      <th>29</th>\n",
       "      <td>1990</td>\n",
       "      <td>111.6</td>\n",
       "    </tr>\n",
       "    <tr>\n",
       "      <th>30</th>\n",
       "      <td>1991</td>\n",
       "      <td>108.0</td>\n",
       "    </tr>\n",
       "  </tbody>\n",
       "</table>\n",
       "</div>"
      ],
      "text/plain": [
       "    year  imr_lower_afg\n",
       "29  1990          111.6\n",
       "30  1991          108.0"
      ]
     },
     "execution_count": 9,
     "metadata": {},
     "output_type": "execute_result"
    }
   ],
   "source": [
    "res[0].get_data()['imr_lower_afg']"
   ]
  },
  {
   "cell_type": "code",
   "execution_count": null,
   "metadata": {
    "collapsed": true
   },
   "outputs": [],
   "source": []
  },
  {
   "cell_type": "code",
   "execution_count": null,
   "metadata": {
    "collapsed": true
   },
   "outputs": [],
   "source": []
  },
  {
   "cell_type": "markdown",
   "metadata": {},
   "source": [
    "# quickly add lots of similar procedures"
   ]
  },
  {
   "cell_type": "code",
   "execution_count": 10,
   "metadata": {
    "collapsed": true
   },
   "outputs": [],
   "source": [
    "from ddf_utils.chef.helpers import gen_result_sym"
   ]
  },
  {
   "cell_type": "code",
   "execution_count": 11,
   "metadata": {
    "collapsed": true
   },
   "outputs": [],
   "source": [
    "chef = Chef()"
   ]
  },
  {
   "cell_type": "code",
   "execution_count": 12,
   "metadata": {},
   "outputs": [
    {
     "data": {
      "text/plain": [
       "<ddf_utils.chef.cook.Chef at 0x109b3c908>"
      ]
     },
     "execution_count": 12,
     "metadata": {},
     "output_type": "execute_result"
    }
   ],
   "source": [
    "chef.add_config(ddf_dir=os.path.expanduser('~/src/work/Gapminder/datasets'))"
   ]
  },
  {
   "cell_type": "code",
   "execution_count": 13,
   "metadata": {},
   "outputs": [
    {
     "data": {
      "text/plain": [
       "<ddf_utils.chef.cook.Chef at 0x109b3c908>"
      ]
     },
     "execution_count": 13,
     "metadata": {},
     "output_type": "execute_result"
    }
   ],
   "source": [
    "chef.add_ingredient(id='population_by_age_dps', \n",
    "                    dataset='ddf--unpop--wpp_population_semio',\n",
    "                    key='country_code,year,age',\n",
    "                    value=['population'])"
   ]
  },
  {
   "cell_type": "code",
   "execution_count": 14,
   "metadata": {
    "collapsed": true
   },
   "outputs": [],
   "source": [
    "collection = 'datapoints'\n",
    "\n",
    "\n",
    "groups = [list(map(str, range(0, 5))),\n",
    "          list(map(str, range(5, 10))),\n",
    "          list(map(str, range(10, 20)))\n",
    "         ]\n",
    "\n",
    "names = ['population_0_4', 'population_5_9', 'population_10_19']\n",
    "\n",
    "ingredients_0 = ['population_by_age_dps']\n",
    "\n",
    "to_merge = []\n",
    "\n",
    "for g, n in zip(groups, names):\n",
    "    \n",
    "    procedure = 'filter_row'\n",
    "    options = {\n",
    "        'filters': {\n",
    "            'population': {\n",
    "                'age': g}}}\n",
    "    result = gen_result_sym('filter_row', ingredients_0, options)\n",
    "\n",
    "        \n",
    "    chef.add_procedure(collection=collection,\n",
    "                       procedure=procedure,\n",
    "                       ingredients=ingredients_0,\n",
    "                       options=options,\n",
    "                       result=result\n",
    "                      )\n",
    "    \n",
    "    ingredients = [result]\n",
    "    procedure = 'groupby'\n",
    "    options = {\n",
    "        'groupby': ['country_code', 'year'],\n",
    "        'aggregate': {'population': 'sum'}\n",
    "    }\n",
    "    result = gen_result_sym(procedure, ingredients, options)\n",
    "    \n",
    "    chef.add_procedure(collection=collection,\n",
    "                       procedure=procedure,\n",
    "                       ingredients=ingredients,\n",
    "                       options=options,\n",
    "                       result=result\n",
    "                      )\n",
    "    \n",
    "    ingredients = [result]\n",
    "    procedure = 'translate_header'\n",
    "    options = {\n",
    "        'dictionary': {\n",
    "            'population': n\n",
    "        }\n",
    "    }\n",
    "    result = gen_result_sym(procedure, ingredients, options)\n",
    "\n",
    "    chef.add_procedure(collection=collection,\n",
    "                   procedure=procedure,\n",
    "                   ingredients=ingredients,\n",
    "                   options=options,\n",
    "                   result=result\n",
    "                  )\n",
    "    to_merge.append(result)"
   ]
  },
  {
   "cell_type": "code",
   "execution_count": 15,
   "metadata": {},
   "outputs": [
    {
     "data": {
      "text/plain": [
       "<ddf_utils.chef.cook.Chef at 0x109b3c908>"
      ]
     },
     "execution_count": 15,
     "metadata": {},
     "output_type": "execute_result"
    }
   ],
   "source": [
    "chef.add_procedure(collection=collection,\n",
    "                   procedure='merge',\n",
    "                   ingredients=to_merge,\n",
    "                   result='result'\n",
    "                  )"
   ]
  },
  {
   "cell_type": "code",
   "execution_count": 16,
   "metadata": {
    "scrolled": false
   },
   "outputs": [
    {
     "name": "stdout",
     "output_type": "stream",
     "text": [
      "info: {}\n",
      "config:\n",
      "  ddf_dir: /Users/semio/src/work/Gapminder/datasets\n",
      "ingredients:\n",
      "- id: population_by_age_dps\n",
      "  dataset: ddf--unpop--wpp_population_semio\n",
      "  key: country_code,year,age\n",
      "  values:\n",
      "  - population\n",
      "cooking:\n",
      "  datapoints:\n",
      "  - procedure: filter_row\n",
      "    ingredients: &id001\n",
      "    - population_by_age_dps\n",
      "    options:\n",
      "      filters:\n",
      "        population:\n",
      "          age:\n",
      "          - '0'\n",
      "          - '1'\n",
      "          - '2'\n",
      "          - '3'\n",
      "          - '4'\n",
      "    result: filter_bda72b\n",
      "  - procedure: groupby\n",
      "    ingredients:\n",
      "    - filter_bda72b\n",
      "    options:\n",
      "      groupby:\n",
      "      - country_code\n",
      "      - year\n",
      "      aggregate:\n",
      "        population: sum\n",
      "    result: groupby_e34fad\n",
      "  - procedure: translate_header\n",
      "    ingredients:\n",
      "    - groupby_e34fad\n",
      "    options:\n",
      "      dictionary:\n",
      "        population: population_0_4\n",
      "    result: translate_f5f27b\n",
      "  - procedure: filter_row\n",
      "    ingredients: *id001\n",
      "    options:\n",
      "      filters:\n",
      "        population:\n",
      "          age:\n",
      "          - '5'\n",
      "          - '6'\n",
      "          - '7'\n",
      "          - '8'\n",
      "          - '9'\n",
      "    result: filter_a5bf7e\n",
      "  - procedure: groupby\n",
      "    ingredients:\n",
      "    - filter_a5bf7e\n",
      "    options:\n",
      "      groupby:\n",
      "      - country_code\n",
      "      - year\n",
      "      aggregate:\n",
      "        population: sum\n",
      "    result: groupby_73ebc6\n",
      "  - procedure: translate_header\n",
      "    ingredients:\n",
      "    - groupby_73ebc6\n",
      "    options:\n",
      "      dictionary:\n",
      "        population: population_5_9\n",
      "    result: translate_473697\n",
      "  - procedure: filter_row\n",
      "    ingredients: *id001\n",
      "    options:\n",
      "      filters:\n",
      "        population:\n",
      "          age:\n",
      "          - '10'\n",
      "          - '11'\n",
      "          - '12'\n",
      "          - '13'\n",
      "          - '14'\n",
      "          - '15'\n",
      "          - '16'\n",
      "          - '17'\n",
      "          - '18'\n",
      "          - '19'\n",
      "    result: filter_e1d159\n",
      "  - procedure: groupby\n",
      "    ingredients:\n",
      "    - filter_e1d159\n",
      "    options:\n",
      "      groupby:\n",
      "      - country_code\n",
      "      - year\n",
      "      aggregate:\n",
      "        population: sum\n",
      "    result: groupby_845fab\n",
      "  - procedure: translate_header\n",
      "    ingredients:\n",
      "    - groupby_845fab\n",
      "    options:\n",
      "      dictionary:\n",
      "        population: population_10_19\n",
      "    result: translate_085d44\n",
      "  - procedure: merge\n",
      "    ingredients:\n",
      "    - translate_f5f27b\n",
      "    - translate_473697\n",
      "    - translate_085d44\n",
      "    result: result\n"
     ]
    }
   ],
   "source": [
    "chef.to_recipe()"
   ]
  },
  {
   "cell_type": "code",
   "execution_count": null,
   "metadata": {
    "collapsed": true
   },
   "outputs": [],
   "source": []
  },
  {
   "cell_type": "code",
   "execution_count": 17,
   "metadata": {},
   "outputs": [
    {
     "data": {
      "image/svg+xml": [
       "<?xml version=\"1.0\" encoding=\"UTF-8\" standalone=\"no\"?>\n",
       "<!DOCTYPE svg PUBLIC \"-//W3C//DTD SVG 1.1//EN\"\n",
       " \"http://www.w3.org/Graphics/SVG/1.1/DTD/svg11.dtd\">\n",
       "<!-- Generated by graphviz version 2.40.1 (20161225.0304)\n",
       " -->\n",
       "<!-- Title: %3 Pages: 1 -->\n",
       "<svg width=\"464pt\" height=\"332pt\"\n",
       " viewBox=\"0.00 0.00 464.07 332.00\" xmlns=\"http://www.w3.org/2000/svg\" xmlns:xlink=\"http://www.w3.org/1999/xlink\">\n",
       "<g id=\"graph0\" class=\"graph\" transform=\"scale(1 1) rotate(0) translate(4 328)\">\n",
       "<title>%3</title>\n",
       "<polygon fill=\"#ffffff\" stroke=\"transparent\" points=\"-4,4 -4,-328 460.0736,-328 460.0736,4 -4,4\"/>\n",
       "<!-- population_by_age_dps -->\n",
       "<g id=\"node1\" class=\"node\">\n",
       "<title>population_by_age_dps</title>\n",
       "<ellipse fill=\"none\" stroke=\"#000000\" cx=\"225.06\" cy=\"-306\" rx=\"94.6982\" ry=\"18\"/>\n",
       "<text text-anchor=\"middle\" x=\"225.06\" y=\"-301.8\" font-family=\"Times,serif\" font-size=\"14.00\" fill=\"#000000\">population_by_age_dps</text>\n",
       "</g>\n",
       "<!-- filter_bda72b -->\n",
       "<g id=\"node2\" class=\"node\">\n",
       "<title>filter_bda72b</title>\n",
       "<ellipse fill=\"none\" stroke=\"#000000\" cx=\"82.06\" cy=\"-234\" rx=\"57.0305\" ry=\"18\"/>\n",
       "<text text-anchor=\"middle\" x=\"82.06\" y=\"-229.8\" font-family=\"Times,serif\" font-size=\"14.00\" fill=\"#000000\">filter_bda72b</text>\n",
       "</g>\n",
       "<!-- population_by_age_dps&#45;&gt;filter_bda72b -->\n",
       "<g id=\"edge1\" class=\"edge\">\n",
       "<title>population_by_age_dps&#45;&gt;filter_bda72b</title>\n",
       "<path fill=\"none\" stroke=\"#000000\" d=\"M191.5329,-289.1192C170.5854,-278.5722 143.512,-264.9409 121.53,-253.873\"/>\n",
       "<polygon fill=\"#000000\" stroke=\"#000000\" points=\"122.9594,-250.6741 112.4536,-249.3031 119.8114,-256.9263 122.9594,-250.6741\"/>\n",
       "</g>\n",
       "<!-- filter_a5bf7e -->\n",
       "<g id=\"node3\" class=\"node\">\n",
       "<title>filter_a5bf7e</title>\n",
       "<ellipse fill=\"none\" stroke=\"#000000\" cx=\"225.06\" cy=\"-234\" rx=\"55.0836\" ry=\"18\"/>\n",
       "<text text-anchor=\"middle\" x=\"225.06\" y=\"-229.8\" font-family=\"Times,serif\" font-size=\"14.00\" fill=\"#000000\">filter_a5bf7e</text>\n",
       "</g>\n",
       "<!-- population_by_age_dps&#45;&gt;filter_a5bf7e -->\n",
       "<g id=\"edge2\" class=\"edge\">\n",
       "<title>population_by_age_dps&#45;&gt;filter_a5bf7e</title>\n",
       "<path fill=\"none\" stroke=\"#000000\" d=\"M225.06,-287.8314C225.06,-280.131 225.06,-270.9743 225.06,-262.4166\"/>\n",
       "<polygon fill=\"#000000\" stroke=\"#000000\" points=\"228.5601,-262.4132 225.06,-252.4133 221.5601,-262.4133 228.5601,-262.4132\"/>\n",
       "</g>\n",
       "<!-- filter_e1d159 -->\n",
       "<g id=\"node4\" class=\"node\">\n",
       "<title>filter_e1d159</title>\n",
       "<ellipse fill=\"none\" stroke=\"#000000\" cx=\"368.06\" cy=\"-234\" rx=\"57.0305\" ry=\"18\"/>\n",
       "<text text-anchor=\"middle\" x=\"368.06\" y=\"-229.8\" font-family=\"Times,serif\" font-size=\"14.00\" fill=\"#000000\">filter_e1d159</text>\n",
       "</g>\n",
       "<!-- population_by_age_dps&#45;&gt;filter_e1d159 -->\n",
       "<g id=\"edge3\" class=\"edge\">\n",
       "<title>population_by_age_dps&#45;&gt;filter_e1d159</title>\n",
       "<path fill=\"none\" stroke=\"#000000\" d=\"M258.5872,-289.1192C279.5347,-278.5722 306.608,-264.9409 328.59,-253.873\"/>\n",
       "<polygon fill=\"#000000\" stroke=\"#000000\" points=\"330.3087,-256.9263 337.6664,-249.3031 327.1607,-250.6741 330.3087,-256.9263\"/>\n",
       "</g>\n",
       "<!-- groupby_e34fad -->\n",
       "<g id=\"node5\" class=\"node\">\n",
       "<title>groupby_e34fad</title>\n",
       "<ellipse fill=\"none\" stroke=\"#000000\" cx=\"69.06\" cy=\"-162\" rx=\"68.1287\" ry=\"18\"/>\n",
       "<text text-anchor=\"middle\" x=\"69.06\" y=\"-157.8\" font-family=\"Times,serif\" font-size=\"14.00\" fill=\"#000000\">groupby_e34fad</text>\n",
       "</g>\n",
       "<!-- filter_bda72b&#45;&gt;groupby_e34fad -->\n",
       "<g id=\"edge4\" class=\"edge\">\n",
       "<title>filter_bda72b&#45;&gt;groupby_e34fad</title>\n",
       "<path fill=\"none\" stroke=\"#000000\" d=\"M78.7796,-215.8314C77.3892,-208.131 75.7359,-198.9743 74.1908,-190.4166\"/>\n",
       "<polygon fill=\"#000000\" stroke=\"#000000\" points=\"77.6059,-189.6322 72.3846,-180.4133 70.7172,-190.8761 77.6059,-189.6322\"/>\n",
       "</g>\n",
       "<!-- groupby_73ebc6 -->\n",
       "<g id=\"node8\" class=\"node\">\n",
       "<title>groupby_73ebc6</title>\n",
       "<ellipse fill=\"none\" stroke=\"#000000\" cx=\"225.06\" cy=\"-162\" rx=\"69.5823\" ry=\"18\"/>\n",
       "<text text-anchor=\"middle\" x=\"225.06\" y=\"-157.8\" font-family=\"Times,serif\" font-size=\"14.00\" fill=\"#000000\">groupby_73ebc6</text>\n",
       "</g>\n",
       "<!-- filter_a5bf7e&#45;&gt;groupby_73ebc6 -->\n",
       "<g id=\"edge7\" class=\"edge\">\n",
       "<title>filter_a5bf7e&#45;&gt;groupby_73ebc6</title>\n",
       "<path fill=\"none\" stroke=\"#000000\" d=\"M225.06,-215.8314C225.06,-208.131 225.06,-198.9743 225.06,-190.4166\"/>\n",
       "<polygon fill=\"#000000\" stroke=\"#000000\" points=\"228.5601,-190.4132 225.06,-180.4133 221.5601,-190.4133 228.5601,-190.4132\"/>\n",
       "</g>\n",
       "<!-- groupby_845fab -->\n",
       "<g id=\"node10\" class=\"node\">\n",
       "<title>groupby_845fab</title>\n",
       "<ellipse fill=\"none\" stroke=\"#000000\" cx=\"383.06\" cy=\"-162\" rx=\"68.6219\" ry=\"18\"/>\n",
       "<text text-anchor=\"middle\" x=\"383.06\" y=\"-157.8\" font-family=\"Times,serif\" font-size=\"14.00\" fill=\"#000000\">groupby_845fab</text>\n",
       "</g>\n",
       "<!-- filter_e1d159&#45;&gt;groupby_845fab -->\n",
       "<g id=\"edge10\" class=\"edge\">\n",
       "<title>filter_e1d159&#45;&gt;groupby_845fab</title>\n",
       "<path fill=\"none\" stroke=\"#000000\" d=\"M371.8452,-215.8314C373.4494,-208.131 375.357,-198.9743 377.1399,-190.4166\"/>\n",
       "<polygon fill=\"#000000\" stroke=\"#000000\" points=\"380.6107,-190.9169 379.2239,-180.4133 373.7579,-189.4892 380.6107,-190.9169\"/>\n",
       "</g>\n",
       "<!-- translate_f5f27b -->\n",
       "<g id=\"node6\" class=\"node\">\n",
       "<title>translate_f5f27b</title>\n",
       "<ellipse fill=\"none\" stroke=\"#000000\" cx=\"68.06\" cy=\"-90\" rx=\"68.1201\" ry=\"18\"/>\n",
       "<text text-anchor=\"middle\" x=\"68.06\" y=\"-85.8\" font-family=\"Times,serif\" font-size=\"14.00\" fill=\"#000000\">translate_f5f27b</text>\n",
       "</g>\n",
       "<!-- groupby_e34fad&#45;&gt;translate_f5f27b -->\n",
       "<g id=\"edge5\" class=\"edge\">\n",
       "<title>groupby_e34fad&#45;&gt;translate_f5f27b</title>\n",
       "<path fill=\"none\" stroke=\"#000000\" d=\"M68.8077,-143.8314C68.7007,-136.131 68.5736,-126.9743 68.4547,-118.4166\"/>\n",
       "<polygon fill=\"#000000\" stroke=\"#000000\" points=\"71.9544,-118.3637 68.3158,-108.4133 64.9551,-118.4609 71.9544,-118.3637\"/>\n",
       "</g>\n",
       "<!-- result -->\n",
       "<g id=\"node7\" class=\"node\">\n",
       "<title>result</title>\n",
       "<ellipse fill=\"none\" stroke=\"#000000\" cx=\"225.06\" cy=\"-18\" rx=\"29.5104\" ry=\"18\"/>\n",
       "<text text-anchor=\"middle\" x=\"225.06\" y=\"-13.8\" font-family=\"Times,serif\" font-size=\"14.00\" fill=\"#000000\">result</text>\n",
       "</g>\n",
       "<!-- translate_f5f27b&#45;&gt;result -->\n",
       "<g id=\"edge6\" class=\"edge\">\n",
       "<title>translate_f5f27b&#45;&gt;result</title>\n",
       "<path fill=\"none\" stroke=\"#000000\" d=\"M102.1267,-74.3771C128.7934,-62.1478 165.6604,-45.2406 192.0521,-33.1374\"/>\n",
       "<polygon fill=\"#000000\" stroke=\"#000000\" points=\"193.6324,-36.2633 201.2631,-28.9132 190.7143,-29.9004 193.6324,-36.2633\"/>\n",
       "</g>\n",
       "<!-- translate_473697 -->\n",
       "<g id=\"node9\" class=\"node\">\n",
       "<title>translate_473697</title>\n",
       "<ellipse fill=\"none\" stroke=\"#000000\" cx=\"225.06\" cy=\"-90\" rx=\"71.0272\" ry=\"18\"/>\n",
       "<text text-anchor=\"middle\" x=\"225.06\" y=\"-85.8\" font-family=\"Times,serif\" font-size=\"14.00\" fill=\"#000000\">translate_473697</text>\n",
       "</g>\n",
       "<!-- groupby_73ebc6&#45;&gt;translate_473697 -->\n",
       "<g id=\"edge8\" class=\"edge\">\n",
       "<title>groupby_73ebc6&#45;&gt;translate_473697</title>\n",
       "<path fill=\"none\" stroke=\"#000000\" d=\"M225.06,-143.8314C225.06,-136.131 225.06,-126.9743 225.06,-118.4166\"/>\n",
       "<polygon fill=\"#000000\" stroke=\"#000000\" points=\"228.5601,-118.4132 225.06,-108.4133 221.5601,-118.4133 228.5601,-118.4132\"/>\n",
       "</g>\n",
       "<!-- translate_473697&#45;&gt;result -->\n",
       "<g id=\"edge9\" class=\"edge\">\n",
       "<title>translate_473697&#45;&gt;result</title>\n",
       "<path fill=\"none\" stroke=\"#000000\" d=\"M225.06,-71.8314C225.06,-64.131 225.06,-54.9743 225.06,-46.4166\"/>\n",
       "<polygon fill=\"#000000\" stroke=\"#000000\" points=\"228.5601,-46.4132 225.06,-36.4133 221.5601,-46.4133 228.5601,-46.4132\"/>\n",
       "</g>\n",
       "<!-- translate_085d44 -->\n",
       "<g id=\"node11\" class=\"node\">\n",
       "<title>translate_085d44</title>\n",
       "<ellipse fill=\"none\" stroke=\"#000000\" cx=\"385.06\" cy=\"-90\" rx=\"71.0272\" ry=\"18\"/>\n",
       "<text text-anchor=\"middle\" x=\"385.06\" y=\"-85.8\" font-family=\"Times,serif\" font-size=\"14.00\" fill=\"#000000\">translate_085d44</text>\n",
       "</g>\n",
       "<!-- groupby_845fab&#45;&gt;translate_085d44 -->\n",
       "<g id=\"edge11\" class=\"edge\">\n",
       "<title>groupby_845fab&#45;&gt;translate_085d44</title>\n",
       "<path fill=\"none\" stroke=\"#000000\" d=\"M383.5647,-143.8314C383.7786,-136.131 384.033,-126.9743 384.2707,-118.4166\"/>\n",
       "<polygon fill=\"#000000\" stroke=\"#000000\" points=\"387.7694,-118.5066 384.5485,-108.4133 380.7721,-118.3122 387.7694,-118.5066\"/>\n",
       "</g>\n",
       "<!-- translate_085d44&#45;&gt;result -->\n",
       "<g id=\"edge12\" class=\"edge\">\n",
       "<title>translate_085d44&#45;&gt;result</title>\n",
       "<path fill=\"none\" stroke=\"#000000\" d=\"M349.9473,-74.1993C322.7472,-61.9592 285.3112,-45.113 258.5339,-33.0633\"/>\n",
       "<polygon fill=\"#000000\" stroke=\"#000000\" points=\"259.7451,-29.7703 249.1896,-28.8583 256.8725,-36.1537 259.7451,-29.7703\"/>\n",
       "</g>\n",
       "</g>\n",
       "</svg>\n"
      ],
      "text/plain": [
       "<graphviz.dot.Digraph at 0x10d9f5438>"
      ]
     },
     "execution_count": 17,
     "metadata": {},
     "output_type": "execute_result"
    }
   ],
   "source": [
    "chef.to_graph()"
   ]
  },
  {
   "cell_type": "code",
   "execution_count": null,
   "metadata": {
    "collapsed": true
   },
   "outputs": [],
   "source": []
  },
  {
   "cell_type": "code",
   "execution_count": 18,
   "metadata": {
    "collapsed": true
   },
   "outputs": [],
   "source": [
    "res = chef.run()"
   ]
  },
  {
   "cell_type": "code",
   "execution_count": 19,
   "metadata": {},
   "outputs": [
    {
     "data": {
      "text/plain": [
       "[<ProcedureResult: result>]"
      ]
     },
     "execution_count": 19,
     "metadata": {},
     "output_type": "execute_result"
    }
   ],
   "source": [
    "res"
   ]
  },
  {
   "cell_type": "code",
   "execution_count": 20,
   "metadata": {},
   "outputs": [
    {
     "data": {
      "text/plain": [
       "dict_keys(['population_0_4', 'population_5_9', 'population_10_19'])"
      ]
     },
     "execution_count": 20,
     "metadata": {},
     "output_type": "execute_result"
    }
   ],
   "source": [
    "res[0].get_data().keys()"
   ]
  },
  {
   "cell_type": "code",
   "execution_count": null,
   "metadata": {
    "collapsed": true
   },
   "outputs": [],
   "source": []
  },
  {
   "cell_type": "code",
   "execution_count": null,
   "metadata": {
    "collapsed": true
   },
   "outputs": [],
   "source": []
  },
  {
   "cell_type": "markdown",
   "metadata": {},
   "source": [
    "# Error handling"
   ]
  },
  {
   "cell_type": "code",
   "execution_count": null,
   "metadata": {
    "collapsed": true
   },
   "outputs": [],
   "source": []
  },
  {
   "cell_type": "code",
   "execution_count": 21,
   "metadata": {
    "collapsed": true
   },
   "outputs": [],
   "source": [
    "chef = Chef()"
   ]
  },
  {
   "cell_type": "code",
   "execution_count": 22,
   "metadata": {},
   "outputs": [
    {
     "name": "stderr",
     "output_type": "stream",
     "text": [
      "no ddf_dir in config, assuming current working dir\n",
      "WARNING:root:Ignoring following keys: ['snieot']\n"
     ]
    },
    {
     "data": {
      "text/plain": [
       "<ddf_utils.chef.cook.Chef at 0x111368a58>"
      ]
     },
     "execution_count": 22,
     "metadata": {},
     "output_type": "execute_result"
    }
   ],
   "source": [
    "i = '''\n",
    "id: cpi-datapoints\n",
    "dataset: ddf--transpint--corrupton\n",
    "key: country, year\n",
    "value: \"*\"\n",
    "snieot: 'soneot'\n",
    "'''\n",
    "\n",
    "d = yaml.round_trip_load(i)\n",
    "chef.add_ingredient(**d)"
   ]
  },
  {
   "cell_type": "code",
   "execution_count": 23,
   "metadata": {},
   "outputs": [
    {
     "name": "stderr",
     "output_type": "stream",
     "text": [
      "no ddf_dir in config, assuming current working dir\n"
     ]
    },
    {
     "name": "stdout",
     "output_type": "stream",
     "text": [
      "'Field \"key\" is mandatory. Please provide this field in the options.'\n"
     ]
    }
   ],
   "source": [
    "i = '''\n",
    "id: cpi-datapoints_\n",
    "dataset: ddf--transpint--corrupton\n",
    "oh_my_interesting_key: country, year   # error\n",
    "value: \"*\"\n",
    "'''\n",
    "\n",
    "d = yaml.round_trip_load(i)\n",
    "\n",
    "try:\n",
    "    chef.add_ingredient(**d)\n",
    "except KeyError as e:\n",
    "    print(str(e))"
   ]
  },
  {
   "cell_type": "code",
   "execution_count": 24,
   "metadata": {},
   "outputs": [
    {
     "name": "stderr",
     "output_type": "stream",
     "text": [
      "WARNING:root:my_new_procedure is not a valid procedure, please double check or register new procedure\n"
     ]
    },
    {
     "data": {
      "text/plain": [
       "<ddf_utils.chef.cook.Chef at 0x111368a58>"
      ]
     },
     "execution_count": 24,
     "metadata": {},
     "output_type": "execute_result"
    }
   ],
   "source": [
    "i = '''\n",
    "procedure: my_new_procedure\n",
    "ingredients:\n",
    "    - testing\n",
    "options:\n",
    "    opt: val\n",
    "result: result\n",
    "'''\n",
    "\n",
    "d = yaml.round_trip_load(i)\n",
    "chef.add_procedure('datapoints', **d)"
   ]
  },
  {
   "cell_type": "code",
   "execution_count": null,
   "metadata": {
    "collapsed": true
   },
   "outputs": [],
   "source": []
  },
  {
   "cell_type": "code",
   "execution_count": null,
   "metadata": {
    "collapsed": true
   },
   "outputs": [],
   "source": []
  },
  {
   "cell_type": "code",
   "execution_count": null,
   "metadata": {
    "collapsed": true
   },
   "outputs": [],
   "source": []
  },
  {
   "cell_type": "code",
   "execution_count": null,
   "metadata": {
    "collapsed": true
   },
   "outputs": [],
   "source": []
  },
  {
   "cell_type": "code",
   "execution_count": null,
   "metadata": {
    "collapsed": true
   },
   "outputs": [],
   "source": []
  },
  {
   "cell_type": "code",
   "execution_count": null,
   "metadata": {
    "collapsed": true
   },
   "outputs": [],
   "source": []
  },
  {
   "cell_type": "markdown",
   "metadata": {},
   "source": [
    "# Advance usage: create new procedure\n",
    "\n",
    "will add description later"
   ]
  },
  {
   "cell_type": "code",
   "execution_count": 25,
   "metadata": {
    "collapsed": true
   },
   "outputs": [],
   "source": [
    "from ddf_utils.chef.ingredient import Ingredient, ProcedureResult"
   ]
  },
  {
   "cell_type": "code",
   "execution_count": 26,
   "metadata": {
    "collapsed": true
   },
   "outputs": [],
   "source": [
    "def multiply_1000(dag, ingredients, result, **options):\n",
    "    ingredients = [dag.get_node(x) for x in ingredients]\n",
    "    ingredient = ingredients[0].evaluate()\n",
    "    \n",
    "    new_data = dict()\n",
    "    for k, df in ingredient.get_data().items():\n",
    "        df_ = df.copy()\n",
    "        df_[k] = df_[k] * 1000\n",
    "        new_data[k] = df_\n",
    "        \n",
    "    return ProcedureResult(result, ingredient.key, new_data)"
   ]
  },
  {
   "cell_type": "code",
   "execution_count": 27,
   "metadata": {},
   "outputs": [
    {
     "data": {
      "text/plain": [
       "<ddf_utils.chef.cook.Chef at 0x10ed999e8>"
      ]
     },
     "execution_count": 27,
     "metadata": {},
     "output_type": "execute_result"
    }
   ],
   "source": [
    "chef = Chef()\n",
    "chef.add_config(ddf_dir=os.path.expanduser('~/src/work/Gapminder/datasets'))"
   ]
  },
  {
   "cell_type": "code",
   "execution_count": 28,
   "metadata": {},
   "outputs": [
    {
     "data": {
      "text/plain": [
       "<ddf_utils.chef.cook.Chef at 0x10ed999e8>"
      ]
     },
     "execution_count": 28,
     "metadata": {},
     "output_type": "execute_result"
    }
   ],
   "source": [
    "i = '''\n",
    "id: cpi-datapoints\n",
    "dataset: ddf--transpint--corrupton\n",
    "key: country, year\n",
    "value: \"*\"\n",
    "'''\n",
    "\n",
    "d = yaml.round_trip_load(i)\n",
    "chef.add_ingredient(**d)"
   ]
  },
  {
   "cell_type": "code",
   "execution_count": 29,
   "metadata": {},
   "outputs": [],
   "source": [
    "chef.register_procedure(multiply_1000)"
   ]
  },
  {
   "cell_type": "code",
   "execution_count": 31,
   "metadata": {},
   "outputs": [
    {
     "data": {
      "text/plain": [
       "<ddf_utils.chef.cook.Chef at 0x10ed999e8>"
      ]
     },
     "execution_count": 31,
     "metadata": {},
     "output_type": "execute_result"
    }
   ],
   "source": [
    "chef.add_procedure(collection='datapoints',\n",
    "                   procedure='multiply_1000',\n",
    "                   result='res',\n",
    "                   ingredients=['cpi-datapoints']\n",
    "                  )"
   ]
  },
  {
   "cell_type": "code",
   "execution_count": 32,
   "metadata": {
    "collapsed": true
   },
   "outputs": [],
   "source": [
    "res = chef.run()"
   ]
  },
  {
   "cell_type": "code",
   "execution_count": 33,
   "metadata": {},
   "outputs": [
    {
     "data": {
      "text/html": [
       "<div>\n",
       "<style>\n",
       "    .dataframe thead tr:only-child th {\n",
       "        text-align: right;\n",
       "    }\n",
       "\n",
       "    .dataframe thead th {\n",
       "        text-align: left;\n",
       "    }\n",
       "\n",
       "    .dataframe tbody tr th {\n",
       "        vertical-align: top;\n",
       "    }\n",
       "</style>\n",
       "<table border=\"1\" class=\"dataframe\">\n",
       "  <thead>\n",
       "    <tr style=\"text-align: right;\">\n",
       "      <th></th>\n",
       "      <th>country</th>\n",
       "      <th>year</th>\n",
       "      <th>cpi</th>\n",
       "    </tr>\n",
       "  </thead>\n",
       "  <tbody>\n",
       "    <tr>\n",
       "      <th>0</th>\n",
       "      <td>dnk</td>\n",
       "      <td>2014</td>\n",
       "      <td>92000.0</td>\n",
       "    </tr>\n",
       "    <tr>\n",
       "      <th>1</th>\n",
       "      <td>nzl</td>\n",
       "      <td>2014</td>\n",
       "      <td>91000.0</td>\n",
       "    </tr>\n",
       "    <tr>\n",
       "      <th>2</th>\n",
       "      <td>fin</td>\n",
       "      <td>2014</td>\n",
       "      <td>89000.0</td>\n",
       "    </tr>\n",
       "    <tr>\n",
       "      <th>3</th>\n",
       "      <td>swe</td>\n",
       "      <td>2014</td>\n",
       "      <td>87000.0</td>\n",
       "    </tr>\n",
       "    <tr>\n",
       "      <th>4</th>\n",
       "      <td>nor</td>\n",
       "      <td>2014</td>\n",
       "      <td>86000.0</td>\n",
       "    </tr>\n",
       "  </tbody>\n",
       "</table>\n",
       "</div>"
      ],
      "text/plain": [
       "  country  year      cpi\n",
       "0     dnk  2014  92000.0\n",
       "1     nzl  2014  91000.0\n",
       "2     fin  2014  89000.0\n",
       "3     swe  2014  87000.0\n",
       "4     nor  2014  86000.0"
      ]
     },
     "execution_count": 33,
     "metadata": {},
     "output_type": "execute_result"
    }
   ],
   "source": [
    "res[0].get_data()['cpi'].head(5)"
   ]
  },
  {
   "cell_type": "code",
   "execution_count": 34,
   "metadata": {},
   "outputs": [
    {
     "data": {
      "text/plain": [
       "[<Ingredient: cpi-datapoints>]"
      ]
     },
     "execution_count": 34,
     "metadata": {},
     "output_type": "execute_result"
    }
   ],
   "source": [
    "chef.ingredients"
   ]
  },
  {
   "cell_type": "code",
   "execution_count": 35,
   "metadata": {},
   "outputs": [
    {
     "data": {
      "text/html": [
       "<div>\n",
       "<style>\n",
       "    .dataframe thead tr:only-child th {\n",
       "        text-align: right;\n",
       "    }\n",
       "\n",
       "    .dataframe thead th {\n",
       "        text-align: left;\n",
       "    }\n",
       "\n",
       "    .dataframe tbody tr th {\n",
       "        vertical-align: top;\n",
       "    }\n",
       "</style>\n",
       "<table border=\"1\" class=\"dataframe\">\n",
       "  <thead>\n",
       "    <tr style=\"text-align: right;\">\n",
       "      <th></th>\n",
       "      <th>country</th>\n",
       "      <th>year</th>\n",
       "      <th>cpi</th>\n",
       "    </tr>\n",
       "  </thead>\n",
       "  <tbody>\n",
       "    <tr>\n",
       "      <th>0</th>\n",
       "      <td>dnk</td>\n",
       "      <td>2014</td>\n",
       "      <td>92.0</td>\n",
       "    </tr>\n",
       "    <tr>\n",
       "      <th>1</th>\n",
       "      <td>nzl</td>\n",
       "      <td>2014</td>\n",
       "      <td>91.0</td>\n",
       "    </tr>\n",
       "    <tr>\n",
       "      <th>2</th>\n",
       "      <td>fin</td>\n",
       "      <td>2014</td>\n",
       "      <td>89.0</td>\n",
       "    </tr>\n",
       "    <tr>\n",
       "      <th>3</th>\n",
       "      <td>swe</td>\n",
       "      <td>2014</td>\n",
       "      <td>87.0</td>\n",
       "    </tr>\n",
       "    <tr>\n",
       "      <th>4</th>\n",
       "      <td>nor</td>\n",
       "      <td>2014</td>\n",
       "      <td>86.0</td>\n",
       "    </tr>\n",
       "  </tbody>\n",
       "</table>\n",
       "</div>"
      ],
      "text/plain": [
       "  country  year   cpi\n",
       "0     dnk  2014  92.0\n",
       "1     nzl  2014  91.0\n",
       "2     fin  2014  89.0\n",
       "3     swe  2014  87.0\n",
       "4     nor  2014  86.0"
      ]
     },
     "execution_count": 35,
     "metadata": {},
     "output_type": "execute_result"
    }
   ],
   "source": [
    "chef.ingredients[0].get_data()['cpi'].head()  # the original"
   ]
  },
  {
   "cell_type": "code",
   "execution_count": 36,
   "metadata": {},
   "outputs": [
    {
     "data": {
      "image/svg+xml": [
       "<?xml version=\"1.0\" encoding=\"UTF-8\" standalone=\"no\"?>\n",
       "<!DOCTYPE svg PUBLIC \"-//W3C//DTD SVG 1.1//EN\"\n",
       " \"http://www.w3.org/Graphics/SVG/1.1/DTD/svg11.dtd\">\n",
       "<!-- Generated by graphviz version 2.40.1 (20161225.0304)\n",
       " -->\n",
       "<!-- Title: %3 Pages: 1 -->\n",
       "<svg width=\"128pt\" height=\"116pt\"\n",
       " viewBox=\"0.00 0.00 128.41 116.00\" xmlns=\"http://www.w3.org/2000/svg\" xmlns:xlink=\"http://www.w3.org/1999/xlink\">\n",
       "<g id=\"graph0\" class=\"graph\" transform=\"scale(1 1) rotate(0) translate(4 112)\">\n",
       "<title>%3</title>\n",
       "<polygon fill=\"#ffffff\" stroke=\"transparent\" points=\"-4,4 -4,-112 124.4108,-112 124.4108,4 -4,4\"/>\n",
       "<!-- cpi&#45;datapoints -->\n",
       "<g id=\"node1\" class=\"node\">\n",
       "<title>cpi&#45;datapoints</title>\n",
       "<ellipse fill=\"none\" stroke=\"#000000\" cx=\"60.2054\" cy=\"-90\" rx=\"60.4115\" ry=\"18\"/>\n",
       "<text text-anchor=\"middle\" x=\"60.2054\" y=\"-85.8\" font-family=\"Times,serif\" font-size=\"14.00\" fill=\"#000000\">cpi&#45;datapoints</text>\n",
       "</g>\n",
       "<!-- res -->\n",
       "<g id=\"node2\" class=\"node\">\n",
       "<title>res</title>\n",
       "<ellipse fill=\"none\" stroke=\"#000000\" cx=\"60.2054\" cy=\"-18\" rx=\"27\" ry=\"18\"/>\n",
       "<text text-anchor=\"middle\" x=\"60.2054\" y=\"-13.8\" font-family=\"Times,serif\" font-size=\"14.00\" fill=\"#000000\">res</text>\n",
       "</g>\n",
       "<!-- cpi&#45;datapoints&#45;&gt;res -->\n",
       "<g id=\"edge1\" class=\"edge\">\n",
       "<title>cpi&#45;datapoints&#45;&gt;res</title>\n",
       "<path fill=\"none\" stroke=\"#000000\" d=\"M60.2054,-71.8314C60.2054,-64.131 60.2054,-54.9743 60.2054,-46.4166\"/>\n",
       "<polygon fill=\"#000000\" stroke=\"#000000\" points=\"63.7055,-46.4132 60.2054,-36.4133 56.7055,-46.4133 63.7055,-46.4132\"/>\n",
       "</g>\n",
       "</g>\n",
       "</svg>\n"
      ],
      "text/plain": [
       "<graphviz.dot.Digraph at 0x112626a58>"
      ]
     },
     "execution_count": 36,
     "metadata": {},
     "output_type": "execute_result"
    }
   ],
   "source": [
    "chef.to_graph()"
   ]
  },
  {
   "cell_type": "code",
   "execution_count": null,
   "metadata": {
    "collapsed": true
   },
   "outputs": [],
   "source": []
  }
 ],
 "metadata": {
  "kernelspec": {
   "display_name": "Python 3",
   "language": "python",
   "name": "python3"
  },
  "language_info": {
   "codemirror_mode": {
    "name": "ipython",
    "version": 3
   },
   "file_extension": ".py",
   "mimetype": "text/x-python",
   "name": "python",
   "nbconvert_exporter": "python",
   "pygments_lexer": "ipython3",
   "version": "3.6.0"
  }
 },
 "nbformat": 4,
 "nbformat_minor": 2
}
