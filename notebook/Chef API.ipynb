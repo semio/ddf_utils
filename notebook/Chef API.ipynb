{
 "cells": [
  {
   "cell_type": "markdown",
   "metadata": {},
   "source": [
    "# Using chef in jupyter notebook\n",
    "\n",
    "To run chef in the notebook, use the `Chef` class from `ddf_utils.chef.api`"
   ]
  },
  {
   "cell_type": "code",
   "execution_count": 1,
   "metadata": {
    "collapsed": true
   },
   "outputs": [],
   "source": [
    "import os\n",
    "import sys\n",
    "import ruamel.yaml as yaml\n",
    "from ddf_utils.chef.api import Chef"
   ]
  },
  {
   "cell_type": "code",
   "execution_count": null,
   "metadata": {
    "collapsed": true
   },
   "outputs": [],
   "source": []
  },
  {
   "cell_type": "code",
   "execution_count": 2,
   "metadata": {
    "collapsed": true
   },
   "outputs": [],
   "source": [
    "# at the beginning, initial the chef\n",
    "chef = Chef()"
   ]
  },
  {
   "cell_type": "code",
   "execution_count": 3,
   "metadata": {},
   "outputs": [
    {
     "data": {
      "text/plain": [
       "<ddf_utils.chef.cook.Chef at 0x114b70278>"
      ]
     },
     "execution_count": 3,
     "metadata": {},
     "output_type": "execute_result"
    }
   ],
   "source": [
    "# adding configs and metadata(to the info section)\n",
    "\n",
    "(chef.add_config(ddf_dir=os.path.expanduser('~/src/work/Gapminder/datasets'))\n",
    "     .add_metadata(id='test_dataset', \n",
    "                   base=['ddf--transpint--corrupton']))"
   ]
  },
  {
   "cell_type": "code",
   "execution_count": 4,
   "metadata": {},
   "outputs": [
    {
     "data": {
      "text/plain": [
       "<ddf_utils.chef.cook.Chef at 0x114b70278>"
      ]
     },
     "execution_count": 4,
     "metadata": {},
     "output_type": "execute_result"
    }
   ],
   "source": [
    "# adding ingredient, parameters are just like in recipe\n",
    "\n",
    "i = '''\n",
    "id: cpi-datapoints\n",
    "dataset: ddf--transpint--corrupton\n",
    "key: country, year\n",
    "value: \"*\"\n",
    "'''\n",
    "\n",
    "d = yaml.round_trip_load(i)\n",
    "chef.add_ingredient(**d)"
   ]
  },
  {
   "cell_type": "code",
   "execution_count": 5,
   "metadata": {},
   "outputs": [
    {
     "data": {
      "text/plain": [
       "<ddf_utils.chef.cook.Chef at 0x114b70278>"
      ]
     },
     "execution_count": 5,
     "metadata": {},
     "output_type": "execute_result"
    }
   ],
   "source": [
    "# add an other ingredient\n",
    "\n",
    "chef.add_ingredient(id='bp-datapoints', dataset='ddf--bp--energy', key='geo, year', value='*')"
   ]
  },
  {
   "cell_type": "code",
   "execution_count": null,
   "metadata": {
    "collapsed": true
   },
   "outputs": [],
   "source": []
  },
  {
   "cell_type": "code",
   "execution_count": 6,
   "metadata": {},
   "outputs": [
    {
     "data": {
      "text/plain": [
       "<ddf_utils.chef.cook.Chef at 0x114b70278>"
      ]
     },
     "execution_count": 6,
     "metadata": {},
     "output_type": "execute_result"
    }
   ],
   "source": [
    "# add procedures, parameters are same as in recipe\n",
    "\n",
    "chef.add_procedure(collection='datapoints',   # which part of cooking section the procedure is in\n",
    "                   procedure='translate_header', \n",
    "                   ingredients=['bp-datapoints'], \n",
    "                   result='bp-datapoints-translate', \n",
    "                   options={'dictionary': {'geo': 'country'}})"
   ]
  },
  {
   "cell_type": "code",
   "execution_count": 7,
   "metadata": {},
   "outputs": [
    {
     "data": {
      "text/plain": [
       "<ddf_utils.chef.cook.Chef at 0x114b70278>"
      ]
     },
     "execution_count": 7,
     "metadata": {},
     "output_type": "execute_result"
    }
   ],
   "source": [
    "# add an other procedure\n",
    "\n",
    "chef.add_procedure(collection='datapoints', \n",
    "                   procedure='merge', \n",
    "                   ingredients=['bp-datapoints-translate', 'cpi-datapoints'], \n",
    "                   result='res')"
   ]
  },
  {
   "cell_type": "code",
   "execution_count": 8,
   "metadata": {},
   "outputs": [
    {
     "name": "stdout",
     "output_type": "stream",
     "text": [
      "info:\n",
      "  id: test_dataset\n",
      "  base:\n",
      "  - ddf--transpint--corrupton\n",
      "config:\n",
      "  ddf_dir: /Users/semio/src/work/Gapminder/datasets\n",
      "ingredients:\n",
      "- id: cpi-datapoints\n",
      "  dataset: ddf--transpint--corrupton\n",
      "  key: country, year\n",
      "  values: '*'\n",
      "- id: bp-datapoints\n",
      "  dataset: ddf--bp--energy\n",
      "  key: geo, year\n",
      "  values: '*'\n",
      "cooking:\n",
      "  datapoints:\n",
      "  - procedure: translate_header\n",
      "    ingredients:\n",
      "    - bp-datapoints\n",
      "    options:\n",
      "      dictionary:\n",
      "        geo: country\n",
      "    result: bp-datapoints-translate\n",
      "  - procedure: merge\n",
      "    ingredients:\n",
      "    - bp-datapoints-translate\n",
      "    - cpi-datapoints\n",
      "    result: res\n"
     ]
    }
   ],
   "source": [
    "# you can print the recipe in yaml format\n",
    "\n",
    "a = chef.to_recipe()"
   ]
  },
  {
   "cell_type": "code",
   "execution_count": 9,
   "metadata": {},
   "outputs": [
    {
     "data": {
      "image/svg+xml": [
       "<?xml version=\"1.0\" encoding=\"UTF-8\" standalone=\"no\"?>\n",
       "<!DOCTYPE svg PUBLIC \"-//W3C//DTD SVG 1.1//EN\"\n",
       " \"http://www.w3.org/Graphics/SVG/1.1/DTD/svg11.dtd\">\n",
       "<!-- Generated by graphviz version 2.40.1 (20161225.0304)\n",
       " -->\n",
       "<!-- Title: %3 Pages: 1 -->\n",
       "<svg width=\"328pt\" height=\"332pt\"\n",
       " viewBox=\"0.00 0.00 328.35 332.00\" xmlns=\"http://www.w3.org/2000/svg\" xmlns:xlink=\"http://www.w3.org/1999/xlink\">\n",
       "<g id=\"graph0\" class=\"graph\" transform=\"scale(1 1) rotate(0) translate(4 328)\">\n",
       "<title>%3</title>\n",
       "<polygon fill=\"#ffffff\" stroke=\"transparent\" points=\"-4,4 -4,-328 324.35,-328 324.35,4 -4,4\"/>\n",
       "<!-- cpi&#45;datapoints -->\n",
       "<g id=\"node1\" class=\"node\">\n",
       "<title>cpi&#45;datapoints</title>\n",
       "<ellipse fill=\"none\" stroke=\"#0000ff\" cx=\"60.2054\" cy=\"-162\" rx=\"60.4115\" ry=\"18\"/>\n",
       "<text text-anchor=\"middle\" x=\"60.2054\" y=\"-157.8\" font-family=\"Times,serif\" font-size=\"14.00\" fill=\"#000000\">cpi&#45;datapoints</text>\n",
       "</g>\n",
       "<!-- merge1503284571.615273 -->\n",
       "<g id=\"node6\" class=\"node\">\n",
       "<title>merge1503284571.615273</title>\n",
       "<polygon fill=\"none\" stroke=\"#000000\" points=\"171.2054,-108 117.2054,-108 117.2054,-72 171.2054,-72 171.2054,-108\"/>\n",
       "<text text-anchor=\"middle\" x=\"144.2054\" y=\"-85.8\" font-family=\"Times,serif\" font-size=\"14.00\" fill=\"#000000\">merge</text>\n",
       "</g>\n",
       "<!-- cpi&#45;datapoints&#45;&gt;merge1503284571.615273 -->\n",
       "<g id=\"edge5\" class=\"edge\">\n",
       "<title>cpi&#45;datapoints&#45;&gt;merge1503284571.615273</title>\n",
       "<path fill=\"none\" stroke=\"#000000\" d=\"M80.1122,-144.937C90.5976,-135.9495 103.6513,-124.7607 115.2366,-114.8304\"/>\n",
       "<polygon fill=\"#000000\" stroke=\"#000000\" points=\"117.6582,-117.3645 122.973,-108.1992 113.1027,-112.0497 117.6582,-117.3645\"/>\n",
       "</g>\n",
       "<!-- bp&#45;datapoints -->\n",
       "<g id=\"node2\" class=\"node\">\n",
       "<title>bp&#45;datapoints</title>\n",
       "<ellipse fill=\"none\" stroke=\"#0000ff\" cx=\"229.2054\" cy=\"-306\" rx=\"58.491\" ry=\"18\"/>\n",
       "<text text-anchor=\"middle\" x=\"229.2054\" y=\"-301.8\" font-family=\"Times,serif\" font-size=\"14.00\" fill=\"#000000\">bp&#45;datapoints</text>\n",
       "</g>\n",
       "<!-- translate_header1503284571.615176 -->\n",
       "<g id=\"node4\" class=\"node\">\n",
       "<title>translate_header1503284571.615176</title>\n",
       "<polygon fill=\"none\" stroke=\"#000000\" points=\"282.9304,-252 175.4804,-252 175.4804,-216 282.9304,-216 282.9304,-252\"/>\n",
       "<text text-anchor=\"middle\" x=\"229.2054\" y=\"-229.8\" font-family=\"Times,serif\" font-size=\"14.00\" fill=\"#000000\">translate_header</text>\n",
       "</g>\n",
       "<!-- bp&#45;datapoints&#45;&gt;translate_header1503284571.615176 -->\n",
       "<g id=\"edge2\" class=\"edge\">\n",
       "<title>bp&#45;datapoints&#45;&gt;translate_header1503284571.615176</title>\n",
       "<path fill=\"none\" stroke=\"#000000\" d=\"M229.2054,-287.8314C229.2054,-280.131 229.2054,-270.9743 229.2054,-262.4166\"/>\n",
       "<polygon fill=\"#000000\" stroke=\"#000000\" points=\"232.7055,-262.4132 229.2054,-252.4133 225.7055,-262.4133 232.7055,-262.4132\"/>\n",
       "</g>\n",
       "<!-- bp&#45;datapoints&#45;translate -->\n",
       "<g id=\"node3\" class=\"node\">\n",
       "<title>bp&#45;datapoints&#45;translate</title>\n",
       "<ellipse fill=\"none\" stroke=\"#000000\" cx=\"229.2054\" cy=\"-162\" rx=\"91.2894\" ry=\"18\"/>\n",
       "<text text-anchor=\"middle\" x=\"229.2054\" y=\"-157.8\" font-family=\"Times,serif\" font-size=\"14.00\" fill=\"#000000\">bp&#45;datapoints&#45;translate</text>\n",
       "</g>\n",
       "<!-- bp&#45;datapoints&#45;translate&#45;&gt;merge1503284571.615273 -->\n",
       "<g id=\"edge4\" class=\"edge\">\n",
       "<title>bp&#45;datapoints&#45;translate&#45;&gt;merge1503284571.615273</title>\n",
       "<path fill=\"none\" stroke=\"#000000\" d=\"M208.1942,-144.2022C197.6489,-135.2698 184.7084,-124.3085 173.2305,-114.586\"/>\n",
       "<polygon fill=\"#000000\" stroke=\"#000000\" points=\"175.458,-111.8859 165.5653,-108.0931 170.9336,-117.2273 175.458,-111.8859\"/>\n",
       "</g>\n",
       "<!-- translate_header1503284571.615176&#45;&gt;bp&#45;datapoints&#45;translate -->\n",
       "<g id=\"edge1\" class=\"edge\">\n",
       "<title>translate_header1503284571.615176&#45;&gt;bp&#45;datapoints&#45;translate</title>\n",
       "<path fill=\"none\" stroke=\"#000000\" d=\"M229.2054,-215.8314C229.2054,-208.131 229.2054,-198.9743 229.2054,-190.4166\"/>\n",
       "<polygon fill=\"#000000\" stroke=\"#000000\" points=\"232.7055,-190.4132 229.2054,-180.4133 225.7055,-190.4133 232.7055,-190.4132\"/>\n",
       "</g>\n",
       "<!-- res -->\n",
       "<g id=\"node5\" class=\"node\">\n",
       "<title>res</title>\n",
       "<ellipse fill=\"none\" stroke=\"#ff0000\" cx=\"144.2054\" cy=\"-18\" rx=\"27\" ry=\"18\"/>\n",
       "<text text-anchor=\"middle\" x=\"144.2054\" y=\"-13.8\" font-family=\"Times,serif\" font-size=\"14.00\" fill=\"#000000\">res</text>\n",
       "</g>\n",
       "<!-- merge1503284571.615273&#45;&gt;res -->\n",
       "<g id=\"edge3\" class=\"edge\">\n",
       "<title>merge1503284571.615273&#45;&gt;res</title>\n",
       "<path fill=\"none\" stroke=\"#000000\" d=\"M144.2054,-71.8314C144.2054,-64.131 144.2054,-54.9743 144.2054,-46.4166\"/>\n",
       "<polygon fill=\"#000000\" stroke=\"#000000\" points=\"147.7055,-46.4132 144.2054,-36.4133 140.7055,-46.4133 147.7055,-46.4132\"/>\n",
       "</g>\n",
       "</g>\n",
       "</svg>\n"
      ],
      "text/plain": [
       "<graphviz.dot.Digraph at 0x114b704e0>"
      ]
     },
     "execution_count": 9,
     "metadata": {},
     "output_type": "execute_result"
    }
   ],
   "source": [
    "# also in graph\n",
    "\n",
    "chef.to_graph()"
   ]
  },
  {
   "cell_type": "code",
   "execution_count": 10,
   "metadata": {},
   "outputs": [
    {
     "name": "stderr",
     "output_type": "stream",
     "text": [
      "2017-08-21 11:02:51 Chef INFO translate_header: bp-datapoints\n",
      "2017-08-21 11:02:52 Chef INFO merge: ['bp-datapoints-translate', 'cpi-datapoints']\n",
      "INFO:Chef:merge: ['bp-datapoints-translate', 'cpi-datapoints']\n"
     ]
    }
   ],
   "source": [
    "# to run the recipe and get the output:\n",
    "\n",
    "res = chef.run()"
   ]
  },
  {
   "cell_type": "code",
   "execution_count": 11,
   "metadata": {},
   "outputs": [
    {
     "data": {
      "text/plain": [
       "[<ProcedureResult: res>]"
      ]
     },
     "execution_count": 11,
     "metadata": {},
     "output_type": "execute_result"
    }
   ],
   "source": [
    "res"
   ]
  },
  {
   "cell_type": "code",
   "execution_count": 12,
   "metadata": {},
   "outputs": [
    {
     "data": {
      "text/plain": [
       "dict_keys(['biofuels_production_kboed', 'biofuels_production_ktoe', 'carbon_dioxide_emissions', 'coal_consumption_mtoe', 'coal_production_mtoe', 'coal_production_tonnes', 'electricity_generation', 'gas_consumption_bcf', 'gas_consumption_bcm', 'gas_consumption_tonnes', 'gas_production_bcf', 'gas_production_bcm', 'gas_production_tonnes', 'gas_proved_reserves_history', 'geo_biomass_other_mtoe', 'geo_biomass_other_twh', 'hydro_consumption_mtoe', 'hydro_consumption_twh', 'nuclear_consumption_mtoe', 'nuclear_consumption_twh', 'oil_consumption_barrels', 'oil_consumption_tonnes', 'oil_production_barrels', 'oil_production_tonnes', 'oil_proved_reserves_history', 'oil_refinery_capacities', 'oil_refinery_throughput', 'other_renewables_mtoe', 'other_renewables_twh', 'primary_energy_consumption', 'solar_consumption_mtoe', 'solar_consumption_twh', 'wind_consumption_mtoe', 'wind_consumption_twh', 'cpi'])"
      ]
     },
     "execution_count": 12,
     "metadata": {},
     "output_type": "execute_result"
    }
   ],
   "source": [
    "res[0].get_data().keys()"
   ]
  },
  {
   "cell_type": "code",
   "execution_count": 13,
   "metadata": {},
   "outputs": [
    {
     "data": {
      "text/html": [
       "<div>\n",
       "<style>\n",
       "    .dataframe thead tr:only-child th {\n",
       "        text-align: right;\n",
       "    }\n",
       "\n",
       "    .dataframe thead th {\n",
       "        text-align: left;\n",
       "    }\n",
       "\n",
       "    .dataframe tbody tr th {\n",
       "        vertical-align: top;\n",
       "    }\n",
       "</style>\n",
       "<table border=\"1\" class=\"dataframe\">\n",
       "  <thead>\n",
       "    <tr style=\"text-align: right;\">\n",
       "      <th></th>\n",
       "      <th>country</th>\n",
       "      <th>year</th>\n",
       "      <th>biofuels_production_kboed</th>\n",
       "    </tr>\n",
       "  </thead>\n",
       "  <tbody>\n",
       "    <tr>\n",
       "      <th>579</th>\n",
       "      <td>spain</td>\n",
       "      <td>1997</td>\n",
       "      <td>0.76882</td>\n",
       "    </tr>\n",
       "    <tr>\n",
       "      <th>519</th>\n",
       "      <td>poland</td>\n",
       "      <td>2015</td>\n",
       "      <td>17.70100</td>\n",
       "    </tr>\n",
       "    <tr>\n",
       "      <th>839</th>\n",
       "      <td>united_kingdom</td>\n",
       "      <td>1997</td>\n",
       "      <td>0.00000</td>\n",
       "    </tr>\n",
       "    <tr>\n",
       "      <th>134</th>\n",
       "      <td>canada</td>\n",
       "      <td>1994</td>\n",
       "      <td>0.00000</td>\n",
       "    </tr>\n",
       "    <tr>\n",
       "      <th>434</th>\n",
       "      <td>other_asia_pacific</td>\n",
       "      <td>2008</td>\n",
       "      <td>7.47240</td>\n",
       "    </tr>\n",
       "  </tbody>\n",
       "</table>\n",
       "</div>"
      ],
      "text/plain": [
       "                country  year  biofuels_production_kboed\n",
       "579               spain  1997                    0.76882\n",
       "519              poland  2015                   17.70100\n",
       "839      united_kingdom  1997                    0.00000\n",
       "134              canada  1994                    0.00000\n",
       "434  other_asia_pacific  2008                    7.47240"
      ]
     },
     "execution_count": 13,
     "metadata": {},
     "output_type": "execute_result"
    }
   ],
   "source": [
    "res[0].get_data()['biofuels_production_kboed'].sample(5)"
   ]
  },
  {
   "cell_type": "code",
   "execution_count": 14,
   "metadata": {},
   "outputs": [
    {
     "data": {
      "text/html": [
       "<div>\n",
       "<style>\n",
       "    .dataframe thead tr:only-child th {\n",
       "        text-align: right;\n",
       "    }\n",
       "\n",
       "    .dataframe thead th {\n",
       "        text-align: left;\n",
       "    }\n",
       "\n",
       "    .dataframe tbody tr th {\n",
       "        vertical-align: top;\n",
       "    }\n",
       "</style>\n",
       "<table border=\"1\" class=\"dataframe\">\n",
       "  <thead>\n",
       "    <tr style=\"text-align: right;\">\n",
       "      <th></th>\n",
       "      <th>country</th>\n",
       "      <th>year</th>\n",
       "      <th>cpi</th>\n",
       "    </tr>\n",
       "  </thead>\n",
       "  <tbody>\n",
       "    <tr>\n",
       "      <th>404</th>\n",
       "      <td>fyr_macedonia</td>\n",
       "      <td>2010</td>\n",
       "      <td>4.1</td>\n",
       "    </tr>\n",
       "    <tr>\n",
       "      <th>1010</th>\n",
       "      <td>mli</td>\n",
       "      <td>2013</td>\n",
       "      <td>28.0</td>\n",
       "    </tr>\n",
       "    <tr>\n",
       "      <th>223</th>\n",
       "      <td>sau</td>\n",
       "      <td>2015</td>\n",
       "      <td>52.0</td>\n",
       "    </tr>\n",
       "    <tr>\n",
       "      <th>252</th>\n",
       "      <td>bfa</td>\n",
       "      <td>2015</td>\n",
       "      <td>38.0</td>\n",
       "    </tr>\n",
       "    <tr>\n",
       "      <th>138</th>\n",
       "      <td>lbn</td>\n",
       "      <td>2014</td>\n",
       "      <td>27.0</td>\n",
       "    </tr>\n",
       "  </tbody>\n",
       "</table>\n",
       "</div>"
      ],
      "text/plain": [
       "            country  year   cpi\n",
       "404   fyr_macedonia  2010   4.1\n",
       "1010            mli  2013  28.0\n",
       "223             sau  2015  52.0\n",
       "252             bfa  2015  38.0\n",
       "138             lbn  2014  27.0"
      ]
     },
     "execution_count": 14,
     "metadata": {},
     "output_type": "execute_result"
    }
   ],
   "source": [
    "res[0].get_data()['cpi'].sample(5)"
   ]
  },
  {
   "cell_type": "code",
   "execution_count": null,
   "metadata": {
    "collapsed": true
   },
   "outputs": [],
   "source": []
  },
  {
   "cell_type": "code",
   "execution_count": null,
   "metadata": {
    "collapsed": true
   },
   "outputs": [],
   "source": []
  },
  {
   "cell_type": "code",
   "execution_count": 15,
   "metadata": {},
   "outputs": [
    {
     "name": "stdout",
     "output_type": "stream",
     "text": [
      "info:\n",
      "    id: test-flatten\n",
      "\n",
      "\n",
      "ingredients:\n",
      "    - id: kilm-datapoints\n",
      "      dataset: ddf--ilo--kilm_employment_sector\n",
      "      key: \"country,sex,year\"\n",
      "      value: \"*\"\n",
      "\n",
      "\n",
      "\n",
      "cooking:\n",
      "    datapoints:\n",
      "        - procedure: filter_row\n",
      "          ingredients:\n",
      "              - kilm-datapoints\n",
      "          result: filtered\n",
      "          options:\n",
      "              filters:\n",
      "                agriculture_thousands:\n",
      "                    country: afg\n",
      "                    year:\n",
      "                        - 1990\n",
      "                        - 1991\n",
      "                agriculture_percentage:\n",
      "                    country:\n",
      "                        - usa\n",
      "                        - swe\n",
      "                    year:\n",
      "                        - 1990\n",
      "                        - 1991\n",
      "                        - 1992\n",
      "                        - 1993\n",
      "                        - 1994\n",
      "                        - 1995\n",
      "                        - 1996\n",
      "        - procedure: flatten\n",
      "          ingredients:\n",
      "              - filtered\n",
      "          options:\n",
      "              dictionary:\n",
      "                  \"agriculture*\": \"{concept}_{sex}\"\n",
      "              flatten_dimensions:\n",
      "                  - sex\n",
      "          result: res\n",
      "\n"
     ]
    }
   ],
   "source": [
    "# we can also create a Chef instance from existing recipes\n",
    "\n",
    "recipe_file = '../tests/recipes_pass/test_flatten.yml'\n",
    "print(open(os.path.abspath(recipe_file)).read())"
   ]
  },
  {
   "cell_type": "code",
   "execution_count": 16,
   "metadata": {},
   "outputs": [
    {
     "name": "stderr",
     "output_type": "stream",
     "text": [
      "2017-08-21 11:02:52 Chef WARNING no serve procedure found, will serve the last result: res\n",
      "WARNING:Chef:no serve procedure found, will serve the last result: res\n"
     ]
    }
   ],
   "source": [
    "chef = Chef.from_recipe(os.path.expandvars(recipe_file),\n",
    "                        ddf_dir=os.path.expanduser('/Users/semio/src/work/Gapminder/libs/ddf_utils/tests/datasets'))"
   ]
  },
  {
   "cell_type": "code",
   "execution_count": 17,
   "metadata": {},
   "outputs": [
    {
     "name": "stdout",
     "output_type": "stream",
     "text": [
      "info:\n",
      "  id: test-flatten\n",
      "config:\n",
      "  ddf_dir: /Users/semio/src/work/Gapminder/libs/ddf_utils/tests/datasets\n",
      "ingredients:\n",
      "- id: kilm-datapoints\n",
      "  dataset: ddf--ilo--kilm_employment_sector\n",
      "  key: country,sex,year\n",
      "  values: '*'\n",
      "cooking:\n",
      "  datapoints:\n",
      "  - procedure: filter_row\n",
      "    ingredients:\n",
      "    - kilm-datapoints\n",
      "    options:\n",
      "      filters:\n",
      "        agriculture_thousands:\n",
      "          country: afg\n",
      "          year:\n",
      "          - 1990\n",
      "          - 1991\n",
      "        agriculture_percentage:\n",
      "          country:\n",
      "          - usa\n",
      "          - swe\n",
      "          year:\n",
      "          - 1990\n",
      "          - 1991\n",
      "          - 1992\n",
      "          - 1993\n",
      "          - 1994\n",
      "          - 1995\n",
      "          - 1996\n",
      "    result: filtered\n",
      "  - procedure: flatten\n",
      "    ingredients:\n",
      "    - filtered\n",
      "    options:\n",
      "      dictionary:\n",
      "        agriculture*: '{concept}_{sex}'\n",
      "      flatten_dimensions:\n",
      "      - sex\n",
      "    result: res\n"
     ]
    }
   ],
   "source": [
    "chef.to_recipe()"
   ]
  },
  {
   "cell_type": "code",
   "execution_count": 18,
   "metadata": {
    "scrolled": false
   },
   "outputs": [
    {
     "name": "stderr",
     "output_type": "stream",
     "text": [
      "/Users/semio/src/work/Gapminder/libs/ddf_utils/ddf_utils/chef/procedure.py:489: DeprecationWarning: filter_row is deprecated, please use filter function instead.\n",
      "  warnings.warn(\"filter_row is deprecated, please use filter function instead.\", category=DeprecationWarning)\n",
      "2017-08-21 11:02:52 Chef INFO filter_row: kilm-datapoints\n",
      "INFO:Chef:filter_row: kilm-datapoints\n",
      "2017-08-21 11:02:52 Chef INFO flatten: filtered\n",
      "INFO:Chef:flatten: filtered\n"
     ]
    }
   ],
   "source": [
    "res = chef.run()"
   ]
  },
  {
   "cell_type": "code",
   "execution_count": 19,
   "metadata": {},
   "outputs": [
    {
     "data": {
      "text/plain": [
       "dict_keys(['agriculture_percentage_f', 'agriculture_percentage_m', 'agriculture_percentage_mf'])"
      ]
     },
     "execution_count": 19,
     "metadata": {},
     "output_type": "execute_result"
    }
   ],
   "source": [
    "res[0].get_data().keys()"
   ]
  },
  {
   "cell_type": "code",
   "execution_count": 20,
   "metadata": {},
   "outputs": [
    {
     "data": {
      "text/html": [
       "<div>\n",
       "<style>\n",
       "    .dataframe thead tr:only-child th {\n",
       "        text-align: right;\n",
       "    }\n",
       "\n",
       "    .dataframe thead th {\n",
       "        text-align: left;\n",
       "    }\n",
       "\n",
       "    .dataframe tbody tr th {\n",
       "        vertical-align: top;\n",
       "    }\n",
       "</style>\n",
       "<table border=\"1\" class=\"dataframe\">\n",
       "  <thead>\n",
       "    <tr style=\"text-align: right;\">\n",
       "      <th></th>\n",
       "      <th>country</th>\n",
       "      <th>year</th>\n",
       "      <th>agriculture_percentage_f</th>\n",
       "    </tr>\n",
       "  </thead>\n",
       "  <tbody>\n",
       "    <tr>\n",
       "      <th>7344</th>\n",
       "      <td>swe</td>\n",
       "      <td>1990</td>\n",
       "      <td>1.8</td>\n",
       "    </tr>\n",
       "    <tr>\n",
       "      <th>7347</th>\n",
       "      <td>swe</td>\n",
       "      <td>1991</td>\n",
       "      <td>1.8</td>\n",
       "    </tr>\n",
       "    <tr>\n",
       "      <th>7350</th>\n",
       "      <td>swe</td>\n",
       "      <td>1992</td>\n",
       "      <td>1.9</td>\n",
       "    </tr>\n",
       "    <tr>\n",
       "      <th>7353</th>\n",
       "      <td>swe</td>\n",
       "      <td>1993</td>\n",
       "      <td>1.9</td>\n",
       "    </tr>\n",
       "    <tr>\n",
       "      <th>7356</th>\n",
       "      <td>swe</td>\n",
       "      <td>1994</td>\n",
       "      <td>1.8</td>\n",
       "    </tr>\n",
       "    <tr>\n",
       "      <th>7359</th>\n",
       "      <td>swe</td>\n",
       "      <td>1995</td>\n",
       "      <td>1.7</td>\n",
       "    </tr>\n",
       "    <tr>\n",
       "      <th>7362</th>\n",
       "      <td>swe</td>\n",
       "      <td>1996</td>\n",
       "      <td>1.7</td>\n",
       "    </tr>\n",
       "    <tr>\n",
       "      <th>8156</th>\n",
       "      <td>usa</td>\n",
       "      <td>1990</td>\n",
       "      <td>1.3</td>\n",
       "    </tr>\n",
       "    <tr>\n",
       "      <th>8159</th>\n",
       "      <td>usa</td>\n",
       "      <td>1991</td>\n",
       "      <td>1.3</td>\n",
       "    </tr>\n",
       "    <tr>\n",
       "      <th>8162</th>\n",
       "      <td>usa</td>\n",
       "      <td>1992</td>\n",
       "      <td>1.3</td>\n",
       "    </tr>\n",
       "    <tr>\n",
       "      <th>8165</th>\n",
       "      <td>usa</td>\n",
       "      <td>1993</td>\n",
       "      <td>1.2</td>\n",
       "    </tr>\n",
       "    <tr>\n",
       "      <th>8168</th>\n",
       "      <td>usa</td>\n",
       "      <td>1994</td>\n",
       "      <td>1.6</td>\n",
       "    </tr>\n",
       "    <tr>\n",
       "      <th>8171</th>\n",
       "      <td>usa</td>\n",
       "      <td>1995</td>\n",
       "      <td>1.6</td>\n",
       "    </tr>\n",
       "    <tr>\n",
       "      <th>8174</th>\n",
       "      <td>usa</td>\n",
       "      <td>1996</td>\n",
       "      <td>1.5</td>\n",
       "    </tr>\n",
       "  </tbody>\n",
       "</table>\n",
       "</div>"
      ],
      "text/plain": [
       "     country  year  agriculture_percentage_f\n",
       "7344     swe  1990                       1.8\n",
       "7347     swe  1991                       1.8\n",
       "7350     swe  1992                       1.9\n",
       "7353     swe  1993                       1.9\n",
       "7356     swe  1994                       1.8\n",
       "7359     swe  1995                       1.7\n",
       "7362     swe  1996                       1.7\n",
       "8156     usa  1990                       1.3\n",
       "8159     usa  1991                       1.3\n",
       "8162     usa  1992                       1.3\n",
       "8165     usa  1993                       1.2\n",
       "8168     usa  1994                       1.6\n",
       "8171     usa  1995                       1.6\n",
       "8174     usa  1996                       1.5"
      ]
     },
     "execution_count": 20,
     "metadata": {},
     "output_type": "execute_result"
    }
   ],
   "source": [
    "res[0].get_data()['agriculture_percentage_f']"
   ]
  },
  {
   "cell_type": "code",
   "execution_count": null,
   "metadata": {
    "collapsed": true
   },
   "outputs": [],
   "source": []
  },
  {
   "cell_type": "code",
   "execution_count": null,
   "metadata": {
    "collapsed": true
   },
   "outputs": [],
   "source": []
  },
  {
   "cell_type": "markdown",
   "metadata": {},
   "source": [
    "# quickly add lots of similar procedures"
   ]
  },
  {
   "cell_type": "code",
   "execution_count": 21,
   "metadata": {},
   "outputs": [],
   "source": [
    "from ddf_utils.chef.helpers import gen_sym"
   ]
  },
  {
   "cell_type": "code",
   "execution_count": 22,
   "metadata": {
    "collapsed": true
   },
   "outputs": [],
   "source": [
    "chef = Chef()"
   ]
  },
  {
   "cell_type": "code",
   "execution_count": 23,
   "metadata": {},
   "outputs": [
    {
     "data": {
      "text/plain": [
       "<ddf_utils.chef.cook.Chef at 0x114b70390>"
      ]
     },
     "execution_count": 23,
     "metadata": {},
     "output_type": "execute_result"
    }
   ],
   "source": [
    "chef.add_config(ddf_dir=os.path.expanduser('~/src/work/Gapminder/datasets'))"
   ]
  },
  {
   "cell_type": "code",
   "execution_count": 24,
   "metadata": {},
   "outputs": [
    {
     "data": {
      "text/plain": [
       "<ddf_utils.chef.cook.Chef at 0x114b70390>"
      ]
     },
     "execution_count": 24,
     "metadata": {},
     "output_type": "execute_result"
    }
   ],
   "source": [
    "chef.add_ingredient(id='population_by_age_dps', \n",
    "                    dataset='ddf--unpop--wpp_population_semio',\n",
    "                    key='country_code,year,age',\n",
    "                    value=['population'])"
   ]
  },
  {
   "cell_type": "code",
   "execution_count": 25,
   "metadata": {
    "collapsed": true
   },
   "outputs": [],
   "source": [
    "collection = 'datapoints'\n",
    "\n",
    "\n",
    "groups = [list(map(str, range(0, 5))),\n",
    "          list(map(str, range(5, 10))),\n",
    "          list(map(str, range(10, 20)))\n",
    "         ]\n",
    "\n",
    "names = ['population_0_4', 'population_5_9', 'population_10_19']\n",
    "\n",
    "ingredients_0 = ['population_by_age_dps']\n",
    "\n",
    "to_merge = []\n",
    "\n",
    "for g, n in zip(groups, names):\n",
    "    \n",
    "    procedure = 'filter_row'\n",
    "    options = {\n",
    "        'filters': {\n",
    "            'population': {\n",
    "                'age': g}}}\n",
    "    result = gen_sym('filter_row', ingredients_0, options)\n",
    "\n",
    "        \n",
    "    chef.add_procedure(collection=collection,\n",
    "                       procedure=procedure,\n",
    "                       ingredients=ingredients_0,\n",
    "                       options=options,\n",
    "                       result=result\n",
    "                      )\n",
    "    \n",
    "    ingredients = [result]\n",
    "    procedure = 'groupby'\n",
    "    options = {\n",
    "        'groupby': ['country_code', 'year'],\n",
    "        'aggregate': {'population': 'sum'}\n",
    "    }\n",
    "    result = gen_sym(procedure, ingredients, options)\n",
    "    \n",
    "    chef.add_procedure(collection=collection,\n",
    "                       procedure=procedure,\n",
    "                       ingredients=ingredients,\n",
    "                       options=options,\n",
    "                       result=result\n",
    "                      )\n",
    "    \n",
    "    ingredients = [result]\n",
    "    procedure = 'translate_header'\n",
    "    options = {\n",
    "        'dictionary': {\n",
    "            'population': n\n",
    "        }\n",
    "    }\n",
    "    result = gen_sym(procedure, ingredients, options)\n",
    "\n",
    "    chef.add_procedure(collection=collection,\n",
    "                   procedure=procedure,\n",
    "                   ingredients=ingredients,\n",
    "                   options=options,\n",
    "                   result=result\n",
    "                  )\n",
    "    to_merge.append(result)"
   ]
  },
  {
   "cell_type": "code",
   "execution_count": 26,
   "metadata": {},
   "outputs": [
    {
     "data": {
      "text/plain": [
       "<ddf_utils.chef.cook.Chef at 0x114b70390>"
      ]
     },
     "execution_count": 26,
     "metadata": {},
     "output_type": "execute_result"
    }
   ],
   "source": [
    "chef.add_procedure(collection=collection,\n",
    "                   procedure='merge',\n",
    "                   ingredients=to_merge,\n",
    "                   result='result'\n",
    "                  )"
   ]
  },
  {
   "cell_type": "code",
   "execution_count": 27,
   "metadata": {
    "scrolled": false
   },
   "outputs": [
    {
     "name": "stdout",
     "output_type": "stream",
     "text": [
      "info: {}\n",
      "config:\n",
      "  ddf_dir: /Users/semio/src/work/Gapminder/datasets\n",
      "ingredients:\n",
      "- id: population_by_age_dps\n",
      "  dataset: ddf--unpop--wpp_population_semio\n",
      "  key: country_code,year,age\n",
      "  values:\n",
      "  - population\n",
      "cooking:\n",
      "  datapoints:\n",
      "  - procedure: filter_row\n",
      "    ingredients: &id001\n",
      "    - population_by_age_dps\n",
      "    options:\n",
      "      filters:\n",
      "        population:\n",
      "          age:\n",
      "          - '0'\n",
      "          - '1'\n",
      "          - '2'\n",
      "          - '3'\n",
      "          - '4'\n",
      "    result: filter_row_477cc3\n",
      "  - procedure: groupby\n",
      "    ingredients:\n",
      "    - filter_row_477cc3\n",
      "    options:\n",
      "      groupby:\n",
      "      - country_code\n",
      "      - year\n",
      "      aggregate:\n",
      "        population: sum\n",
      "    result: groupby_002756\n",
      "  - procedure: translate_header\n",
      "    ingredients:\n",
      "    - groupby_002756\n",
      "    options:\n",
      "      dictionary:\n",
      "        population: population_0_4\n",
      "    result: translate_header_3fb5b2\n",
      "  - procedure: filter_row\n",
      "    ingredients: *id001\n",
      "    options:\n",
      "      filters:\n",
      "        population:\n",
      "          age:\n",
      "          - '5'\n",
      "          - '6'\n",
      "          - '7'\n",
      "          - '8'\n",
      "          - '9'\n",
      "    result: filter_row_2fa522\n",
      "  - procedure: groupby\n",
      "    ingredients:\n",
      "    - filter_row_2fa522\n",
      "    options:\n",
      "      groupby:\n",
      "      - country_code\n",
      "      - year\n",
      "      aggregate:\n",
      "        population: sum\n",
      "    result: groupby_1c550c\n",
      "  - procedure: translate_header\n",
      "    ingredients:\n",
      "    - groupby_1c550c\n",
      "    options:\n",
      "      dictionary:\n",
      "        population: population_5_9\n",
      "    result: translate_header_fb7142\n",
      "  - procedure: filter_row\n",
      "    ingredients: *id001\n",
      "    options:\n",
      "      filters:\n",
      "        population:\n",
      "          age:\n",
      "          - '10'\n",
      "          - '11'\n",
      "          - '12'\n",
      "          - '13'\n",
      "          - '14'\n",
      "          - '15'\n",
      "          - '16'\n",
      "          - '17'\n",
      "          - '18'\n",
      "          - '19'\n",
      "    result: filter_row_bbdfd2\n",
      "  - procedure: groupby\n",
      "    ingredients:\n",
      "    - filter_row_bbdfd2\n",
      "    options:\n",
      "      groupby:\n",
      "      - country_code\n",
      "      - year\n",
      "      aggregate:\n",
      "        population: sum\n",
      "    result: groupby_5c6853\n",
      "  - procedure: translate_header\n",
      "    ingredients:\n",
      "    - groupby_5c6853\n",
      "    options:\n",
      "      dictionary:\n",
      "        population: population_10_19\n",
      "    result: translate_header_1d81e7\n",
      "  - procedure: merge\n",
      "    ingredients:\n",
      "    - translate_header_3fb5b2\n",
      "    - translate_header_fb7142\n",
      "    - translate_header_1d81e7\n",
      "    result: result\n"
     ]
    }
   ],
   "source": [
    "chef.to_recipe()"
   ]
  },
  {
   "cell_type": "code",
   "execution_count": null,
   "metadata": {
    "collapsed": true
   },
   "outputs": [],
   "source": []
  },
  {
   "cell_type": "code",
   "execution_count": 28,
   "metadata": {},
   "outputs": [
    {
     "data": {
      "image/svg+xml": [
       "<?xml version=\"1.0\" encoding=\"UTF-8\" standalone=\"no\"?>\n",
       "<!DOCTYPE svg PUBLIC \"-//W3C//DTD SVG 1.1//EN\"\n",
       " \"http://www.w3.org/Graphics/SVG/1.1/DTD/svg11.dtd\">\n",
       "<!-- Generated by graphviz version 2.40.1 (20161225.0304)\n",
       " -->\n",
       "<!-- Title: %3 Pages: 1 -->\n",
       "<svg width=\"631pt\" height=\"620pt\"\n",
       " viewBox=\"0.00 0.00 631.03 620.00\" xmlns=\"http://www.w3.org/2000/svg\" xmlns:xlink=\"http://www.w3.org/1999/xlink\">\n",
       "<g id=\"graph0\" class=\"graph\" transform=\"scale(1 1) rotate(0) translate(4 616)\">\n",
       "<title>%3</title>\n",
       "<polygon fill=\"#ffffff\" stroke=\"transparent\" points=\"-4,4 -4,-616 627.025,-616 627.025,4 -4,4\"/>\n",
       "<!-- population_by_age_dps -->\n",
       "<g id=\"node1\" class=\"node\">\n",
       "<title>population_by_age_dps</title>\n",
       "<ellipse fill=\"none\" stroke=\"#0000ff\" cx=\"310.5224\" cy=\"-594\" rx=\"94.6982\" ry=\"18\"/>\n",
       "<text text-anchor=\"middle\" x=\"310.5224\" y=\"-589.8\" font-family=\"Times,serif\" font-size=\"14.00\" fill=\"#000000\">population_by_age_dps</text>\n",
       "</g>\n",
       "<!-- filter_row1503284573.264831 -->\n",
       "<g id=\"node3\" class=\"node\">\n",
       "<title>filter_row1503284573.264831</title>\n",
       "<polygon fill=\"none\" stroke=\"#000000\" points=\"218.2366,-540 146.8082,-540 146.8082,-504 218.2366,-504 218.2366,-540\"/>\n",
       "<text text-anchor=\"middle\" x=\"182.5224\" y=\"-517.8\" font-family=\"Times,serif\" font-size=\"14.00\" fill=\"#000000\">filter_row</text>\n",
       "</g>\n",
       "<!-- population_by_age_dps&#45;&gt;filter_row1503284573.264831 -->\n",
       "<g id=\"edge2\" class=\"edge\">\n",
       "<title>population_by_age_dps&#45;&gt;filter_row1503284573.264831</title>\n",
       "<path fill=\"none\" stroke=\"#000000\" d=\"M280.1882,-576.937C263.2886,-567.431 242.011,-555.4623 223.6334,-545.1249\"/>\n",
       "<polygon fill=\"#000000\" stroke=\"#000000\" points=\"225.3082,-542.0513 214.8765,-540.1992 221.8763,-548.1523 225.3082,-542.0513\"/>\n",
       "</g>\n",
       "<!-- filter_row1503284573.2650712 -->\n",
       "<g id=\"node9\" class=\"node\">\n",
       "<title>filter_row1503284573.2650712</title>\n",
       "<polygon fill=\"none\" stroke=\"#000000\" points=\"346.2366,-540 274.8082,-540 274.8082,-504 346.2366,-504 346.2366,-540\"/>\n",
       "<text text-anchor=\"middle\" x=\"310.5224\" y=\"-517.8\" font-family=\"Times,serif\" font-size=\"14.00\" fill=\"#000000\">filter_row</text>\n",
       "</g>\n",
       "<!-- population_by_age_dps&#45;&gt;filter_row1503284573.2650712 -->\n",
       "<g id=\"edge8\" class=\"edge\">\n",
       "<title>population_by_age_dps&#45;&gt;filter_row1503284573.2650712</title>\n",
       "<path fill=\"none\" stroke=\"#000000\" d=\"M310.5224,-575.8314C310.5224,-568.131 310.5224,-558.9743 310.5224,-550.4166\"/>\n",
       "<polygon fill=\"#000000\" stroke=\"#000000\" points=\"314.0225,-550.4132 310.5224,-540.4133 307.0225,-550.4133 314.0225,-550.4132\"/>\n",
       "</g>\n",
       "<!-- filter_row1503284573.2652988 -->\n",
       "<g id=\"node15\" class=\"node\">\n",
       "<title>filter_row1503284573.2652988</title>\n",
       "<polygon fill=\"none\" stroke=\"#000000\" points=\"473.2366,-540 401.8082,-540 401.8082,-504 473.2366,-504 473.2366,-540\"/>\n",
       "<text text-anchor=\"middle\" x=\"437.5224\" y=\"-517.8\" font-family=\"Times,serif\" font-size=\"14.00\" fill=\"#000000\">filter_row</text>\n",
       "</g>\n",
       "<!-- population_by_age_dps&#45;&gt;filter_row1503284573.2652988 -->\n",
       "<g id=\"edge14\" class=\"edge\">\n",
       "<title>population_by_age_dps&#45;&gt;filter_row1503284573.2652988</title>\n",
       "<path fill=\"none\" stroke=\"#000000\" d=\"M340.9421,-576.7542C357.5644,-567.3306 378.3824,-555.5282 396.4303,-545.2963\"/>\n",
       "<polygon fill=\"#000000\" stroke=\"#000000\" points=\"398.6056,-548.0865 405.5787,-540.1098 395.1533,-541.997 398.6056,-548.0865\"/>\n",
       "</g>\n",
       "<!-- filter_row_477cc3 -->\n",
       "<g id=\"node2\" class=\"node\">\n",
       "<title>filter_row_477cc3</title>\n",
       "<ellipse fill=\"none\" stroke=\"#000000\" cx=\"140.5224\" cy=\"-450\" rx=\"74.8862\" ry=\"18\"/>\n",
       "<text text-anchor=\"middle\" x=\"140.5224\" y=\"-445.8\" font-family=\"Times,serif\" font-size=\"14.00\" fill=\"#000000\">filter_row_477cc3</text>\n",
       "</g>\n",
       "<!-- groupby1503284573.264919 -->\n",
       "<g id=\"node5\" class=\"node\">\n",
       "<title>groupby1503284573.264919</title>\n",
       "<polygon fill=\"none\" stroke=\"#000000\" points=\"165.6854,-396 103.3594,-396 103.3594,-360 165.6854,-360 165.6854,-396\"/>\n",
       "<text text-anchor=\"middle\" x=\"134.5224\" y=\"-373.8\" font-family=\"Times,serif\" font-size=\"14.00\" fill=\"#000000\">groupby</text>\n",
       "</g>\n",
       "<!-- filter_row_477cc3&#45;&gt;groupby1503284573.264919 -->\n",
       "<g id=\"edge4\" class=\"edge\">\n",
       "<title>filter_row_477cc3&#45;&gt;groupby1503284573.264919</title>\n",
       "<path fill=\"none\" stroke=\"#000000\" d=\"M139.0084,-431.8314C138.3667,-424.131 137.6036,-414.9743 136.8905,-406.4166\"/>\n",
       "<polygon fill=\"#000000\" stroke=\"#000000\" points=\"140.3753,-406.088 136.0568,-396.4133 133.3995,-406.6694 140.3753,-406.088\"/>\n",
       "</g>\n",
       "<!-- filter_row1503284573.264831&#45;&gt;filter_row_477cc3 -->\n",
       "<g id=\"edge1\" class=\"edge\">\n",
       "<title>filter_row1503284573.264831&#45;&gt;filter_row_477cc3</title>\n",
       "<path fill=\"none\" stroke=\"#000000\" d=\"M171.924,-503.8314C167.1124,-495.5829 161.3261,-485.6635 156.0386,-476.5992\"/>\n",
       "<polygon fill=\"#000000\" stroke=\"#000000\" points=\"159.0339,-474.7876 150.9719,-467.9134 152.9874,-478.3148 159.0339,-474.7876\"/>\n",
       "</g>\n",
       "<!-- groupby_002756 -->\n",
       "<g id=\"node4\" class=\"node\">\n",
       "<title>groupby_002756</title>\n",
       "<ellipse fill=\"none\" stroke=\"#000000\" cx=\"123.5224\" cy=\"-306\" rx=\"70.5686\" ry=\"18\"/>\n",
       "<text text-anchor=\"middle\" x=\"123.5224\" y=\"-301.8\" font-family=\"Times,serif\" font-size=\"14.00\" fill=\"#000000\">groupby_002756</text>\n",
       "</g>\n",
       "<!-- translate_header1503284573.264989 -->\n",
       "<g id=\"node7\" class=\"node\">\n",
       "<title>translate_header1503284573.264989</title>\n",
       "<polygon fill=\"none\" stroke=\"#000000\" points=\"154.2474,-252 46.7975,-252 46.7975,-216 154.2474,-216 154.2474,-252\"/>\n",
       "<text text-anchor=\"middle\" x=\"100.5224\" y=\"-229.8\" font-family=\"Times,serif\" font-size=\"14.00\" fill=\"#000000\">translate_header</text>\n",
       "</g>\n",
       "<!-- groupby_002756&#45;&gt;translate_header1503284573.264989 -->\n",
       "<g id=\"edge6\" class=\"edge\">\n",
       "<title>groupby_002756&#45;&gt;translate_header1503284573.264989</title>\n",
       "<path fill=\"none\" stroke=\"#000000\" d=\"M117.7185,-287.8314C115.2317,-280.0463 112.2693,-270.7729 109.5099,-262.1347\"/>\n",
       "<polygon fill=\"#000000\" stroke=\"#000000\" points=\"112.7815,-260.874 106.4044,-252.4133 106.1134,-263.0041 112.7815,-260.874\"/>\n",
       "</g>\n",
       "<!-- groupby1503284573.264919&#45;&gt;groupby_002756 -->\n",
       "<g id=\"edge3\" class=\"edge\">\n",
       "<title>groupby1503284573.264919&#45;&gt;groupby_002756</title>\n",
       "<path fill=\"none\" stroke=\"#000000\" d=\"M131.7466,-359.8314C130.5702,-352.131 129.1713,-342.9743 127.8638,-334.4166\"/>\n",
       "<polygon fill=\"#000000\" stroke=\"#000000\" points=\"131.3057,-333.7699 126.3355,-324.4133 124.386,-334.8272 131.3057,-333.7699\"/>\n",
       "</g>\n",
       "<!-- translate_header_3fb5b2 -->\n",
       "<g id=\"node6\" class=\"node\">\n",
       "<title>translate_header_3fb5b2</title>\n",
       "<ellipse fill=\"none\" stroke=\"#000000\" cx=\"97.5224\" cy=\"-162\" rx=\"97.5448\" ry=\"18\"/>\n",
       "<text text-anchor=\"middle\" x=\"97.5224\" y=\"-157.8\" font-family=\"Times,serif\" font-size=\"14.00\" fill=\"#000000\">translate_header_3fb5b2</text>\n",
       "</g>\n",
       "<!-- merge1503284573.265564 -->\n",
       "<g id=\"node21\" class=\"node\">\n",
       "<title>merge1503284573.265564</title>\n",
       "<polygon fill=\"none\" stroke=\"#000000\" points=\"337.5224,-108 283.5224,-108 283.5224,-72 337.5224,-72 337.5224,-108\"/>\n",
       "<text text-anchor=\"middle\" x=\"310.5224\" y=\"-85.8\" font-family=\"Times,serif\" font-size=\"14.00\" fill=\"#000000\">merge</text>\n",
       "</g>\n",
       "<!-- translate_header_3fb5b2&#45;&gt;merge1503284573.265564 -->\n",
       "<g id=\"edge20\" class=\"edge\">\n",
       "<title>translate_header_3fb5b2&#45;&gt;merge1503284573.265564</title>\n",
       "<path fill=\"none\" stroke=\"#000000\" d=\"M144.2662,-146.1993C183.2203,-133.0317 237.9442,-114.5335 273.8074,-102.4107\"/>\n",
       "<polygon fill=\"#000000\" stroke=\"#000000\" points=\"275.0412,-105.6883 283.3938,-99.1702 272.7995,-99.0569 275.0412,-105.6883\"/>\n",
       "</g>\n",
       "<!-- translate_header1503284573.264989&#45;&gt;translate_header_3fb5b2 -->\n",
       "<g id=\"edge5\" class=\"edge\">\n",
       "<title>translate_header1503284573.264989&#45;&gt;translate_header_3fb5b2</title>\n",
       "<path fill=\"none\" stroke=\"#000000\" d=\"M99.7654,-215.8314C99.4445,-208.131 99.063,-198.9743 98.7064,-190.4166\"/>\n",
       "<polygon fill=\"#000000\" stroke=\"#000000\" points=\"102.203,-190.2589 98.2896,-180.4133 95.2091,-190.5503 102.203,-190.2589\"/>\n",
       "</g>\n",
       "<!-- filter_row_2fa522 -->\n",
       "<g id=\"node8\" class=\"node\">\n",
       "<title>filter_row_2fa522</title>\n",
       "<ellipse fill=\"none\" stroke=\"#000000\" cx=\"310.5224\" cy=\"-450\" rx=\"73.9257\" ry=\"18\"/>\n",
       "<text text-anchor=\"middle\" x=\"310.5224\" y=\"-445.8\" font-family=\"Times,serif\" font-size=\"14.00\" fill=\"#000000\">filter_row_2fa522</text>\n",
       "</g>\n",
       "<!-- groupby1503284573.265131 -->\n",
       "<g id=\"node11\" class=\"node\">\n",
       "<title>groupby1503284573.265131</title>\n",
       "<polygon fill=\"none\" stroke=\"#000000\" points=\"341.6854,-396 279.3594,-396 279.3594,-360 341.6854,-360 341.6854,-396\"/>\n",
       "<text text-anchor=\"middle\" x=\"310.5224\" y=\"-373.8\" font-family=\"Times,serif\" font-size=\"14.00\" fill=\"#000000\">groupby</text>\n",
       "</g>\n",
       "<!-- filter_row_2fa522&#45;&gt;groupby1503284573.265131 -->\n",
       "<g id=\"edge10\" class=\"edge\">\n",
       "<title>filter_row_2fa522&#45;&gt;groupby1503284573.265131</title>\n",
       "<path fill=\"none\" stroke=\"#000000\" d=\"M310.5224,-431.8314C310.5224,-424.131 310.5224,-414.9743 310.5224,-406.4166\"/>\n",
       "<polygon fill=\"#000000\" stroke=\"#000000\" points=\"314.0225,-406.4132 310.5224,-396.4133 307.0225,-406.4133 314.0225,-406.4132\"/>\n",
       "</g>\n",
       "<!-- filter_row1503284573.2650712&#45;&gt;filter_row_2fa522 -->\n",
       "<g id=\"edge7\" class=\"edge\">\n",
       "<title>filter_row1503284573.2650712&#45;&gt;filter_row_2fa522</title>\n",
       "<path fill=\"none\" stroke=\"#000000\" d=\"M310.5224,-503.8314C310.5224,-496.131 310.5224,-486.9743 310.5224,-478.4166\"/>\n",
       "<polygon fill=\"#000000\" stroke=\"#000000\" points=\"314.0225,-478.4132 310.5224,-468.4133 307.0225,-478.4133 314.0225,-478.4132\"/>\n",
       "</g>\n",
       "<!-- groupby_1c550c -->\n",
       "<g id=\"node10\" class=\"node\">\n",
       "<title>groupby_1c550c</title>\n",
       "<ellipse fill=\"none\" stroke=\"#000000\" cx=\"310.5224\" cy=\"-306\" rx=\"69.5823\" ry=\"18\"/>\n",
       "<text text-anchor=\"middle\" x=\"310.5224\" y=\"-301.8\" font-family=\"Times,serif\" font-size=\"14.00\" fill=\"#000000\">groupby_1c550c</text>\n",
       "</g>\n",
       "<!-- translate_header1503284573.2652311 -->\n",
       "<g id=\"node13\" class=\"node\">\n",
       "<title>translate_header1503284573.2652311</title>\n",
       "<polygon fill=\"none\" stroke=\"#000000\" points=\"364.2474,-252 256.7975,-252 256.7975,-216 364.2474,-216 364.2474,-252\"/>\n",
       "<text text-anchor=\"middle\" x=\"310.5224\" y=\"-229.8\" font-family=\"Times,serif\" font-size=\"14.00\" fill=\"#000000\">translate_header</text>\n",
       "</g>\n",
       "<!-- groupby_1c550c&#45;&gt;translate_header1503284573.2652311 -->\n",
       "<g id=\"edge12\" class=\"edge\">\n",
       "<title>groupby_1c550c&#45;&gt;translate_header1503284573.2652311</title>\n",
       "<path fill=\"none\" stroke=\"#000000\" d=\"M310.5224,-287.8314C310.5224,-280.131 310.5224,-270.9743 310.5224,-262.4166\"/>\n",
       "<polygon fill=\"#000000\" stroke=\"#000000\" points=\"314.0225,-262.4132 310.5224,-252.4133 307.0225,-262.4133 314.0225,-262.4132\"/>\n",
       "</g>\n",
       "<!-- groupby1503284573.265131&#45;&gt;groupby_1c550c -->\n",
       "<g id=\"edge9\" class=\"edge\">\n",
       "<title>groupby1503284573.265131&#45;&gt;groupby_1c550c</title>\n",
       "<path fill=\"none\" stroke=\"#000000\" d=\"M310.5224,-359.8314C310.5224,-352.131 310.5224,-342.9743 310.5224,-334.4166\"/>\n",
       "<polygon fill=\"#000000\" stroke=\"#000000\" points=\"314.0225,-334.4132 310.5224,-324.4133 307.0225,-334.4133 314.0225,-334.4132\"/>\n",
       "</g>\n",
       "<!-- translate_header_fb7142 -->\n",
       "<g id=\"node12\" class=\"node\">\n",
       "<title>translate_header_fb7142</title>\n",
       "<ellipse fill=\"none\" stroke=\"#000000\" cx=\"310.5224\" cy=\"-162\" rx=\"97.5448\" ry=\"18\"/>\n",
       "<text text-anchor=\"middle\" x=\"310.5224\" y=\"-157.8\" font-family=\"Times,serif\" font-size=\"14.00\" fill=\"#000000\">translate_header_fb7142</text>\n",
       "</g>\n",
       "<!-- translate_header_fb7142&#45;&gt;merge1503284573.265564 -->\n",
       "<g id=\"edge21\" class=\"edge\">\n",
       "<title>translate_header_fb7142&#45;&gt;merge1503284573.265564</title>\n",
       "<path fill=\"none\" stroke=\"#000000\" d=\"M310.5224,-143.8314C310.5224,-136.131 310.5224,-126.9743 310.5224,-118.4166\"/>\n",
       "<polygon fill=\"#000000\" stroke=\"#000000\" points=\"314.0225,-118.4132 310.5224,-108.4133 307.0225,-118.4133 314.0225,-118.4132\"/>\n",
       "</g>\n",
       "<!-- translate_header1503284573.2652311&#45;&gt;translate_header_fb7142 -->\n",
       "<g id=\"edge11\" class=\"edge\">\n",
       "<title>translate_header1503284573.2652311&#45;&gt;translate_header_fb7142</title>\n",
       "<path fill=\"none\" stroke=\"#000000\" d=\"M310.5224,-215.8314C310.5224,-208.131 310.5224,-198.9743 310.5224,-190.4166\"/>\n",
       "<polygon fill=\"#000000\" stroke=\"#000000\" points=\"314.0225,-190.4132 310.5224,-180.4133 307.0225,-190.4133 314.0225,-190.4132\"/>\n",
       "</g>\n",
       "<!-- filter_row_bbdfd2 -->\n",
       "<g id=\"node14\" class=\"node\">\n",
       "<title>filter_row_bbdfd2</title>\n",
       "<ellipse fill=\"none\" stroke=\"#000000\" cx=\"500.5224\" cy=\"-450\" rx=\"74.4189\" ry=\"18\"/>\n",
       "<text text-anchor=\"middle\" x=\"500.5224\" y=\"-445.8\" font-family=\"Times,serif\" font-size=\"14.00\" fill=\"#000000\">filter_row_bbdfd2</text>\n",
       "</g>\n",
       "<!-- groupby1503284573.2653818 -->\n",
       "<g id=\"node17\" class=\"node\">\n",
       "<title>groupby1503284573.2653818</title>\n",
       "<polygon fill=\"none\" stroke=\"#000000\" points=\"534.6854,-396 472.3594,-396 472.3594,-360 534.6854,-360 534.6854,-396\"/>\n",
       "<text text-anchor=\"middle\" x=\"503.5224\" y=\"-373.8\" font-family=\"Times,serif\" font-size=\"14.00\" fill=\"#000000\">groupby</text>\n",
       "</g>\n",
       "<!-- filter_row_bbdfd2&#45;&gt;groupby1503284573.2653818 -->\n",
       "<g id=\"edge16\" class=\"edge\">\n",
       "<title>filter_row_bbdfd2&#45;&gt;groupby1503284573.2653818</title>\n",
       "<path fill=\"none\" stroke=\"#000000\" d=\"M501.2794,-431.8314C501.6003,-424.131 501.9818,-414.9743 502.3384,-406.4166\"/>\n",
       "<polygon fill=\"#000000\" stroke=\"#000000\" points=\"505.8358,-406.5503 502.7552,-396.4133 498.8418,-406.2589 505.8358,-406.5503\"/>\n",
       "</g>\n",
       "<!-- filter_row1503284573.2652988&#45;&gt;filter_row_bbdfd2 -->\n",
       "<g id=\"edge13\" class=\"edge\">\n",
       "<title>filter_row1503284573.2652988&#45;&gt;filter_row_bbdfd2</title>\n",
       "<path fill=\"none\" stroke=\"#000000\" d=\"M453.42,-503.8314C460.9381,-495.2392 470.0426,-484.834 478.2355,-475.4708\"/>\n",
       "<polygon fill=\"#000000\" stroke=\"#000000\" points=\"480.8971,-477.744 484.8482,-467.9134 475.6291,-473.1344 480.8971,-477.744\"/>\n",
       "</g>\n",
       "<!-- groupby_5c6853 -->\n",
       "<g id=\"node16\" class=\"node\">\n",
       "<title>groupby_5c6853</title>\n",
       "<ellipse fill=\"none\" stroke=\"#000000\" cx=\"515.5224\" cy=\"-306\" rx=\"70.0754\" ry=\"18\"/>\n",
       "<text text-anchor=\"middle\" x=\"515.5224\" y=\"-301.8\" font-family=\"Times,serif\" font-size=\"14.00\" fill=\"#000000\">groupby_5c6853</text>\n",
       "</g>\n",
       "<!-- translate_header1503284573.265453 -->\n",
       "<g id=\"node19\" class=\"node\">\n",
       "<title>translate_header1503284573.265453</title>\n",
       "<polygon fill=\"none\" stroke=\"#000000\" points=\"575.2474,-252 467.7975,-252 467.7975,-216 575.2474,-216 575.2474,-252\"/>\n",
       "<text text-anchor=\"middle\" x=\"521.5224\" y=\"-229.8\" font-family=\"Times,serif\" font-size=\"14.00\" fill=\"#000000\">translate_header</text>\n",
       "</g>\n",
       "<!-- groupby_5c6853&#45;&gt;translate_header1503284573.265453 -->\n",
       "<g id=\"edge18\" class=\"edge\">\n",
       "<title>groupby_5c6853&#45;&gt;translate_header1503284573.265453</title>\n",
       "<path fill=\"none\" stroke=\"#000000\" d=\"M517.0365,-287.8314C517.6782,-280.131 518.4412,-270.9743 519.1544,-262.4166\"/>\n",
       "<polygon fill=\"#000000\" stroke=\"#000000\" points=\"522.6453,-262.6694 519.988,-252.4133 515.6695,-262.088 522.6453,-262.6694\"/>\n",
       "</g>\n",
       "<!-- groupby1503284573.2653818&#45;&gt;groupby_5c6853 -->\n",
       "<g id=\"edge15\" class=\"edge\">\n",
       "<title>groupby1503284573.2653818&#45;&gt;groupby_5c6853</title>\n",
       "<path fill=\"none\" stroke=\"#000000\" d=\"M506.5505,-359.8314C507.8339,-352.131 509.36,-342.9743 510.7863,-334.4166\"/>\n",
       "<polygon fill=\"#000000\" stroke=\"#000000\" points=\"514.2618,-334.8526 512.4535,-324.4133 507.3571,-333.7018 514.2618,-334.8526\"/>\n",
       "</g>\n",
       "<!-- translate_header_1d81e7 -->\n",
       "<g id=\"node18\" class=\"node\">\n",
       "<title>translate_header_1d81e7</title>\n",
       "<ellipse fill=\"none\" stroke=\"#000000\" cx=\"524.5224\" cy=\"-162\" rx=\"98.5052\" ry=\"18\"/>\n",
       "<text text-anchor=\"middle\" x=\"524.5224\" y=\"-157.8\" font-family=\"Times,serif\" font-size=\"14.00\" fill=\"#000000\">translate_header_1d81e7</text>\n",
       "</g>\n",
       "<!-- translate_header_1d81e7&#45;&gt;merge1503284573.265564 -->\n",
       "<g id=\"edge22\" class=\"edge\">\n",
       "<title>translate_header_1d81e7&#45;&gt;merge1503284573.265564</title>\n",
       "<path fill=\"none\" stroke=\"#000000\" d=\"M477.2943,-146.1102C438.141,-132.9371 383.2663,-114.4746 347.3175,-102.3797\"/>\n",
       "<polygon fill=\"#000000\" stroke=\"#000000\" points=\"348.3028,-99.0184 337.7088,-99.1468 346.0706,-105.653 348.3028,-99.0184\"/>\n",
       "</g>\n",
       "<!-- translate_header1503284573.265453&#45;&gt;translate_header_1d81e7 -->\n",
       "<g id=\"edge17\" class=\"edge\">\n",
       "<title>translate_header1503284573.265453&#45;&gt;translate_header_1d81e7</title>\n",
       "<path fill=\"none\" stroke=\"#000000\" d=\"M522.2794,-215.8314C522.6003,-208.131 522.9818,-198.9743 523.3384,-190.4166\"/>\n",
       "<polygon fill=\"#000000\" stroke=\"#000000\" points=\"526.8358,-190.5503 523.7552,-180.4133 519.8418,-190.2589 526.8358,-190.5503\"/>\n",
       "</g>\n",
       "<!-- result -->\n",
       "<g id=\"node20\" class=\"node\">\n",
       "<title>result</title>\n",
       "<ellipse fill=\"none\" stroke=\"#ff0000\" cx=\"310.5224\" cy=\"-18\" rx=\"29.5104\" ry=\"18\"/>\n",
       "<text text-anchor=\"middle\" x=\"310.5224\" y=\"-13.8\" font-family=\"Times,serif\" font-size=\"14.00\" fill=\"#000000\">result</text>\n",
       "</g>\n",
       "<!-- merge1503284573.265564&#45;&gt;result -->\n",
       "<g id=\"edge19\" class=\"edge\">\n",
       "<title>merge1503284573.265564&#45;&gt;result</title>\n",
       "<path fill=\"none\" stroke=\"#000000\" d=\"M310.5224,-71.8314C310.5224,-64.131 310.5224,-54.9743 310.5224,-46.4166\"/>\n",
       "<polygon fill=\"#000000\" stroke=\"#000000\" points=\"314.0225,-46.4132 310.5224,-36.4133 307.0225,-46.4133 314.0225,-46.4132\"/>\n",
       "</g>\n",
       "</g>\n",
       "</svg>\n"
      ],
      "text/plain": [
       "<graphviz.dot.Digraph at 0x114b70be0>"
      ]
     },
     "execution_count": 28,
     "metadata": {},
     "output_type": "execute_result"
    }
   ],
   "source": [
    "chef.to_graph()"
   ]
  },
  {
   "cell_type": "code",
   "execution_count": null,
   "metadata": {
    "collapsed": true
   },
   "outputs": [],
   "source": []
  },
  {
   "cell_type": "code",
   "execution_count": 29,
   "metadata": {},
   "outputs": [
    {
     "name": "stderr",
     "output_type": "stream",
     "text": [
      "2017-08-21 11:02:53 Chef INFO groupby: filter_row_477cc3\n",
      "INFO:Chef:groupby: filter_row_477cc3\n",
      "/Users/semio/src/work/Gapminder/libs/ddf_utils/ddf_utils/chef/procedure.py:489: DeprecationWarning: filter_row is deprecated, please use filter function instead.\n",
      "  warnings.warn(\"filter_row is deprecated, please use filter function instead.\", category=DeprecationWarning)\n",
      "2017-08-21 11:02:53 Chef INFO filter_row: population_by_age_dps\n",
      "INFO:Chef:filter_row: population_by_age_dps\n",
      "2017-08-21 11:03:07 Chef INFO translate_header: groupby_002756\n",
      "INFO:Chef:translate_header: groupby_002756\n",
      "2017-08-21 11:03:07 Chef INFO groupby: filter_row_2fa522\n",
      "INFO:Chef:groupby: filter_row_2fa522\n",
      "/Users/semio/src/work/Gapminder/libs/ddf_utils/ddf_utils/chef/procedure.py:489: DeprecationWarning: filter_row is deprecated, please use filter function instead.\n",
      "  warnings.warn(\"filter_row is deprecated, please use filter function instead.\", category=DeprecationWarning)\n",
      "2017-08-21 11:03:07 Chef INFO filter_row: population_by_age_dps\n",
      "INFO:Chef:filter_row: population_by_age_dps\n",
      "2017-08-21 11:03:08 Chef INFO translate_header: groupby_1c550c\n",
      "INFO:Chef:translate_header: groupby_1c550c\n",
      "2017-08-21 11:03:08 Chef INFO groupby: filter_row_bbdfd2\n",
      "INFO:Chef:groupby: filter_row_bbdfd2\n",
      "/Users/semio/src/work/Gapminder/libs/ddf_utils/ddf_utils/chef/procedure.py:489: DeprecationWarning: filter_row is deprecated, please use filter function instead.\n",
      "  warnings.warn(\"filter_row is deprecated, please use filter function instead.\", category=DeprecationWarning)\n",
      "2017-08-21 11:03:08 Chef INFO filter_row: population_by_age_dps\n",
      "INFO:Chef:filter_row: population_by_age_dps\n",
      "2017-08-21 11:03:09 Chef INFO translate_header: groupby_5c6853\n",
      "INFO:Chef:translate_header: groupby_5c6853\n",
      "2017-08-21 11:03:09 Chef INFO merge: ['translate_header_3fb5b2', 'translate_header_fb7142', 'translate_header_1d81e7']\n",
      "INFO:Chef:merge: ['translate_header_3fb5b2', 'translate_header_fb7142', 'translate_header_1d81e7']\n"
     ]
    }
   ],
   "source": [
    "res = chef.run()"
   ]
  },
  {
   "cell_type": "code",
   "execution_count": 30,
   "metadata": {},
   "outputs": [
    {
     "data": {
      "text/plain": [
       "[<ProcedureResult: result>]"
      ]
     },
     "execution_count": 30,
     "metadata": {},
     "output_type": "execute_result"
    }
   ],
   "source": [
    "res"
   ]
  },
  {
   "cell_type": "code",
   "execution_count": 31,
   "metadata": {},
   "outputs": [
    {
     "data": {
      "text/plain": [
       "dict_keys(['population_0_4', 'population_5_9', 'population_10_19'])"
      ]
     },
     "execution_count": 31,
     "metadata": {},
     "output_type": "execute_result"
    }
   ],
   "source": [
    "res[0].get_data().keys()"
   ]
  },
  {
   "cell_type": "code",
   "execution_count": null,
   "metadata": {
    "collapsed": true
   },
   "outputs": [],
   "source": []
  },
  {
   "cell_type": "code",
   "execution_count": null,
   "metadata": {
    "collapsed": true
   },
   "outputs": [],
   "source": []
  },
  {
   "cell_type": "markdown",
   "metadata": {},
   "source": [
    "# Error handling"
   ]
  },
  {
   "cell_type": "code",
   "execution_count": null,
   "metadata": {
    "collapsed": true
   },
   "outputs": [],
   "source": []
  },
  {
   "cell_type": "code",
   "execution_count": 32,
   "metadata": {
    "collapsed": true
   },
   "outputs": [],
   "source": [
    "chef = Chef()"
   ]
  },
  {
   "cell_type": "code",
   "execution_count": 33,
   "metadata": {},
   "outputs": [
    {
     "name": "stderr",
     "output_type": "stream",
     "text": [
      "2017-08-21 11:03:09 Chef WARNING no ddf_dir in config, assuming current working dir\n",
      "WARNING:Chef:no ddf_dir in config, assuming current working dir\n",
      "WARNING:root:Ignoring following keys: ['snieot']\n"
     ]
    },
    {
     "data": {
      "text/plain": [
       "<ddf_utils.chef.cook.Chef at 0x11977fe80>"
      ]
     },
     "execution_count": 33,
     "metadata": {},
     "output_type": "execute_result"
    }
   ],
   "source": [
    "i = '''\n",
    "id: cpi-datapoints\n",
    "dataset: ddf--transpint--corrupton\n",
    "key: country, year\n",
    "value: \"*\"\n",
    "snieot: 'soneot'\n",
    "'''\n",
    "\n",
    "d = yaml.round_trip_load(i)\n",
    "chef.add_ingredient(**d)"
   ]
  },
  {
   "cell_type": "code",
   "execution_count": 34,
   "metadata": {},
   "outputs": [
    {
     "name": "stderr",
     "output_type": "stream",
     "text": [
      "2017-08-21 11:03:09 Chef WARNING no ddf_dir in config, assuming current working dir\n",
      "WARNING:Chef:no ddf_dir in config, assuming current working dir\n"
     ]
    },
    {
     "name": "stdout",
     "output_type": "stream",
     "text": [
      "'Field \"key\" is mandatory. Please provide this field in the options.'\n"
     ]
    }
   ],
   "source": [
    "i = '''\n",
    "id: cpi-datapoints_\n",
    "dataset: ddf--transpint--corrupton\n",
    "oh_my_interesting_key: country, year   # error\n",
    "value: \"*\"\n",
    "'''\n",
    "\n",
    "d = yaml.round_trip_load(i)\n",
    "\n",
    "try:\n",
    "    chef.add_ingredient(**d)\n",
    "except KeyError as e:\n",
    "    print(str(e))"
   ]
  },
  {
   "cell_type": "code",
   "execution_count": 35,
   "metadata": {},
   "outputs": [
    {
     "name": "stderr",
     "output_type": "stream",
     "text": [
      "WARNING:root:my_new_procedure is not a valid procedure, please double check or register new procedure\n"
     ]
    },
    {
     "data": {
      "text/plain": [
       "<ddf_utils.chef.cook.Chef at 0x11977fe80>"
      ]
     },
     "execution_count": 35,
     "metadata": {},
     "output_type": "execute_result"
    }
   ],
   "source": [
    "i = '''\n",
    "procedure: my_new_procedure\n",
    "ingredients:\n",
    "    - testing\n",
    "options:\n",
    "    opt: val\n",
    "result: result\n",
    "'''\n",
    "\n",
    "d = yaml.round_trip_load(i)\n",
    "chef.add_procedure('datapoints', **d)"
   ]
  },
  {
   "cell_type": "code",
   "execution_count": null,
   "metadata": {
    "collapsed": true
   },
   "outputs": [],
   "source": []
  },
  {
   "cell_type": "code",
   "execution_count": null,
   "metadata": {
    "collapsed": true
   },
   "outputs": [],
   "source": []
  },
  {
   "cell_type": "code",
   "execution_count": null,
   "metadata": {
    "collapsed": true
   },
   "outputs": [],
   "source": []
  },
  {
   "cell_type": "code",
   "execution_count": null,
   "metadata": {
    "collapsed": true
   },
   "outputs": [],
   "source": []
  },
  {
   "cell_type": "code",
   "execution_count": null,
   "metadata": {
    "collapsed": true
   },
   "outputs": [],
   "source": []
  },
  {
   "cell_type": "code",
   "execution_count": null,
   "metadata": {
    "collapsed": true
   },
   "outputs": [],
   "source": []
  },
  {
   "cell_type": "markdown",
   "metadata": {},
   "source": [
    "# Advance usage: create new procedure\n",
    "\n",
    "will add description later"
   ]
  },
  {
   "cell_type": "code",
   "execution_count": 36,
   "metadata": {
    "collapsed": true
   },
   "outputs": [],
   "source": [
    "from ddf_utils.chef.ingredient import Ingredient, ProcedureResult"
   ]
  },
  {
   "cell_type": "code",
   "execution_count": 49,
   "metadata": {
    "collapsed": true
   },
   "outputs": [],
   "source": [
    "def multiply_1000(chef, ingredients, result, **options):\n",
    "    ingredients = [chef.dag.get_node(x) for x in ingredients]\n",
    "    ingredient = ingredients[0].evaluate()\n",
    "    \n",
    "    new_data = dict()\n",
    "    for k, df in ingredient.get_data().items():\n",
    "        df_ = df.copy()\n",
    "        df_[k] = df_[k] * 1000\n",
    "        new_data[k] = df_\n",
    "        \n",
    "    return ProcedureResult(chef, result, ingredient.key, new_data)"
   ]
  },
  {
   "cell_type": "code",
   "execution_count": 50,
   "metadata": {},
   "outputs": [
    {
     "data": {
      "text/plain": [
       "<ddf_utils.chef.cook.Chef at 0x11a258a90>"
      ]
     },
     "execution_count": 50,
     "metadata": {},
     "output_type": "execute_result"
    }
   ],
   "source": [
    "chef = Chef()\n",
    "chef.add_config(ddf_dir=os.path.expanduser('~/src/work/Gapminder/datasets'))"
   ]
  },
  {
   "cell_type": "code",
   "execution_count": 51,
   "metadata": {},
   "outputs": [
    {
     "data": {
      "text/plain": [
       "<ddf_utils.chef.cook.Chef at 0x11a258a90>"
      ]
     },
     "execution_count": 51,
     "metadata": {},
     "output_type": "execute_result"
    }
   ],
   "source": [
    "i = '''\n",
    "id: cpi-datapoints\n",
    "dataset: ddf--transpint--corrupton\n",
    "key: country, year\n",
    "value: \"*\"\n",
    "'''\n",
    "\n",
    "d = yaml.round_trip_load(i)\n",
    "chef.add_ingredient(**d)"
   ]
  },
  {
   "cell_type": "code",
   "execution_count": 52,
   "metadata": {
    "collapsed": true
   },
   "outputs": [],
   "source": [
    "chef.register_procedure(multiply_1000)"
   ]
  },
  {
   "cell_type": "code",
   "execution_count": 53,
   "metadata": {},
   "outputs": [
    {
     "data": {
      "text/plain": [
       "<ddf_utils.chef.cook.Chef at 0x11a258a90>"
      ]
     },
     "execution_count": 53,
     "metadata": {},
     "output_type": "execute_result"
    }
   ],
   "source": [
    "chef.add_procedure(collection='datapoints',\n",
    "                   procedure='multiply_1000',\n",
    "                   result='res',\n",
    "                   ingredients=['cpi-datapoints']\n",
    "                  )"
   ]
  },
  {
   "cell_type": "code",
   "execution_count": 54,
   "metadata": {},
   "outputs": [],
   "source": [
    "res = chef.run()"
   ]
  },
  {
   "cell_type": "code",
   "execution_count": 55,
   "metadata": {},
   "outputs": [
    {
     "data": {
      "text/html": [
       "<div>\n",
       "<style>\n",
       "    .dataframe thead tr:only-child th {\n",
       "        text-align: right;\n",
       "    }\n",
       "\n",
       "    .dataframe thead th {\n",
       "        text-align: left;\n",
       "    }\n",
       "\n",
       "    .dataframe tbody tr th {\n",
       "        vertical-align: top;\n",
       "    }\n",
       "</style>\n",
       "<table border=\"1\" class=\"dataframe\">\n",
       "  <thead>\n",
       "    <tr style=\"text-align: right;\">\n",
       "      <th></th>\n",
       "      <th>country</th>\n",
       "      <th>year</th>\n",
       "      <th>cpi</th>\n",
       "    </tr>\n",
       "  </thead>\n",
       "  <tbody>\n",
       "    <tr>\n",
       "      <th>0</th>\n",
       "      <td>dnk</td>\n",
       "      <td>2014</td>\n",
       "      <td>92000.0</td>\n",
       "    </tr>\n",
       "    <tr>\n",
       "      <th>1</th>\n",
       "      <td>nzl</td>\n",
       "      <td>2014</td>\n",
       "      <td>91000.0</td>\n",
       "    </tr>\n",
       "    <tr>\n",
       "      <th>2</th>\n",
       "      <td>fin</td>\n",
       "      <td>2014</td>\n",
       "      <td>89000.0</td>\n",
       "    </tr>\n",
       "    <tr>\n",
       "      <th>3</th>\n",
       "      <td>swe</td>\n",
       "      <td>2014</td>\n",
       "      <td>87000.0</td>\n",
       "    </tr>\n",
       "    <tr>\n",
       "      <th>4</th>\n",
       "      <td>nor</td>\n",
       "      <td>2014</td>\n",
       "      <td>86000.0</td>\n",
       "    </tr>\n",
       "  </tbody>\n",
       "</table>\n",
       "</div>"
      ],
      "text/plain": [
       "  country  year      cpi\n",
       "0     dnk  2014  92000.0\n",
       "1     nzl  2014  91000.0\n",
       "2     fin  2014  89000.0\n",
       "3     swe  2014  87000.0\n",
       "4     nor  2014  86000.0"
      ]
     },
     "execution_count": 55,
     "metadata": {},
     "output_type": "execute_result"
    }
   ],
   "source": [
    "res[0].get_data()['cpi'].head(5)"
   ]
  },
  {
   "cell_type": "code",
   "execution_count": 56,
   "metadata": {},
   "outputs": [
    {
     "data": {
      "text/plain": [
       "[<Ingredient: cpi-datapoints>]"
      ]
     },
     "execution_count": 56,
     "metadata": {},
     "output_type": "execute_result"
    }
   ],
   "source": [
    "chef.ingredients"
   ]
  },
  {
   "cell_type": "code",
   "execution_count": 57,
   "metadata": {},
   "outputs": [
    {
     "data": {
      "text/html": [
       "<div>\n",
       "<style>\n",
       "    .dataframe thead tr:only-child th {\n",
       "        text-align: right;\n",
       "    }\n",
       "\n",
       "    .dataframe thead th {\n",
       "        text-align: left;\n",
       "    }\n",
       "\n",
       "    .dataframe tbody tr th {\n",
       "        vertical-align: top;\n",
       "    }\n",
       "</style>\n",
       "<table border=\"1\" class=\"dataframe\">\n",
       "  <thead>\n",
       "    <tr style=\"text-align: right;\">\n",
       "      <th></th>\n",
       "      <th>country</th>\n",
       "      <th>year</th>\n",
       "      <th>cpi</th>\n",
       "    </tr>\n",
       "  </thead>\n",
       "  <tbody>\n",
       "    <tr>\n",
       "      <th>0</th>\n",
       "      <td>dnk</td>\n",
       "      <td>2014</td>\n",
       "      <td>92.0</td>\n",
       "    </tr>\n",
       "    <tr>\n",
       "      <th>1</th>\n",
       "      <td>nzl</td>\n",
       "      <td>2014</td>\n",
       "      <td>91.0</td>\n",
       "    </tr>\n",
       "    <tr>\n",
       "      <th>2</th>\n",
       "      <td>fin</td>\n",
       "      <td>2014</td>\n",
       "      <td>89.0</td>\n",
       "    </tr>\n",
       "    <tr>\n",
       "      <th>3</th>\n",
       "      <td>swe</td>\n",
       "      <td>2014</td>\n",
       "      <td>87.0</td>\n",
       "    </tr>\n",
       "    <tr>\n",
       "      <th>4</th>\n",
       "      <td>nor</td>\n",
       "      <td>2014</td>\n",
       "      <td>86.0</td>\n",
       "    </tr>\n",
       "  </tbody>\n",
       "</table>\n",
       "</div>"
      ],
      "text/plain": [
       "  country  year   cpi\n",
       "0     dnk  2014  92.0\n",
       "1     nzl  2014  91.0\n",
       "2     fin  2014  89.0\n",
       "3     swe  2014  87.0\n",
       "4     nor  2014  86.0"
      ]
     },
     "execution_count": 57,
     "metadata": {},
     "output_type": "execute_result"
    }
   ],
   "source": [
    "chef.ingredients[0].get_data()['cpi'].head()  # the original"
   ]
  },
  {
   "cell_type": "code",
   "execution_count": 58,
   "metadata": {},
   "outputs": [
    {
     "data": {
      "image/svg+xml": [
       "<?xml version=\"1.0\" encoding=\"UTF-8\" standalone=\"no\"?>\n",
       "<!DOCTYPE svg PUBLIC \"-//W3C//DTD SVG 1.1//EN\"\n",
       " \"http://www.w3.org/Graphics/SVG/1.1/DTD/svg11.dtd\">\n",
       "<!-- Generated by graphviz version 2.40.1 (20161225.0304)\n",
       " -->\n",
       "<!-- Title: %3 Pages: 1 -->\n",
       "<svg width=\"128pt\" height=\"188pt\"\n",
       " viewBox=\"0.00 0.00 128.41 188.00\" xmlns=\"http://www.w3.org/2000/svg\" xmlns:xlink=\"http://www.w3.org/1999/xlink\">\n",
       "<g id=\"graph0\" class=\"graph\" transform=\"scale(1 1) rotate(0) translate(4 184)\">\n",
       "<title>%3</title>\n",
       "<polygon fill=\"#ffffff\" stroke=\"transparent\" points=\"-4,4 -4,-184 124.4108,-184 124.4108,4 -4,4\"/>\n",
       "<!-- cpi&#45;datapoints -->\n",
       "<g id=\"node1\" class=\"node\">\n",
       "<title>cpi&#45;datapoints</title>\n",
       "<ellipse fill=\"none\" stroke=\"#0000ff\" cx=\"60.2054\" cy=\"-162\" rx=\"60.4115\" ry=\"18\"/>\n",
       "<text text-anchor=\"middle\" x=\"60.2054\" y=\"-157.8\" font-family=\"Times,serif\" font-size=\"14.00\" fill=\"#000000\">cpi&#45;datapoints</text>\n",
       "</g>\n",
       "<!-- multiply_10001503284660.479616 -->\n",
       "<g id=\"node3\" class=\"node\">\n",
       "<title>multiply_10001503284660.479616</title>\n",
       "<polygon fill=\"none\" stroke=\"#000000\" points=\"109.6547,-108 10.7561,-108 10.7561,-72 109.6547,-72 109.6547,-108\"/>\n",
       "<text text-anchor=\"middle\" x=\"60.2054\" y=\"-85.8\" font-family=\"Times,serif\" font-size=\"14.00\" fill=\"#000000\">multiply_1000</text>\n",
       "</g>\n",
       "<!-- cpi&#45;datapoints&#45;&gt;multiply_10001503284660.479616 -->\n",
       "<g id=\"edge2\" class=\"edge\">\n",
       "<title>cpi&#45;datapoints&#45;&gt;multiply_10001503284660.479616</title>\n",
       "<path fill=\"none\" stroke=\"#000000\" d=\"M60.2054,-143.8314C60.2054,-136.131 60.2054,-126.9743 60.2054,-118.4166\"/>\n",
       "<polygon fill=\"#000000\" stroke=\"#000000\" points=\"63.7055,-118.4132 60.2054,-108.4133 56.7055,-118.4133 63.7055,-118.4132\"/>\n",
       "</g>\n",
       "<!-- res -->\n",
       "<g id=\"node2\" class=\"node\">\n",
       "<title>res</title>\n",
       "<ellipse fill=\"none\" stroke=\"#ff0000\" cx=\"60.2054\" cy=\"-18\" rx=\"27\" ry=\"18\"/>\n",
       "<text text-anchor=\"middle\" x=\"60.2054\" y=\"-13.8\" font-family=\"Times,serif\" font-size=\"14.00\" fill=\"#000000\">res</text>\n",
       "</g>\n",
       "<!-- multiply_10001503284660.479616&#45;&gt;res -->\n",
       "<g id=\"edge1\" class=\"edge\">\n",
       "<title>multiply_10001503284660.479616&#45;&gt;res</title>\n",
       "<path fill=\"none\" stroke=\"#000000\" d=\"M60.2054,-71.8314C60.2054,-64.131 60.2054,-54.9743 60.2054,-46.4166\"/>\n",
       "<polygon fill=\"#000000\" stroke=\"#000000\" points=\"63.7055,-46.4132 60.2054,-36.4133 56.7055,-46.4133 63.7055,-46.4132\"/>\n",
       "</g>\n",
       "</g>\n",
       "</svg>\n"
      ],
      "text/plain": [
       "<graphviz.dot.Digraph at 0x11a258da0>"
      ]
     },
     "execution_count": 58,
     "metadata": {},
     "output_type": "execute_result"
    }
   ],
   "source": [
    "chef.to_graph()"
   ]
  },
  {
   "cell_type": "code",
   "execution_count": null,
   "metadata": {
    "collapsed": true
   },
   "outputs": [],
   "source": []
  }
 ],
 "metadata": {
  "kernelspec": {
   "display_name": "Python 3",
   "language": "python",
   "name": "python3"
  },
  "language_info": {
   "codemirror_mode": {
    "name": "ipython",
    "version": 3
   },
   "file_extension": ".py",
   "mimetype": "text/x-python",
   "name": "python",
   "nbconvert_exporter": "python",
   "pygments_lexer": "ipython3",
   "version": "3.6.0"
  }
 },
 "nbformat": 4,
 "nbformat_minor": 2
}
