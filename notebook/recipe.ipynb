{
 "cells": [
  {
   "cell_type": "code",
   "execution_count": 29,
   "metadata": {
    "collapsed": false
   },
   "outputs": [
    {
     "name": "stdout",
     "output_type": "stream",
     "text": [
      "Mon Mar 27 11:05:01 CST 2017\r\n"
     ]
    }
   ],
   "source": [
    "!date"
   ]
  },
  {
   "cell_type": "markdown",
   "metadata": {},
   "source": [
    "# Running recipes in Jupyter notebook\n",
    "\n",
    "In this notebook we will demostrate how to use the chef module to create a dataset"
   ]
  },
  {
   "cell_type": "code",
   "execution_count": 30,
   "metadata": {
    "collapsed": false
   },
   "outputs": [],
   "source": [
    "import os\n",
    "import pandas as pd\n",
    "import json\n",
    "import yaml\n",
    "import numpy as np\n",
    "\n",
    "from ddf_utils import chef\n",
    "\n",
    "import logging\n",
    "logging.basicConfig(level=logging.DEBUG)"
   ]
  },
  {
   "cell_type": "markdown",
   "metadata": {},
   "source": [
    "## loading recipes\n",
    "\n",
    "recipes can be either yaml or json files. Because recipe may include other recipes and translation dictionaries, chef module provides a build_recipe() function to read recipe and expand the recipe with other included files."
   ]
  },
  {
   "cell_type": "code",
   "execution_count": 31,
   "metadata": {
    "collapsed": false
   },
   "outputs": [
    {
     "name": "stdout",
     "output_type": "stream",
     "text": [
      "info:\n",
      "  id: test_translate_column\n",
      "\n",
      "ingredients:\n",
      "  - id: bp-geo\n",
      "    dataset: ddf--bp--energy\n",
      "    key: geo\n",
      "    value: '*'\n",
      "  - id: gw-countries\n",
      "    dataset: ddf--gapminder--geo_entity_domain\n",
      "    key: country\n",
      "    value: '*'\n",
      "  - id: bp-datapoints\n",
      "    dataset: ddf--bp--energy\n",
      "    key: 'geo,year'\n",
      "    value: '*'\n",
      "\n",
      "cooking:\n",
      "  entities:\n",
      "    - procedure: translate_column\n",
      "      ingredients:\n",
      "        - bp-geo\n",
      "      options:\n",
      "        column: name\n",
      "        target_column: geo_new\n",
      "        dictionary:\n",
      "          base: gw-countries\n",
      "          key: ['alternative_1', 'alternative_2', 'alternative_3',\n",
      "                'alternative_4_cdiac', 'pandg', 'god_id', 'alt_5', 'upper_case_name',\n",
      "                'arb1', 'arb2', 'arb3', 'arb4',\n",
      "                'arb5', 'arb6', 'name']\n",
      "          value: country\n",
      "          not_found: drop\n",
      "      result: geo-aligned\n",
      "  datapoints:\n",
      "    - procedure: translate_column\n",
      "      ingredients:\n",
      "        - bp-datapoints\n",
      "      options:\n",
      "        column: geo\n",
      "        target_column: geo\n",
      "        dictionary:\n",
      "          base: geo-aligned\n",
      "          key: geo\n",
      "          value: geo_new\n",
      "        not_found: drop\n",
      "      result: bp-datapoints-aligned\n",
      "\n"
     ]
    }
   ],
   "source": [
    "print(open(\"../tests/recipes_pass/test_translate_column.yaml\").read())  # Note: you should change the ddf_dir to correct path"
   ]
  },
  {
   "cell_type": "code",
   "execution_count": 32,
   "metadata": {
    "collapsed": false
   },
   "outputs": [],
   "source": [
    "recipe = chef.build_recipe(\"../tests/recipes_pass/test_translate_column.yaml\")"
   ]
  },
  {
   "cell_type": "code",
   "execution_count": 33,
   "metadata": {
    "collapsed": false
   },
   "outputs": [
    {
     "name": "stdout",
     "output_type": "stream",
     "text": [
      "{'cooking': {'datapoints': [{'ingredients': ['bp-datapoints'],\n",
      "                             'options': {'column': 'geo',\n",
      "                                         'dictionary': {'base': 'geo-aligned',\n",
      "                                                        'key': 'geo',\n",
      "                                                        'value': 'geo_new'},\n",
      "                                         'not_found': 'drop',\n",
      "                                         'target_column': 'geo'},\n",
      "                             'procedure': 'translate_column',\n",
      "                             'result': 'bp-datapoints-aligned'}],\n",
      "             'entities': [{'ingredients': ['bp-geo'],\n",
      "                           'options': {'column': 'name',\n",
      "                                       'dictionary': {'base': 'gw-countries',\n",
      "                                                      'key': ['alternative_1',\n",
      "                                                              'alternative_2',\n",
      "                                                              'alternative_3',\n",
      "                                                              'alternative_4_cdiac',\n",
      "                                                              'pandg',\n",
      "                                                              'god_id',\n",
      "                                                              'alt_5',\n",
      "                                                              'upper_case_name',\n",
      "                                                              'arb1',\n",
      "                                                              'arb2',\n",
      "                                                              'arb3',\n",
      "                                                              'arb4',\n",
      "                                                              'arb5',\n",
      "                                                              'arb6',\n",
      "                                                              'name'],\n",
      "                                                      'not_found': 'drop',\n",
      "                                                      'value': 'country'},\n",
      "                                       'target_column': 'geo_new'},\n",
      "                           'procedure': 'translate_column',\n",
      "                           'result': 'geo-aligned'}]},\n",
      " 'info': AttrDict([('id', 'test_translate_column')]),\n",
      " 'ingredients': [{'dataset': 'ddf--bp--energy',\n",
      "                  'id': 'bp-geo',\n",
      "                  'key': 'geo',\n",
      "                  'value': '*'},\n",
      "                 {'dataset': 'ddf--gapminder--geo_entity_domain',\n",
      "                  'id': 'gw-countries',\n",
      "                  'key': 'country',\n",
      "                  'value': '*'},\n",
      "                 {'dataset': 'ddf--bp--energy',\n",
      "                  'id': 'bp-datapoints',\n",
      "                  'key': 'geo,year',\n",
      "                  'value': '*'}]}\n"
     ]
    }
   ],
   "source": [
    "from pprint import pprint\n",
    "\n",
    "pprint(recipe)"
   ]
  },
  {
   "cell_type": "code",
   "execution_count": null,
   "metadata": {
    "collapsed": true
   },
   "outputs": [],
   "source": []
  },
  {
   "cell_type": "markdown",
   "metadata": {},
   "source": [
    "## running the recipe\n",
    "\n",
    "the run_recipe() function from chef module actually run the recipe and return the result DDF as a dictionary of ingredients."
   ]
  },
  {
   "cell_type": "code",
   "execution_count": 34,
   "metadata": {
    "collapsed": false
   },
   "outputs": [
    {
     "name": "stderr",
     "output_type": "stream",
     "text": [
      "INFO:root:path for searching DDF: ../tests/datasets\n",
      "WARNING:Chef:no serve procedure found, serving the last result: geo-aligned\n",
      "WARNING:Chef:no serve procedure found, serving the last result: bp-datapoints-aligned\n",
      "INFO:Chef:translate_column: bp-geo\n",
      "DEBUG:Chef:running on: geo\n",
      "WARNING:root:no match found: {'Africa', 'Total S. & Cent. America', 'Rep. of Congo (Brazzaville)', 'Other S. & Cent. America', 'Total North America', 'Total Africa', 'Other Asia Pacific', 'Republic of Ireland', 'S. & Cent. America', 'Total Middle East', 'Total World', 'Europe & Eurasia', 'Middle East', 'Australasia', 'Total Europe & Eurasia', 'Other Europe & Eurasia', 'Other Africa', 'Total Asia Pacific', 'Other Middle East', 'China Hong Kong SAR'}\n",
      "INFO:Chef:translate_column: bp-datapoints\n",
      "DEBUG:Chef:running on: biofuels_production_kboed\n",
      "DEBUG:Chef:running on: biofuels_production_ktoe\n"
     ]
    }
   ],
   "source": [
    "chef.config.DDF_SEARCH_PATH = '../tests/datasets'\n",
    "\n",
    "res = chef.run_recipe(recipe)"
   ]
  },
  {
   "cell_type": "code",
   "execution_count": 35,
   "metadata": {
    "collapsed": false
   },
   "outputs": [
    {
     "name": "stdout",
     "output_type": "stream",
     "text": [
      "<ProcedureResult: geo-aligned>\n",
      "<ProcedureResult: bp-datapoints-aligned>\n"
     ]
    }
   ],
   "source": [
    "for r in res:\n",
    "    print(r)"
   ]
  },
  {
   "cell_type": "code",
   "execution_count": null,
   "metadata": {
    "collapsed": true
   },
   "outputs": [],
   "source": []
  },
  {
   "cell_type": "markdown",
   "metadata": {},
   "source": [
    "### check results"
   ]
  },
  {
   "cell_type": "code",
   "execution_count": 36,
   "metadata": {
    "collapsed": false
   },
   "outputs": [],
   "source": [
    "entities = res[0].get_data()"
   ]
  },
  {
   "cell_type": "code",
   "execution_count": 37,
   "metadata": {
    "collapsed": false
   },
   "outputs": [
    {
     "data": {
      "text/plain": [
       "dict_keys(['geo'])"
      ]
     },
     "execution_count": 37,
     "metadata": {},
     "output_type": "execute_result"
    }
   ],
   "source": [
    "entities.keys()  # in the recipe we include all geo entities from GW, so they are."
   ]
  },
  {
   "cell_type": "code",
   "execution_count": 38,
   "metadata": {
    "collapsed": false,
    "scrolled": false
   },
   "outputs": [
    {
     "data": {
      "text/html": [
       "<div>\n",
       "<table border=\"1\" class=\"dataframe\">\n",
       "  <thead>\n",
       "    <tr style=\"text-align: right;\">\n",
       "      <th></th>\n",
       "      <th>geo</th>\n",
       "      <th>name</th>\n",
       "      <th>geo_new</th>\n",
       "    </tr>\n",
       "  </thead>\n",
       "  <tbody>\n",
       "    <tr>\n",
       "      <th>0</th>\n",
       "      <td>us</td>\n",
       "      <td>US</td>\n",
       "      <td>usa</td>\n",
       "    </tr>\n",
       "    <tr>\n",
       "      <th>1</th>\n",
       "      <td>canada</td>\n",
       "      <td>Canada</td>\n",
       "      <td>can</td>\n",
       "    </tr>\n",
       "    <tr>\n",
       "      <th>2</th>\n",
       "      <td>mexico</td>\n",
       "      <td>Mexico</td>\n",
       "      <td>mex</td>\n",
       "    </tr>\n",
       "    <tr>\n",
       "      <th>4</th>\n",
       "      <td>argentina</td>\n",
       "      <td>Argentina</td>\n",
       "      <td>arg</td>\n",
       "    </tr>\n",
       "    <tr>\n",
       "      <th>5</th>\n",
       "      <td>brazil</td>\n",
       "      <td>Brazil</td>\n",
       "      <td>bra</td>\n",
       "    </tr>\n",
       "  </tbody>\n",
       "</table>\n",
       "</div>"
      ],
      "text/plain": [
       "         geo       name geo_new\n",
       "0         us         US     usa\n",
       "1     canada     Canada     can\n",
       "2     mexico     Mexico     mex\n",
       "4  argentina  Argentina     arg\n",
       "5     brazil     Brazil     bra"
      ]
     },
     "execution_count": 38,
     "metadata": {},
     "output_type": "execute_result"
    }
   ],
   "source": [
    "entities['geo'].head()"
   ]
  },
  {
   "cell_type": "code",
   "execution_count": 39,
   "metadata": {
    "collapsed": true
   },
   "outputs": [],
   "source": [
    "dps = res[1].get_data()"
   ]
  },
  {
   "cell_type": "code",
   "execution_count": 40,
   "metadata": {
    "collapsed": false
   },
   "outputs": [
    {
     "data": {
      "text/plain": [
       "dict_keys(['biofuels_production_kboed', 'biofuels_production_ktoe'])"
      ]
     },
     "execution_count": 40,
     "metadata": {},
     "output_type": "execute_result"
    }
   ],
   "source": [
    "dps.keys()"
   ]
  },
  {
   "cell_type": "code",
   "execution_count": 41,
   "metadata": {
    "collapsed": false
   },
   "outputs": [
    {
     "data": {
      "text/html": [
       "<div>\n",
       "<table border=\"1\" class=\"dataframe\">\n",
       "  <thead>\n",
       "    <tr style=\"text-align: right;\">\n",
       "      <th></th>\n",
       "      <th>geo</th>\n",
       "      <th>year</th>\n",
       "      <th>biofuels_production_kboed</th>\n",
       "    </tr>\n",
       "  </thead>\n",
       "  <tbody>\n",
       "    <tr>\n",
       "      <th>0</th>\n",
       "      <td>arg</td>\n",
       "      <td>1990</td>\n",
       "      <td>0.0</td>\n",
       "    </tr>\n",
       "    <tr>\n",
       "      <th>1</th>\n",
       "      <td>arg</td>\n",
       "      <td>1991</td>\n",
       "      <td>0.0</td>\n",
       "    </tr>\n",
       "    <tr>\n",
       "      <th>2</th>\n",
       "      <td>arg</td>\n",
       "      <td>1992</td>\n",
       "      <td>0.0</td>\n",
       "    </tr>\n",
       "    <tr>\n",
       "      <th>3</th>\n",
       "      <td>arg</td>\n",
       "      <td>1993</td>\n",
       "      <td>0.0</td>\n",
       "    </tr>\n",
       "    <tr>\n",
       "      <th>4</th>\n",
       "      <td>arg</td>\n",
       "      <td>1994</td>\n",
       "      <td>0.0</td>\n",
       "    </tr>\n",
       "  </tbody>\n",
       "</table>\n",
       "</div>"
      ],
      "text/plain": [
       "   geo  year  biofuels_production_kboed\n",
       "0  arg  1990                        0.0\n",
       "1  arg  1991                        0.0\n",
       "2  arg  1992                        0.0\n",
       "3  arg  1993                        0.0\n",
       "4  arg  1994                        0.0"
      ]
     },
     "execution_count": 41,
     "metadata": {},
     "output_type": "execute_result"
    }
   ],
   "source": [
    "dps['biofuels_production_kboed'].head()"
   ]
  },
  {
   "cell_type": "code",
   "execution_count": null,
   "metadata": {
    "collapsed": true
   },
   "outputs": [],
   "source": []
  },
  {
   "cell_type": "code",
   "execution_count": null,
   "metadata": {
    "collapsed": true
   },
   "outputs": [],
   "source": []
  }
 ],
 "metadata": {
  "kernelspec": {
   "display_name": "Python 3",
   "language": "python",
   "name": "python3"
  },
  "language_info": {
   "codemirror_mode": {
    "name": "ipython",
    "version": 3
   },
   "file_extension": ".py",
   "mimetype": "text/x-python",
   "name": "python",
   "nbconvert_exporter": "python",
   "pygments_lexer": "ipython3",
   "version": "3.6.0"
  }
 },
 "nbformat": 4,
 "nbformat_minor": 0
}
