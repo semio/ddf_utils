{
 "cells": [
  {
   "cell_type": "markdown",
   "metadata": {},
   "source": [
    "# What will be done here\n",
    "\n",
    "Because it's not clear in Gapminder's metadata about how Russian is splitted, we will try to reverse engineer the ratio of `rus`\n",
    "\n",
    "> Jasper Heeffer [9:52 PM]\n",
    "\n",
    "> so check if `ukr, rus, blr, arm, aze, est, geo, kaz, kgz, lva, ltu, mda, tjk, tkm, uzb` in 1992 gives the correct ratio for rus\n",
    "\n",
    "conclusion: it is correct"
   ]
  },
  {
   "cell_type": "code",
   "execution_count": 1,
   "metadata": {
    "collapsed": true
   },
   "outputs": [],
   "source": [
    "import pandas as pd\n",
    "import os\n",
    "import numpy as np\n",
    "import re\n",
    "import json"
   ]
  },
  {
   "cell_type": "code",
   "execution_count": 18,
   "metadata": {
    "collapsed": true
   },
   "outputs": [],
   "source": [
    "import ddf_utils.ddf_reader as dr\n",
    "from ddf_utils.str import format_float_sigfig, format_float_digits, to_concept_id"
   ]
  },
  {
   "cell_type": "code",
   "execution_count": 3,
   "metadata": {
    "collapsed": true
   },
   "outputs": [],
   "source": [
    "dr.SEARCH_PATH = '../../../'"
   ]
  },
  {
   "cell_type": "code",
   "execution_count": 4,
   "metadata": {
    "collapsed": true
   },
   "outputs": [],
   "source": [
    "co2 = dr.ddf_datapoint('ddf--cdiac-co2', \n",
    "                       'total_carbon_emissions', 'nation,year')"
   ]
  },
  {
   "cell_type": "code",
   "execution_count": 34,
   "metadata": {
    "collapsed": true
   },
   "outputs": [],
   "source": [
    "co2_2010 = dr.ddf_datapoint('ddf--gapminder--gapminder_world', 'yearly_co2_emissions_1000_tonnes')"
   ]
  },
  {
   "cell_type": "code",
   "execution_count": 5,
   "metadata": {
    "collapsed": true
   },
   "outputs": [],
   "source": [
    "pop = dr.ddf_datapoint('ddf--gapminder--population', 'population')"
   ]
  },
  {
   "cell_type": "code",
   "execution_count": 7,
   "metadata": {
    "collapsed": true
   },
   "outputs": [],
   "source": [
    "geo = dr.ddf_entities('ddf--gapminder--geo_entity_domain')['country']"
   ]
  },
  {
   "cell_type": "code",
   "execution_count": null,
   "metadata": {
    "collapsed": true
   },
   "outputs": [],
   "source": []
  },
  {
   "cell_type": "code",
   "execution_count": null,
   "metadata": {
    "collapsed": true
   },
   "outputs": [],
   "source": [
    "# load 2010 version cdiac data"
   ]
  },
  {
   "cell_type": "code",
   "execution_count": 8,
   "metadata": {
    "collapsed": true
   },
   "outputs": [],
   "source": [
    "def read_source(f, skip=0, **kwargs):\n",
    "    df = pd.read_csv(f, **kwargs)\n",
    "    # quick fix for malformed csv downloaded from data povider\n",
    "    if df.columns[0] == 'Year\"':\n",
    "        df = df.rename(columns={'Year\"': 'Year'})\n",
    "    df.columns = list(map(lambda x: x.lower().replace('\\n', ''), df.columns))\n",
    "    df = df.ix[skip:]  # skip first few rows of data\n",
    "    \n",
    "    return df"
   ]
  },
  {
   "cell_type": "code",
   "execution_count": 9,
   "metadata": {
    "collapsed": true
   },
   "outputs": [],
   "source": [
    "nation_file = '../../../ddf--cdiac-co2/etl/source/nation.1751_2010.csv'"
   ]
  },
  {
   "cell_type": "code",
   "execution_count": 24,
   "metadata": {
    "collapsed": true
   },
   "outputs": [],
   "source": [
    "nation_2010 = read_source(nation_file, skip=2, na_values='.')"
   ]
  },
  {
   "cell_type": "code",
   "execution_count": 25,
   "metadata": {
    "collapsed": false,
    "scrolled": true
   },
   "outputs": [
    {
     "data": {
      "text/html": [
       "<div>\n",
       "<table border=\"1\" class=\"dataframe\">\n",
       "  <thead>\n",
       "    <tr style=\"text-align: right;\">\n",
       "      <th></th>\n",
       "      <th>nation</th>\n",
       "      <th>year</th>\n",
       "      <th>total co2 emissions from fossil-fuels and cement production (thousand metric tons of c)</th>\n",
       "      <th>emissions from solid fuel consumption</th>\n",
       "      <th>emissions from liquid fuel consumption</th>\n",
       "      <th>emissions from gas fuel consumption</th>\n",
       "      <th>emissions from cement production</th>\n",
       "      <th>emissions from gas flaring</th>\n",
       "      <th>per capita co2 emissions (metric tons of carbon)</th>\n",
       "      <th>emissions from bunker fuels (not included in the totals)</th>\n",
       "    </tr>\n",
       "  </thead>\n",
       "  <tbody>\n",
       "    <tr>\n",
       "      <th>2</th>\n",
       "      <td>AFGHANISTAN</td>\n",
       "      <td>1949.0</td>\n",
       "      <td>4.0</td>\n",
       "      <td>4.0</td>\n",
       "      <td>0.0</td>\n",
       "      <td>0.0</td>\n",
       "      <td>0.0</td>\n",
       "      <td>NaN</td>\n",
       "      <td>NaN</td>\n",
       "      <td>0.0</td>\n",
       "    </tr>\n",
       "    <tr>\n",
       "      <th>3</th>\n",
       "      <td>AFGHANISTAN</td>\n",
       "      <td>1950.0</td>\n",
       "      <td>23.0</td>\n",
       "      <td>6.0</td>\n",
       "      <td>18.0</td>\n",
       "      <td>0.0</td>\n",
       "      <td>0.0</td>\n",
       "      <td>0.0</td>\n",
       "      <td>0.0</td>\n",
       "      <td>0.0</td>\n",
       "    </tr>\n",
       "    <tr>\n",
       "      <th>4</th>\n",
       "      <td>AFGHANISTAN</td>\n",
       "      <td>1951.0</td>\n",
       "      <td>25.0</td>\n",
       "      <td>7.0</td>\n",
       "      <td>18.0</td>\n",
       "      <td>0.0</td>\n",
       "      <td>0.0</td>\n",
       "      <td>0.0</td>\n",
       "      <td>0.0</td>\n",
       "      <td>0.0</td>\n",
       "    </tr>\n",
       "    <tr>\n",
       "      <th>5</th>\n",
       "      <td>AFGHANISTAN</td>\n",
       "      <td>1952.0</td>\n",
       "      <td>25.0</td>\n",
       "      <td>9.0</td>\n",
       "      <td>17.0</td>\n",
       "      <td>0.0</td>\n",
       "      <td>0.0</td>\n",
       "      <td>0.0</td>\n",
       "      <td>0.0</td>\n",
       "      <td>0.0</td>\n",
       "    </tr>\n",
       "    <tr>\n",
       "      <th>6</th>\n",
       "      <td>AFGHANISTAN</td>\n",
       "      <td>1953.0</td>\n",
       "      <td>29.0</td>\n",
       "      <td>10.0</td>\n",
       "      <td>18.0</td>\n",
       "      <td>0.0</td>\n",
       "      <td>0.0</td>\n",
       "      <td>0.0</td>\n",
       "      <td>0.0</td>\n",
       "      <td>0.0</td>\n",
       "    </tr>\n",
       "  </tbody>\n",
       "</table>\n",
       "</div>"
      ],
      "text/plain": [
       "        nation    year  \\\n",
       "2  AFGHANISTAN  1949.0   \n",
       "3  AFGHANISTAN  1950.0   \n",
       "4  AFGHANISTAN  1951.0   \n",
       "5  AFGHANISTAN  1952.0   \n",
       "6  AFGHANISTAN  1953.0   \n",
       "\n",
       "   total co2 emissions from fossil-fuels and cement production (thousand metric tons of c)  \\\n",
       "2                                                4.0                                         \n",
       "3                                               23.0                                         \n",
       "4                                               25.0                                         \n",
       "5                                               25.0                                         \n",
       "6                                               29.0                                         \n",
       "\n",
       "   emissions from solid fuel consumption  \\\n",
       "2                                    4.0   \n",
       "3                                    6.0   \n",
       "4                                    7.0   \n",
       "5                                    9.0   \n",
       "6                                   10.0   \n",
       "\n",
       "   emissions from liquid fuel consumption  \\\n",
       "2                                     0.0   \n",
       "3                                    18.0   \n",
       "4                                    18.0   \n",
       "5                                    17.0   \n",
       "6                                    18.0   \n",
       "\n",
       "   emissions from gas fuel consumption  emissions from cement production  \\\n",
       "2                                  0.0                               0.0   \n",
       "3                                  0.0                               0.0   \n",
       "4                                  0.0                               0.0   \n",
       "5                                  0.0                               0.0   \n",
       "6                                  0.0                               0.0   \n",
       "\n",
       "   emissions from gas flaring  \\\n",
       "2                         NaN   \n",
       "3                         0.0   \n",
       "4                         0.0   \n",
       "5                         0.0   \n",
       "6                         0.0   \n",
       "\n",
       "   per capita co2 emissions (metric tons of carbon)  \\\n",
       "2                                               NaN   \n",
       "3                                               0.0   \n",
       "4                                               0.0   \n",
       "5                                               0.0   \n",
       "6                                               0.0   \n",
       "\n",
       "   emissions from bunker fuels (not included in the totals)  \n",
       "2                                                0.0         \n",
       "3                                                0.0         \n",
       "4                                                0.0         \n",
       "5                                                0.0         \n",
       "6                                                0.0         "
      ]
     },
     "execution_count": 25,
     "metadata": {},
     "output_type": "execute_result"
    }
   ],
   "source": [
    "nation_2010.head()"
   ]
  },
  {
   "cell_type": "code",
   "execution_count": 26,
   "metadata": {
    "collapsed": false
   },
   "outputs": [],
   "source": [
    "# fix year to int\n",
    "nation_2010.year = nation_2010.year.map(int)"
   ]
  },
  {
   "cell_type": "code",
   "execution_count": 27,
   "metadata": {
    "collapsed": true
   },
   "outputs": [],
   "source": [
    "# fix nation name for hkg and mac\n",
    "nation_2010['nation'] = nation_2010['nation'].map(\n",
    "        lambda x: x.replace('ADMINSTRATIVE', 'ADMINISTRATIVE') if 'ADMINSTRATIVE' in x else x)"
   ]
  },
  {
   "cell_type": "code",
   "execution_count": null,
   "metadata": {
    "collapsed": true
   },
   "outputs": [],
   "source": []
  },
  {
   "cell_type": "code",
   "execution_count": 15,
   "metadata": {
    "collapsed": true
   },
   "outputs": [],
   "source": [
    "def get_concept_id(name):\n",
    "    \"\"\"return concept name for given indicator name.\n",
    "    \"\"\"\n",
    "    if 'total ' in name.lower():\n",
    "        return 'total_carbon_emissions'\n",
    "    else:\n",
    "        subtypes = [\n",
    "            'gas fuel consumption', 'liquid fuel consumption', 'solid fuel consumption',\n",
    "            'cement production', 'gas flaring', 'bunker fuels', 'per capita'\n",
    "        ]\n",
    "        for i in subtypes:\n",
    "            if i in name.lower():\n",
    "                return 'carbon_emissions_'+to_concept_id(i)\n",
    "        # if nothing found, it should be a non measure concept.\n",
    "        return to_concept_id(name)"
   ]
  },
  {
   "cell_type": "code",
   "execution_count": null,
   "metadata": {
    "collapsed": true
   },
   "outputs": [],
   "source": []
  },
  {
   "cell_type": "code",
   "execution_count": 28,
   "metadata": {
    "collapsed": false
   },
   "outputs": [],
   "source": [
    "nation_2010.columns = list(map(get_concept_id, nation_2010.columns))"
   ]
  },
  {
   "cell_type": "code",
   "execution_count": 20,
   "metadata": {
    "collapsed": false
   },
   "outputs": [],
   "source": [
    "# nation_2010.nation = nation_2010.nation.map(to_concept_id)"
   ]
  },
  {
   "cell_type": "code",
   "execution_count": 29,
   "metadata": {
    "collapsed": true
   },
   "outputs": [],
   "source": [
    "nation_cdiac = nation_2010.nation.unique()"
   ]
  },
  {
   "cell_type": "code",
   "execution_count": 30,
   "metadata": {
    "collapsed": false
   },
   "outputs": [
    {
     "data": {
      "text/plain": [
       "array(['AFGHANISTAN', 'ALBANIA', 'ALGERIA', 'ANDORRA', 'ANGOLA',\n",
       "       'ANGUILLA', 'ANTARCTIC FISHERIES', 'ANTIGUA & BARBUDA', 'ARGENTINA',\n",
       "       'ARMENIA', 'ARUBA', 'AUSTRALIA', 'AUSTRIA', 'AZERBAIJAN', 'BAHAMAS',\n",
       "       'BAHRAIN', 'BANGLADESH', 'BARBADOS', 'BELARUS', 'BELGIUM', 'BELIZE',\n",
       "       'BENIN', 'BERMUDA', 'BHUTAN', 'BOSNIA & HERZEGOVINA', 'BOTSWANA',\n",
       "       'BRAZIL', 'BRITISH VIRGIN ISLANDS', 'BRUNEI (DARUSSALAM)',\n",
       "       'BULGARIA', 'BURKINA FASO', 'BURUNDI', 'CAMBODIA', 'CANADA',\n",
       "       'CAPE VERDE', 'CAYMAN ISLANDS', 'CENTRAL AFRICAN REPUBLIC', 'CHAD',\n",
       "       'CHILE', 'CHINA (MAINLAND)', 'CHRISTMAS ISLAND', 'COLOMBIA',\n",
       "       'COMOROS', 'CONGO', 'COOK ISLANDS', 'COSTA RICA', 'COTE D IVOIRE',\n",
       "       'CROATIA', 'CUBA', 'CYPRUS', 'CZECH REPUBLIC', 'CZECHOSLOVAKIA',\n",
       "       'DEMOCRATIC PEOPLE S REPUBLIC OF KOREA',\n",
       "       'DEMOCRATIC REPUBLIC OF THE CONGO (FORMERLY ZAIRE)',\n",
       "       'DEMOCRATIC REPUBLIC OF VIETNAM', 'DENMARK', 'DJIBOUTI', 'DOMINICA',\n",
       "       'DOMINICAN REPUBLIC', 'EAST & WEST PAKISTAN', 'ECUADOR', 'EGYPT',\n",
       "       'EL SALVADOR', 'EQUATORIAL GUINEA', 'ERITREA', 'ESTONIA',\n",
       "       'ETHIOPIA', 'FAEROE ISLANDS', 'FALKLAND ISLANDS (MALVINAS)',\n",
       "       'FEDERAL REPUBLIC OF GERMANY', 'FEDERATED STATES OF MICRONESIA',\n",
       "       'FEDERATION OF MALAYA-SINGAPORE', 'FIJI', 'FINLAND',\n",
       "       'FORMER DEMOCRATIC YEMEN', 'FORMER GERMAN DEMOCRATIC REPUBLIC',\n",
       "       'FORMER PANAMA CANAL ZONE', 'FORMER YEMEN',\n",
       "       'FRANCE (INCLUDING MONACO)', 'FRENCH EQUATORIAL AFRICA',\n",
       "       'FRENCH GUIANA', 'FRENCH INDO-CHINA', 'FRENCH POLYNESIA',\n",
       "       'FRENCH WEST AFRICA', 'GABON', 'GAMBIA', 'GEORGIA', 'GERMANY',\n",
       "       'GHANA', 'GIBRALTAR', 'GREECE', 'GREENLAND', 'GRENADA',\n",
       "       'GUADELOUPE', 'GUATEMALA', 'GUINEA', 'GUINEA BISSAU', 'GUYANA',\n",
       "       'HAITI', 'HONDURAS',\n",
       "       'HONG KONG SPECIAL ADMINISTRATIVE REGION OF CHINA', 'HUNGARY',\n",
       "       'ICELAND', 'INDIA', 'INDONESIA', 'IRAQ', 'IRELAND',\n",
       "       'ISLAMIC REPUBLIC OF IRAN', 'ISRAEL',\n",
       "       'ITALY (INCLUDING SAN MARINO)', 'JAMAICA', 'JAPAN',\n",
       "       'JAPAN (EXCLUDING THE RUYUKU ISLANDS)', 'JORDAN', 'KAZAKHSTAN',\n",
       "       'KENYA', 'KIRIBATI', 'KUWAIT', 'KUWAITI OIL FIRES', 'KYRGYZSTAN',\n",
       "       'LAO PEOPLE S DEMOCRATIC REPUBLIC', 'LATVIA', 'LEBANON',\n",
       "       'LEEWARD ISLANDS', 'LESOTHO', 'LIBERIA', 'LIBYAN ARAB JAMAHIRIYAH',\n",
       "       'LITHUANIA', 'LUXEMBOURG',\n",
       "       'MACAU SPECIAL ADMINISTRATIVE REGION OF CHINA', 'MACEDONIA',\n",
       "       'MADAGASCAR', 'MALAWI', 'MALAYSIA', 'MALDIVES', 'MALI', 'MALTA',\n",
       "       'MARSHALL ISLANDS', 'MARTINIQUE', 'MAURITANIA', 'MAURITIUS',\n",
       "       'MEXICO', 'MONGOLIA', 'MONTENEGRO', 'MONTSERRAT', 'MOROCCO',\n",
       "       'MOZAMBIQUE', 'MYANMAR (FORMERLY BURMA)', 'NAMIBIA', 'NAURU',\n",
       "       'NEPAL', 'NETHERLAND ANTILLES', 'NETHERLAND ANTILLES AND ARUBA',\n",
       "       'NETHERLANDS', 'NEW CALEDONIA', 'NEW ZEALAND', 'NICARAGUA', 'NIGER',\n",
       "       'NIGERIA', 'NIUE', 'NORWAY', 'OCCUPIED PALESTINIAN TERRITORY',\n",
       "       'OMAN', 'PACIFIC ISLANDS (PALAU)', 'PAKISTAN', 'PALAU', 'PANAMA',\n",
       "       'PAPUA NEW GUINEA', 'PARAGUAY', 'PENINSULAR MALAYSIA', 'PERU',\n",
       "       'PHILIPPINES', 'PLURINATIONAL STATE OF BOLIVIA', 'POLAND',\n",
       "       'PORTUGAL', 'PUERTO RICO', 'QATAR', 'REPUBLIC OF CAMEROON',\n",
       "       'REPUBLIC OF KOREA', 'REPUBLIC OF MOLDOVA',\n",
       "       'REPUBLIC OF SOUTH VIETNAM', 'REUNION', 'RHODESIA-NYASALAND',\n",
       "       'ROMANIA', 'RUSSIAN FEDERATION', 'RWANDA', 'RWANDA-URUNDI',\n",
       "       'RYUKYU ISLANDS', 'SABAH', 'SAINT HELENA', 'SAINT LUCIA', 'SAMOA',\n",
       "       'SAO TOME & PRINCIPE', 'SARAWAK', 'SAUDI ARABIA', 'SENEGAL',\n",
       "       'SERBIA', 'SEYCHELLES', 'SIERRA LEONE', 'SINGAPORE', 'SLOVAKIA',\n",
       "       'SLOVENIA', 'SOLOMON ISLANDS', 'SOMALIA', 'SOUTH AFRICA', 'SPAIN',\n",
       "       'SRI LANKA', 'ST. KITTS-NEVIS', 'ST. KITTS-NEVIS-ANGUILLA',\n",
       "       'ST. PIERRE & MIQUELON', 'ST. VINCENT & THE GRENADINES', 'SUDAN',\n",
       "       'SURINAME', 'SWAZILAND', 'SWEDEN', 'SWITZERLAND',\n",
       "       'SYRIAN ARAB REPUBLIC', 'TAIWAN', 'TAJIKISTAN', 'TANGANYIKA',\n",
       "       'THAILAND', 'TIMOR-LESTE (FORMERLY EAST TIMOR)', 'TOGO', 'TONGA',\n",
       "       'TRINIDAD AND TOBAGO', 'TUNISIA', 'TURKEY', 'TURKMENISTAN',\n",
       "       'TURKS AND CAICOS ISLANDS', 'UGANDA', 'UKRAINE',\n",
       "       'UNITED ARAB EMIRATES', 'UNITED KINGDOM', 'UNITED KOREA',\n",
       "       'UNITED REPUBLIC OF TANZANIA', 'UNITED STATES OF AMERICA',\n",
       "       'URUGUAY', 'USSR', 'UZBEKISTAN', 'VANUATU', 'VENEZUELA', 'VIET NAM',\n",
       "       'WALLIS AND FUTUNA ISLANDS', 'WESTERN SAHARA', 'YEMEN',\n",
       "       'YUGOSLAVIA (FORMER SOCIALIST FEDERAL REPUBLIC)',\n",
       "       'YUGOSLAVIA (MONTENEGRO & SERBIA)', 'ZAMBIA', 'ZANZIBAR', 'ZIMBABWE'], dtype=object)"
      ]
     },
     "execution_count": 30,
     "metadata": {},
     "output_type": "execute_result"
    }
   ],
   "source": [
    "nation_cdiac"
   ]
  },
  {
   "cell_type": "code",
   "execution_count": 32,
   "metadata": {
    "collapsed": false
   },
   "outputs": [
    {
     "name": "stdout",
     "output_type": "stream",
     "text": [
      "not found:  ANTARCTIC FISHERIES\n",
      "not found:  DEMOCRATIC REPUBLIC OF VIETNAM\n",
      "not found:  EAST & WEST PAKISTAN\n",
      "not found:  FEDERATION OF MALAYA-SINGAPORE\n",
      "not found:  FORMER PANAMA CANAL ZONE\n",
      "not found:  FRENCH EQUATORIAL AFRICA\n",
      "not found:  FRENCH INDO-CHINA\n",
      "not found:  FRENCH WEST AFRICA\n",
      "not found:  KUWAITI OIL FIRES\n",
      "not found:  LEEWARD ISLANDS\n",
      "not found:  NETHERLAND ANTILLES AND ARUBA\n",
      "not found:  PACIFIC ISLANDS (PALAU)\n",
      "not found:  PENINSULAR MALAYSIA\n",
      "not found:  REPUBLIC OF SOUTH VIETNAM\n",
      "not found:  RHODESIA-NYASALAND\n",
      "not found:  RWANDA-URUNDI\n",
      "not found:  RYUKYU ISLANDS\n",
      "not found:  SABAH\n",
      "not found:  SARAWAK\n",
      "not found:  ST. KITTS-NEVIS-ANGUILLA\n",
      "not found:  TANGANYIKA\n",
      "not found:  ZANZIBAR\n"
     ]
    }
   ],
   "source": [
    "map_c = {}\n",
    "search_cols = ['name', 'gapminder_list','alternative_1', 'alternative_2', 'alternative_3',\n",
    "               'alternative_4_cdiac', 'pandg', 'god_id', 'alt_5', 'upper_case_name', \n",
    "               'arb1', 'arb2', 'arb3', 'arb4', 'arb5', 'arb6'\n",
    "              ]\n",
    "\n",
    "for g in nation_cdiac:\n",
    "    masks = []\n",
    "    for c in search_cols:\n",
    "        masks.append(geo[c].str.lower() == g.lower())\n",
    "    \n",
    "    map0 = masks[0]\n",
    "    for m in masks[1:]:\n",
    "        map0 = map0 | m\n",
    "        \n",
    "    filtered = geo[map0]\n",
    "    if len(filtered) > 1:\n",
    "        print('multiple entities found for '+g)\n",
    "        print(filtered['country'].values)\n",
    "    elif len(filtered) > 0:\n",
    "        map_c[g] = filtered['country'].values[0]\n",
    "    else:\n",
    "        print('not found: ', g)"
   ]
  },
  {
   "cell_type": "code",
   "execution_count": null,
   "metadata": {
    "collapsed": true
   },
   "outputs": [],
   "source": []
  },
  {
   "cell_type": "code",
   "execution_count": 33,
   "metadata": {
    "collapsed": false
   },
   "outputs": [
    {
     "data": {
      "text/html": [
       "<div>\n",
       "<table border=\"1\" class=\"dataframe\">\n",
       "  <thead>\n",
       "    <tr style=\"text-align: right;\">\n",
       "      <th></th>\n",
       "      <th>nation</th>\n",
       "      <th>year</th>\n",
       "      <th>total_carbon_emissions</th>\n",
       "      <th>carbon_emissions_solid_fuel_consumption</th>\n",
       "      <th>carbon_emissions_liquid_fuel_consumption</th>\n",
       "      <th>carbon_emissions_gas_fuel_consumption</th>\n",
       "      <th>carbon_emissions_cement_production</th>\n",
       "      <th>carbon_emissions_gas_flaring</th>\n",
       "      <th>carbon_emissions_per_capita</th>\n",
       "      <th>carbon_emissions_bunker_fuels</th>\n",
       "    </tr>\n",
       "  </thead>\n",
       "  <tbody>\n",
       "    <tr>\n",
       "      <th>2</th>\n",
       "      <td>AFGHANISTAN</td>\n",
       "      <td>1949</td>\n",
       "      <td>4.0</td>\n",
       "      <td>4.0</td>\n",
       "      <td>0.0</td>\n",
       "      <td>0.0</td>\n",
       "      <td>0.0</td>\n",
       "      <td>NaN</td>\n",
       "      <td>NaN</td>\n",
       "      <td>0.0</td>\n",
       "    </tr>\n",
       "    <tr>\n",
       "      <th>3</th>\n",
       "      <td>AFGHANISTAN</td>\n",
       "      <td>1950</td>\n",
       "      <td>23.0</td>\n",
       "      <td>6.0</td>\n",
       "      <td>18.0</td>\n",
       "      <td>0.0</td>\n",
       "      <td>0.0</td>\n",
       "      <td>0.0</td>\n",
       "      <td>0.0</td>\n",
       "      <td>0.0</td>\n",
       "    </tr>\n",
       "    <tr>\n",
       "      <th>4</th>\n",
       "      <td>AFGHANISTAN</td>\n",
       "      <td>1951</td>\n",
       "      <td>25.0</td>\n",
       "      <td>7.0</td>\n",
       "      <td>18.0</td>\n",
       "      <td>0.0</td>\n",
       "      <td>0.0</td>\n",
       "      <td>0.0</td>\n",
       "      <td>0.0</td>\n",
       "      <td>0.0</td>\n",
       "    </tr>\n",
       "    <tr>\n",
       "      <th>5</th>\n",
       "      <td>AFGHANISTAN</td>\n",
       "      <td>1952</td>\n",
       "      <td>25.0</td>\n",
       "      <td>9.0</td>\n",
       "      <td>17.0</td>\n",
       "      <td>0.0</td>\n",
       "      <td>0.0</td>\n",
       "      <td>0.0</td>\n",
       "      <td>0.0</td>\n",
       "      <td>0.0</td>\n",
       "    </tr>\n",
       "    <tr>\n",
       "      <th>6</th>\n",
       "      <td>AFGHANISTAN</td>\n",
       "      <td>1953</td>\n",
       "      <td>29.0</td>\n",
       "      <td>10.0</td>\n",
       "      <td>18.0</td>\n",
       "      <td>0.0</td>\n",
       "      <td>0.0</td>\n",
       "      <td>0.0</td>\n",
       "      <td>0.0</td>\n",
       "      <td>0.0</td>\n",
       "    </tr>\n",
       "  </tbody>\n",
       "</table>\n",
       "</div>"
      ],
      "text/plain": [
       "        nation  year  total_carbon_emissions  \\\n",
       "2  AFGHANISTAN  1949                     4.0   \n",
       "3  AFGHANISTAN  1950                    23.0   \n",
       "4  AFGHANISTAN  1951                    25.0   \n",
       "5  AFGHANISTAN  1952                    25.0   \n",
       "6  AFGHANISTAN  1953                    29.0   \n",
       "\n",
       "   carbon_emissions_solid_fuel_consumption  \\\n",
       "2                                      4.0   \n",
       "3                                      6.0   \n",
       "4                                      7.0   \n",
       "5                                      9.0   \n",
       "6                                     10.0   \n",
       "\n",
       "   carbon_emissions_liquid_fuel_consumption  \\\n",
       "2                                       0.0   \n",
       "3                                      18.0   \n",
       "4                                      18.0   \n",
       "5                                      17.0   \n",
       "6                                      18.0   \n",
       "\n",
       "   carbon_emissions_gas_fuel_consumption  carbon_emissions_cement_production  \\\n",
       "2                                    0.0                                 0.0   \n",
       "3                                    0.0                                 0.0   \n",
       "4                                    0.0                                 0.0   \n",
       "5                                    0.0                                 0.0   \n",
       "6                                    0.0                                 0.0   \n",
       "\n",
       "   carbon_emissions_gas_flaring  carbon_emissions_per_capita  \\\n",
       "2                           NaN                          NaN   \n",
       "3                           0.0                          0.0   \n",
       "4                           0.0                          0.0   \n",
       "5                           0.0                          0.0   \n",
       "6                           0.0                          0.0   \n",
       "\n",
       "   carbon_emissions_bunker_fuels  \n",
       "2                            0.0  \n",
       "3                            0.0  \n",
       "4                            0.0  \n",
       "5                            0.0  \n",
       "6                            0.0  "
      ]
     },
     "execution_count": 33,
     "metadata": {},
     "output_type": "execute_result"
    }
   ],
   "source": [
    "nation_2010.head()"
   ]
  },
  {
   "cell_type": "code",
   "execution_count": 37,
   "metadata": {
    "collapsed": false
   },
   "outputs": [],
   "source": [
    "nation_2010['geo'] = nation_2010.nation.map(lambda x: map_c[x] if x in map_c.keys() else None)"
   ]
  },
  {
   "cell_type": "code",
   "execution_count": 40,
   "metadata": {
    "collapsed": true
   },
   "outputs": [],
   "source": [
    "co2_2010_cdiac = nation_2010[['geo', 'year', 'total_carbon_emissions']].copy()"
   ]
  },
  {
   "cell_type": "code",
   "execution_count": 41,
   "metadata": {
    "collapsed": false
   },
   "outputs": [],
   "source": [
    "co2_2010_cdiac['total_carbon_emissions'] = co2_2010_cdiac['total_carbon_emissions'] * 3.6667"
   ]
  },
  {
   "cell_type": "code",
   "execution_count": 42,
   "metadata": {
    "collapsed": false
   },
   "outputs": [
    {
     "data": {
      "text/html": [
       "<div>\n",
       "<table border=\"1\" class=\"dataframe\">\n",
       "  <thead>\n",
       "    <tr style=\"text-align: right;\">\n",
       "      <th></th>\n",
       "      <th>geo</th>\n",
       "      <th>year</th>\n",
       "      <th>total_carbon_emissions</th>\n",
       "    </tr>\n",
       "  </thead>\n",
       "  <tbody>\n",
       "    <tr>\n",
       "      <th>2</th>\n",
       "      <td>afg</td>\n",
       "      <td>1949</td>\n",
       "      <td>14.6668</td>\n",
       "    </tr>\n",
       "    <tr>\n",
       "      <th>3</th>\n",
       "      <td>afg</td>\n",
       "      <td>1950</td>\n",
       "      <td>84.3341</td>\n",
       "    </tr>\n",
       "    <tr>\n",
       "      <th>4</th>\n",
       "      <td>afg</td>\n",
       "      <td>1951</td>\n",
       "      <td>91.6675</td>\n",
       "    </tr>\n",
       "    <tr>\n",
       "      <th>5</th>\n",
       "      <td>afg</td>\n",
       "      <td>1952</td>\n",
       "      <td>91.6675</td>\n",
       "    </tr>\n",
       "    <tr>\n",
       "      <th>6</th>\n",
       "      <td>afg</td>\n",
       "      <td>1953</td>\n",
       "      <td>106.3343</td>\n",
       "    </tr>\n",
       "  </tbody>\n",
       "</table>\n",
       "</div>"
      ],
      "text/plain": [
       "   geo  year  total_carbon_emissions\n",
       "2  afg  1949                 14.6668\n",
       "3  afg  1950                 84.3341\n",
       "4  afg  1951                 91.6675\n",
       "5  afg  1952                 91.6675\n",
       "6  afg  1953                106.3343"
      ]
     },
     "execution_count": 42,
     "metadata": {},
     "output_type": "execute_result"
    }
   ],
   "source": [
    "co2_2010_cdiac.head()"
   ]
  },
  {
   "cell_type": "code",
   "execution_count": 35,
   "metadata": {
    "collapsed": false
   },
   "outputs": [
    {
     "data": {
      "text/html": [
       "<div>\n",
       "<table border=\"1\" class=\"dataframe\">\n",
       "  <thead>\n",
       "    <tr style=\"text-align: right;\">\n",
       "      <th></th>\n",
       "      <th>yearly_co2_emissions_1000_tonnes</th>\n",
       "      <th>geo</th>\n",
       "      <th>time</th>\n",
       "    </tr>\n",
       "  </thead>\n",
       "  <tbody>\n",
       "    <tr>\n",
       "      <th>0</th>\n",
       "      <td>14.67</td>\n",
       "      <td>afg</td>\n",
       "      <td>1949</td>\n",
       "    </tr>\n",
       "    <tr>\n",
       "      <th>1</th>\n",
       "      <td>84.33</td>\n",
       "      <td>afg</td>\n",
       "      <td>1950</td>\n",
       "    </tr>\n",
       "    <tr>\n",
       "      <th>2</th>\n",
       "      <td>91.67</td>\n",
       "      <td>afg</td>\n",
       "      <td>1951</td>\n",
       "    </tr>\n",
       "    <tr>\n",
       "      <th>3</th>\n",
       "      <td>91.67</td>\n",
       "      <td>afg</td>\n",
       "      <td>1952</td>\n",
       "    </tr>\n",
       "    <tr>\n",
       "      <th>4</th>\n",
       "      <td>106.30</td>\n",
       "      <td>afg</td>\n",
       "      <td>1953</td>\n",
       "    </tr>\n",
       "  </tbody>\n",
       "</table>\n",
       "</div>"
      ],
      "text/plain": [
       "   yearly_co2_emissions_1000_tonnes  geo  time\n",
       "0                             14.67  afg  1949\n",
       "1                             84.33  afg  1950\n",
       "2                             91.67  afg  1951\n",
       "3                             91.67  afg  1952\n",
       "4                            106.30  afg  1953"
      ]
     },
     "execution_count": 35,
     "metadata": {},
     "output_type": "execute_result"
    }
   ],
   "source": [
    "co2_2010.head()"
   ]
  },
  {
   "cell_type": "code",
   "execution_count": 43,
   "metadata": {
    "collapsed": true
   },
   "outputs": [],
   "source": [
    "co2_2010.columns = ['total_carbon_emissions', 'geo', 'year']"
   ]
  },
  {
   "cell_type": "code",
   "execution_count": null,
   "metadata": {
    "collapsed": true
   },
   "outputs": [],
   "source": []
  },
  {
   "cell_type": "code",
   "execution_count": 108,
   "metadata": {
    "collapsed": false
   },
   "outputs": [],
   "source": [
    "rus_gw_2010 = co2_2010[co2_2010.geo == 'rus']"
   ]
  },
  {
   "cell_type": "code",
   "execution_count": 109,
   "metadata": {
    "collapsed": false
   },
   "outputs": [
    {
     "data": {
      "text/html": [
       "<div>\n",
       "<table border=\"1\" class=\"dataframe\">\n",
       "  <thead>\n",
       "    <tr style=\"text-align: right;\">\n",
       "      <th></th>\n",
       "      <th>total_carbon_emissions</th>\n",
       "      <th>geo</th>\n",
       "      <th>year</th>\n",
       "    </tr>\n",
       "  </thead>\n",
       "  <tbody>\n",
       "    <tr>\n",
       "      <th>11730</th>\n",
       "      <td>11.380</td>\n",
       "      <td>rus</td>\n",
       "      <td>1830</td>\n",
       "    </tr>\n",
       "    <tr>\n",
       "      <th>11731</th>\n",
       "      <td>13.660</td>\n",
       "      <td>rus</td>\n",
       "      <td>1831</td>\n",
       "    </tr>\n",
       "    <tr>\n",
       "      <th>11732</th>\n",
       "      <td>9.104</td>\n",
       "      <td>rus</td>\n",
       "      <td>1832</td>\n",
       "    </tr>\n",
       "    <tr>\n",
       "      <th>11733</th>\n",
       "      <td>11.380</td>\n",
       "      <td>rus</td>\n",
       "      <td>1833</td>\n",
       "    </tr>\n",
       "    <tr>\n",
       "      <th>11734</th>\n",
       "      <td>70.560</td>\n",
       "      <td>rus</td>\n",
       "      <td>1850</td>\n",
       "    </tr>\n",
       "  </tbody>\n",
       "</table>\n",
       "</div>"
      ],
      "text/plain": [
       "       total_carbon_emissions  geo  year\n",
       "11730                  11.380  rus  1830\n",
       "11731                  13.660  rus  1831\n",
       "11732                   9.104  rus  1832\n",
       "11733                  11.380  rus  1833\n",
       "11734                  70.560  rus  1850"
      ]
     },
     "execution_count": 109,
     "metadata": {},
     "output_type": "execute_result"
    }
   ],
   "source": [
    "rus_gw_2010.head()"
   ]
  },
  {
   "cell_type": "code",
   "execution_count": 61,
   "metadata": {
    "collapsed": false
   },
   "outputs": [],
   "source": [
    "spls = ['ukr', 'rus', 'blr', 'arm', 'aze', 'est', 'geo', 'kaz', 'kgz', 'lva', 'ltu', \n",
    "        'mda', 'tjk', 'tkm', 'uzb']\n",
    "\n",
    "rus_1992 = co2_2010_cdiac[(co2_2010_cdiac.geo.isin(spls) & (co2_2010_cdiac.year == 1992))]"
   ]
  },
  {
   "cell_type": "code",
   "execution_count": 62,
   "metadata": {
    "collapsed": true
   },
   "outputs": [],
   "source": [
    "rus_1992 = rus_1992.set_index(['geo', 'year'])"
   ]
  },
  {
   "cell_type": "code",
   "execution_count": 75,
   "metadata": {
    "collapsed": false
   },
   "outputs": [],
   "source": [
    "ratio = {}\n",
    "\n",
    "total = rus_1992.total_carbon_emissions.sum()\n",
    "\n",
    "for s in spls:\n",
    "    ratio[s] = rus_1992.ix[(s, 1992), 'total_carbon_emissions'] / total"
   ]
  },
  {
   "cell_type": "code",
   "execution_count": 76,
   "metadata": {
    "collapsed": false
   },
   "outputs": [
    {
     "data": {
      "text/plain": [
       "{'arm': 0.0011754906476687519,\n",
       " 'aze': 0.016733455102108115,\n",
       " 'blr': 0.025379960065231747,\n",
       " 'est': 0.0066763613617819798,\n",
       " 'geo': 0.0044487799896386609,\n",
       " 'kaz': 0.075804785576676553,\n",
       " 'kgz': 0.0031509532112170527,\n",
       " 'ltu': 0.0064253063456282912,\n",
       " 'lva': 0.0039275216933873595,\n",
       " 'mda': 0.0060838289719616218,\n",
       " 'rus': 0.62073033606267014,\n",
       " 'tjk': 0.0020946073169771698,\n",
       " 'tkm': 0.0081422673459335994,\n",
       " 'ukr': 0.1861509117233118,\n",
       " 'uzb': 0.033075434585807091}"
      ]
     },
     "execution_count": 76,
     "metadata": {},
     "output_type": "execute_result"
    }
   ],
   "source": [
    "ratio"
   ]
  },
  {
   "cell_type": "code",
   "execution_count": 60,
   "metadata": {
    "collapsed": false
   },
   "outputs": [
    {
     "data": {
      "text/html": [
       "<div>\n",
       "<table border=\"1\" class=\"dataframe\">\n",
       "  <thead>\n",
       "    <tr style=\"text-align: right;\">\n",
       "      <th></th>\n",
       "      <th>total_carbon_emissions</th>\n",
       "      <th>geo</th>\n",
       "      <th>year</th>\n",
       "    </tr>\n",
       "  </thead>\n",
       "  <tbody>\n",
       "    <tr>\n",
       "      <th>11870</th>\n",
       "      <td>2140000.0</td>\n",
       "      <td>rus</td>\n",
       "      <td>1992</td>\n",
       "    </tr>\n",
       "  </tbody>\n",
       "</table>\n",
       "</div>"
      ],
      "text/plain": [
       "       total_carbon_emissions  geo  year\n",
       "11870               2140000.0  rus  1992"
      ]
     },
     "execution_count": 60,
     "metadata": {},
     "output_type": "execute_result"
    }
   ],
   "source": [
    "rus_gw_2010[rus_gw_2010.year == 1992]"
   ]
  },
  {
   "cell_type": "code",
   "execution_count": 122,
   "metadata": {
    "collapsed": false
   },
   "outputs": [],
   "source": [
    "ussr = nation_2010[nation_2010.nation == 'USSR']"
   ]
  },
  {
   "cell_type": "code",
   "execution_count": 123,
   "metadata": {
    "collapsed": false
   },
   "outputs": [],
   "source": [
    "ussr = ussr[['geo', 'year', 'total_carbon_emissions']].copy()"
   ]
  },
  {
   "cell_type": "code",
   "execution_count": 124,
   "metadata": {
    "collapsed": false
   },
   "outputs": [],
   "source": [
    "ussr['total_carbon_emissions'] = ussr['total_carbon_emissions'] * 3.6667"
   ]
  },
  {
   "cell_type": "code",
   "execution_count": 126,
   "metadata": {
    "collapsed": false
   },
   "outputs": [],
   "source": [
    "ussr['total_carbon_emissions'] = ussr['total_carbon_emissions'] * ratio['rus']\n",
    "ussr.geo = 'rus'"
   ]
  },
  {
   "cell_type": "code",
   "execution_count": 102,
   "metadata": {
    "collapsed": false
   },
   "outputs": [],
   "source": [
    "# for s in spls:\n",
    "#     new_df = ussr.copy()\n",
    "#     new_df['total_carbon_emissions'] = new_df['total_carbon_emissions'] * ratio[s]\n",
    "#     new_df.geo = s\n",
    "#     ussr = ussr.append(new_df, ignore_index=True)"
   ]
  },
  {
   "cell_type": "code",
   "execution_count": 127,
   "metadata": {
    "collapsed": false
   },
   "outputs": [],
   "source": [
    "rus_calc = ussr.copy()"
   ]
  },
  {
   "cell_type": "code",
   "execution_count": 128,
   "metadata": {
    "collapsed": false
   },
   "outputs": [],
   "source": [
    "rus_calc = rus_calc.set_index(['geo', 'year'])\n",
    "rus_calc.columns = ['cdiac_2010']"
   ]
  },
  {
   "cell_type": "code",
   "execution_count": 116,
   "metadata": {
    "collapsed": false
   },
   "outputs": [],
   "source": [
    "rus_gw_2010 = rus_gw_2010.set_index(['geo', 'year'])\n",
    "rus_gw_2010.columns = ['gw']"
   ]
  },
  {
   "cell_type": "code",
   "execution_count": 132,
   "metadata": {
    "collapsed": false
   },
   "outputs": [],
   "source": [
    "res = pd.concat([rus_calc, rus_gw_2010], axis=1)"
   ]
  },
  {
   "cell_type": "code",
   "execution_count": 133,
   "metadata": {
    "collapsed": true
   },
   "outputs": [],
   "source": [
    "res['cdiac_2010'] = res['cdiac_2010'].map(format_float_digits)"
   ]
  },
  {
   "cell_type": "code",
   "execution_count": 136,
   "metadata": {
    "collapsed": false
   },
   "outputs": [],
   "source": [
    "res = res.reset_index()"
   ]
  },
  {
   "cell_type": "code",
   "execution_count": 140,
   "metadata": {
    "collapsed": false
   },
   "outputs": [
    {
     "data": {
      "text/html": [
       "<div>\n",
       "<table border=\"1\" class=\"dataframe\">\n",
       "  <thead>\n",
       "    <tr style=\"text-align: right;\">\n",
       "      <th></th>\n",
       "      <th>geo</th>\n",
       "      <th>year</th>\n",
       "      <th>cdiac_2010</th>\n",
       "      <th>gw</th>\n",
       "    </tr>\n",
       "  </thead>\n",
       "  <tbody>\n",
       "    <tr>\n",
       "      <th>79</th>\n",
       "      <td>rus</td>\n",
       "      <td>1931</td>\n",
       "      <td>116648.9121</td>\n",
       "      <td>116600.0</td>\n",
       "    </tr>\n",
       "    <tr>\n",
       "      <th>80</th>\n",
       "      <td>rus</td>\n",
       "      <td>1932</td>\n",
       "      <td>131424.91134</td>\n",
       "      <td>131400.0</td>\n",
       "    </tr>\n",
       "    <tr>\n",
       "      <th>81</th>\n",
       "      <td>rus</td>\n",
       "      <td>1933</td>\n",
       "      <td>146876.89207</td>\n",
       "      <td>146900.0</td>\n",
       "    </tr>\n",
       "    <tr>\n",
       "      <th>82</th>\n",
       "      <td>rus</td>\n",
       "      <td>1934</td>\n",
       "      <td>177664.7759</td>\n",
       "      <td>177700.0</td>\n",
       "    </tr>\n",
       "    <tr>\n",
       "      <th>83</th>\n",
       "      <td>rus</td>\n",
       "      <td>1935</td>\n",
       "      <td>201105.62867</td>\n",
       "      <td>201100.0</td>\n",
       "    </tr>\n",
       "    <tr>\n",
       "      <th>84</th>\n",
       "      <td>rus</td>\n",
       "      <td>1936</td>\n",
       "      <td>230605.27843</td>\n",
       "      <td>230600.0</td>\n",
       "    </tr>\n",
       "    <tr>\n",
       "      <th>85</th>\n",
       "      <td>rus</td>\n",
       "      <td>1937</td>\n",
       "      <td>235803.73534</td>\n",
       "      <td>235800.0</td>\n",
       "    </tr>\n",
       "    <tr>\n",
       "      <th>86</th>\n",
       "      <td>rus</td>\n",
       "      <td>1938</td>\n",
       "      <td>248879.53874</td>\n",
       "      <td>248900.0</td>\n",
       "    </tr>\n",
       "    <tr>\n",
       "      <th>87</th>\n",
       "      <td>rus</td>\n",
       "      <td>1939</td>\n",
       "      <td>251931.69755</td>\n",
       "      <td>251900.0</td>\n",
       "    </tr>\n",
       "  </tbody>\n",
       "</table>\n",
       "</div>"
      ],
      "text/plain": [
       "    geo  year    cdiac_2010        gw\n",
       "79  rus  1931   116648.9121  116600.0\n",
       "80  rus  1932  131424.91134  131400.0\n",
       "81  rus  1933  146876.89207  146900.0\n",
       "82  rus  1934   177664.7759  177700.0\n",
       "83  rus  1935  201105.62867  201100.0\n",
       "84  rus  1936  230605.27843  230600.0\n",
       "85  rus  1937  235803.73534  235800.0\n",
       "86  rus  1938  248879.53874  248900.0\n",
       "87  rus  1939  251931.69755  251900.0"
      ]
     },
     "execution_count": 140,
     "metadata": {},
     "output_type": "execute_result"
    }
   ],
   "source": [
    "res[(res.year > 1930) & (res.year < 1940)]"
   ]
  },
  {
   "cell_type": "code",
   "execution_count": null,
   "metadata": {
    "collapsed": true
   },
   "outputs": [],
   "source": []
  },
  {
   "cell_type": "code",
   "execution_count": null,
   "metadata": {
    "collapsed": true
   },
   "outputs": [],
   "source": []
  },
  {
   "cell_type": "code",
   "execution_count": null,
   "metadata": {
    "collapsed": true
   },
   "outputs": [],
   "source": []
  },
  {
   "cell_type": "code",
   "execution_count": null,
   "metadata": {
    "collapsed": true
   },
   "outputs": [],
   "source": []
  },
  {
   "cell_type": "code",
   "execution_count": null,
   "metadata": {
    "collapsed": true
   },
   "outputs": [],
   "source": [
    "# lva and est"
   ]
  },
  {
   "cell_type": "code",
   "execution_count": null,
   "metadata": {
    "collapsed": true
   },
   "outputs": [],
   "source": []
  }
 ],
 "metadata": {
  "kernelspec": {
   "display_name": "Python 3",
   "language": "python",
   "name": "python3"
  },
  "language_info": {
   "codemirror_mode": {
    "name": "ipython",
    "version": 3
   },
   "file_extension": ".py",
   "mimetype": "text/x-python",
   "name": "python",
   "nbconvert_exporter": "python",
   "pygments_lexer": "ipython3",
   "version": "3.5.2"
  }
 },
 "nbformat": 4,
 "nbformat_minor": 0
}
