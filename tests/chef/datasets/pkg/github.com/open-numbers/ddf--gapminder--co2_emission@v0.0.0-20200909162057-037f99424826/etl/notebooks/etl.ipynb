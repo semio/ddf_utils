{
 "cells": [
  {
   "cell_type": "code",
   "execution_count": 1,
   "metadata": {
    "collapsed": true
   },
   "outputs": [],
   "source": [
    "import pandas as pd\n",
    "import os\n",
    "import numpy as np"
   ]
  },
  {
   "cell_type": "code",
   "execution_count": 2,
   "metadata": {
    "collapsed": true
   },
   "outputs": [],
   "source": [
    "import ddf_utils.ddf_reader as dr\n",
    "from ddf_utils.str import format_float_sigfig, format_float_digits"
   ]
  },
  {
   "cell_type": "code",
   "execution_count": 3,
   "metadata": {
    "collapsed": true
   },
   "outputs": [],
   "source": [
    "dr.SEARCH_PATH = '../../../'"
   ]
  },
  {
   "cell_type": "code",
   "execution_count": 4,
   "metadata": {
    "collapsed": false
   },
   "outputs": [],
   "source": [
    "co2 = dr.ddf_datapoint('ddf--cdiac-co2', \n",
    "                       'total_carbon_emissions', 'nation,year')"
   ]
  },
  {
   "cell_type": "code",
   "execution_count": 5,
   "metadata": {
    "collapsed": true
   },
   "outputs": [],
   "source": [
    "pop = dr.ddf_datapoint('ddf--gapminder--population', 'population')"
   ]
  },
  {
   "cell_type": "code",
   "execution_count": 6,
   "metadata": {
    "collapsed": true
   },
   "outputs": [],
   "source": [
    "geo = dr.ddf_entities('ddf--gapminder--geo_entity_domain')['country']\n",
    "nation = dr.ddf_entities('ddf--cdiac-co2')['nation']"
   ]
  },
  {
   "cell_type": "code",
   "execution_count": null,
   "metadata": {
    "collapsed": true
   },
   "outputs": [],
   "source": []
  },
  {
   "cell_type": "code",
   "execution_count": 7,
   "metadata": {
    "collapsed": false
   },
   "outputs": [
    {
     "data": {
      "text/html": [
       "<div>\n",
       "<table border=\"1\" class=\"dataframe\">\n",
       "  <thead>\n",
       "    <tr style=\"text-align: right;\">\n",
       "      <th></th>\n",
       "      <th>nation</th>\n",
       "      <th>year</th>\n",
       "      <th>total_carbon_emissions</th>\n",
       "    </tr>\n",
       "  </thead>\n",
       "  <tbody>\n",
       "    <tr>\n",
       "      <th>0</th>\n",
       "      <td>afghanistan</td>\n",
       "      <td>1949</td>\n",
       "      <td>4.0</td>\n",
       "    </tr>\n",
       "    <tr>\n",
       "      <th>1</th>\n",
       "      <td>afghanistan</td>\n",
       "      <td>1950</td>\n",
       "      <td>23.0</td>\n",
       "    </tr>\n",
       "    <tr>\n",
       "      <th>2</th>\n",
       "      <td>afghanistan</td>\n",
       "      <td>1951</td>\n",
       "      <td>25.0</td>\n",
       "    </tr>\n",
       "    <tr>\n",
       "      <th>3</th>\n",
       "      <td>afghanistan</td>\n",
       "      <td>1952</td>\n",
       "      <td>25.0</td>\n",
       "    </tr>\n",
       "    <tr>\n",
       "      <th>4</th>\n",
       "      <td>afghanistan</td>\n",
       "      <td>1953</td>\n",
       "      <td>29.0</td>\n",
       "    </tr>\n",
       "  </tbody>\n",
       "</table>\n",
       "</div>"
      ],
      "text/plain": [
       "        nation  year  total_carbon_emissions\n",
       "0  afghanistan  1949                     4.0\n",
       "1  afghanistan  1950                    23.0\n",
       "2  afghanistan  1951                    25.0\n",
       "3  afghanistan  1952                    25.0\n",
       "4  afghanistan  1953                    29.0"
      ]
     },
     "execution_count": 7,
     "metadata": {},
     "output_type": "execute_result"
    }
   ],
   "source": [
    "co2.head()"
   ]
  },
  {
   "cell_type": "code",
   "execution_count": 8,
   "metadata": {
    "collapsed": false
   },
   "outputs": [
    {
     "data": {
      "text/html": [
       "<div>\n",
       "<table border=\"1\" class=\"dataframe\">\n",
       "  <thead>\n",
       "    <tr style=\"text-align: right;\">\n",
       "      <th></th>\n",
       "      <th>country</th>\n",
       "      <th>year</th>\n",
       "      <th>population</th>\n",
       "    </tr>\n",
       "  </thead>\n",
       "  <tbody>\n",
       "    <tr>\n",
       "      <th>0</th>\n",
       "      <td>abw</td>\n",
       "      <td>1800</td>\n",
       "      <td>19286.0</td>\n",
       "    </tr>\n",
       "    <tr>\n",
       "      <th>1</th>\n",
       "      <td>abw</td>\n",
       "      <td>1801</td>\n",
       "      <td>19286.0</td>\n",
       "    </tr>\n",
       "    <tr>\n",
       "      <th>2</th>\n",
       "      <td>abw</td>\n",
       "      <td>1802</td>\n",
       "      <td>19286.0</td>\n",
       "    </tr>\n",
       "    <tr>\n",
       "      <th>3</th>\n",
       "      <td>abw</td>\n",
       "      <td>1803</td>\n",
       "      <td>19286.0</td>\n",
       "    </tr>\n",
       "    <tr>\n",
       "      <th>4</th>\n",
       "      <td>abw</td>\n",
       "      <td>1804</td>\n",
       "      <td>19286.0</td>\n",
       "    </tr>\n",
       "  </tbody>\n",
       "</table>\n",
       "</div>"
      ],
      "text/plain": [
       "  country  year  population\n",
       "0     abw  1800     19286.0\n",
       "1     abw  1801     19286.0\n",
       "2     abw  1802     19286.0\n",
       "3     abw  1803     19286.0\n",
       "4     abw  1804     19286.0"
      ]
     },
     "execution_count": 8,
     "metadata": {},
     "output_type": "execute_result"
    }
   ],
   "source": [
    "pop.head()"
   ]
  },
  {
   "cell_type": "code",
   "execution_count": null,
   "metadata": {
    "collapsed": true
   },
   "outputs": [],
   "source": []
  },
  {
   "cell_type": "code",
   "execution_count": null,
   "metadata": {
    "collapsed": true
   },
   "outputs": [],
   "source": []
  },
  {
   "cell_type": "code",
   "execution_count": 12,
   "metadata": {
    "collapsed": true
   },
   "outputs": [],
   "source": [
    "# see if we can make the nation align to gapminder geo domain"
   ]
  },
  {
   "cell_type": "code",
   "execution_count": 9,
   "metadata": {
    "collapsed": true
   },
   "outputs": [],
   "source": [
    "cdiac_nation_map = nation.to_dict('record')"
   ]
  },
  {
   "cell_type": "code",
   "execution_count": 10,
   "metadata": {
    "collapsed": false
   },
   "outputs": [],
   "source": [
    "cdiac_nation_map = dict([(x['nation'], x['name']) for x in cdiac_nation_map])"
   ]
  },
  {
   "cell_type": "code",
   "execution_count": 11,
   "metadata": {
    "collapsed": true
   },
   "outputs": [],
   "source": [
    "co2['name'] = co2.nation.map(lambda x: cdiac_nation_map[x])"
   ]
  },
  {
   "cell_type": "code",
   "execution_count": 12,
   "metadata": {
    "collapsed": false
   },
   "outputs": [
    {
     "data": {
      "text/html": [
       "<div>\n",
       "<table border=\"1\" class=\"dataframe\">\n",
       "  <thead>\n",
       "    <tr style=\"text-align: right;\">\n",
       "      <th></th>\n",
       "      <th>nation</th>\n",
       "      <th>year</th>\n",
       "      <th>total_carbon_emissions</th>\n",
       "      <th>name</th>\n",
       "    </tr>\n",
       "  </thead>\n",
       "  <tbody>\n",
       "    <tr>\n",
       "      <th>0</th>\n",
       "      <td>afghanistan</td>\n",
       "      <td>1949</td>\n",
       "      <td>4.0</td>\n",
       "      <td>AFGHANISTAN</td>\n",
       "    </tr>\n",
       "    <tr>\n",
       "      <th>1</th>\n",
       "      <td>afghanistan</td>\n",
       "      <td>1950</td>\n",
       "      <td>23.0</td>\n",
       "      <td>AFGHANISTAN</td>\n",
       "    </tr>\n",
       "    <tr>\n",
       "      <th>2</th>\n",
       "      <td>afghanistan</td>\n",
       "      <td>1951</td>\n",
       "      <td>25.0</td>\n",
       "      <td>AFGHANISTAN</td>\n",
       "    </tr>\n",
       "    <tr>\n",
       "      <th>3</th>\n",
       "      <td>afghanistan</td>\n",
       "      <td>1952</td>\n",
       "      <td>25.0</td>\n",
       "      <td>AFGHANISTAN</td>\n",
       "    </tr>\n",
       "    <tr>\n",
       "      <th>4</th>\n",
       "      <td>afghanistan</td>\n",
       "      <td>1953</td>\n",
       "      <td>29.0</td>\n",
       "      <td>AFGHANISTAN</td>\n",
       "    </tr>\n",
       "  </tbody>\n",
       "</table>\n",
       "</div>"
      ],
      "text/plain": [
       "        nation  year  total_carbon_emissions         name\n",
       "0  afghanistan  1949                     4.0  AFGHANISTAN\n",
       "1  afghanistan  1950                    23.0  AFGHANISTAN\n",
       "2  afghanistan  1951                    25.0  AFGHANISTAN\n",
       "3  afghanistan  1952                    25.0  AFGHANISTAN\n",
       "4  afghanistan  1953                    29.0  AFGHANISTAN"
      ]
     },
     "execution_count": 12,
     "metadata": {},
     "output_type": "execute_result"
    }
   ],
   "source": [
    "co2.head()"
   ]
  },
  {
   "cell_type": "code",
   "execution_count": null,
   "metadata": {
    "collapsed": true
   },
   "outputs": [],
   "source": []
  },
  {
   "cell_type": "code",
   "execution_count": 13,
   "metadata": {
    "collapsed": false
   },
   "outputs": [
    {
     "name": "stdout",
     "output_type": "stream",
     "text": [
      "not found:  ANTARCTIC FISHERIES\n",
      "not found:  BONAIRE, SAINT EUSTATIUS, AND SABA\n",
      "not found:  DEMOCRATIC REPUBLIC OF VIETNAM\n",
      "not found:  EAST & WEST PAKISTAN\n",
      "not found:  FEDERATION OF MALAYA-SINGAPORE\n",
      "not found:  FORMER PANAMA CANAL ZONE\n",
      "not found:  FRENCH EQUATORIAL AFRICA\n",
      "not found:  FRENCH INDO-CHINA\n",
      "not found:  FRENCH WEST AFRICA\n",
      "not found:  KUWAITI OIL FIRES\n",
      "not found:  LEEWARD ISLANDS\n",
      "not found:  NETHERLAND ANTILLES AND ARUBA\n",
      "not found:  PACIFIC ISLANDS (PALAU)\n",
      "not found:  PENINSULAR MALAYSIA\n",
      "not found:  REPUBLIC OF SOUTH VIETNAM\n",
      "not found:  RHODESIA-NYASALAND\n",
      "not found:  RWANDA-URUNDI\n",
      "not found:  RYUKYU ISLANDS\n",
      "not found:  SABAH\n",
      "not found:  SARAWAK\n",
      "not found:  ST. KITTS-NEVIS-ANGUILLA\n",
      "not found:  TANGANYIKA\n",
      "not found:  ZANZIBAR\n"
     ]
    }
   ],
   "source": [
    "map_c = {}\n",
    "search_cols = ['name', 'gapminder_list','alternative_1', 'alternative_2', 'alternative_3',\n",
    "               'alternative_4_cdiac', 'pandg', 'god_id', 'alt_5', 'upper_case_name', \n",
    "               'arb1', 'arb2', 'arb3', 'arb4', 'arb5', 'arb6'\n",
    "              ]\n",
    "\n",
    "for g in co2.name.unique():\n",
    "    masks = []\n",
    "    for c in search_cols:\n",
    "        masks.append(geo[c].str.lower() == g.lower())\n",
    "    \n",
    "    map0 = masks[0]\n",
    "    for m in masks[1:]:\n",
    "        map0 = map0 | m\n",
    "        \n",
    "    filtered = geo[map0]\n",
    "    if len(filtered) > 1:\n",
    "        print('multiple entities found for '+g)\n",
    "        print(filtered['country'].values)\n",
    "    elif len(filtered) > 0:\n",
    "        map_c[g] = filtered['country'].values[0]\n",
    "    else:\n",
    "        print('not found: ', g)"
   ]
  },
  {
   "cell_type": "code",
   "execution_count": 14,
   "metadata": {
    "collapsed": true
   },
   "outputs": [],
   "source": [
    "co2['geo'] = co2.name.map(lambda x: map_c[x] if x in map_c.keys() else np.nan)"
   ]
  },
  {
   "cell_type": "markdown",
   "metadata": {},
   "source": [
    "# deal with the split/merge case\n",
    "\n",
    "Here is how I do with split/merge:\n",
    "\n",
    "merge: rename the nation name to target geo, then groupby geo/year and sum each group."
   ]
  },
  {
   "cell_type": "code",
   "execution_count": null,
   "metadata": {
    "collapsed": true
   },
   "outputs": [],
   "source": []
  },
  {
   "cell_type": "code",
   "execution_count": 15,
   "metadata": {
    "collapsed": true
   },
   "outputs": [],
   "source": [
    "# vnm = DEMOCRATIC REPUBLIC OF VIETNAM + REPUBLIC OF SOUTH VIETNAM\n",
    "\n",
    "select = (co2.name == 'DEMOCRATIC REPUBLIC OF VIETNAM') | (co2.name == 'REPUBLIC OF SOUTH VIETNAM')\n",
    "\n",
    "# append new data to origin, with new geo.\n",
    "to_append = co2.ix[select].copy()\n",
    "to_append['geo'] = 'vnm'\n",
    "\n",
    "co2 = co2.append(to_append, ignore_index=True)"
   ]
  },
  {
   "cell_type": "code",
   "execution_count": 16,
   "metadata": {
    "collapsed": false
   },
   "outputs": [],
   "source": [
    "# deu = FEDERAL REPUBLIC OF GERMANY + FORMER GERMAN DEMOCRATIC REPUBLIC\n",
    "\n",
    "select = (co2.name == 'FEDERAL REPUBLIC OF GERMANY') | (co2.name == 'FORMER GERMAN DEMOCRATIC REPUBLIC')\n",
    "\n",
    "to_append = co2.ix[select].copy()\n",
    "to_append['geo'] = 'deu'\n",
    "\n",
    "co2 = co2.append(to_append, ignore_index=True)"
   ]
  },
  {
   "cell_type": "code",
   "execution_count": 17,
   "metadata": {
    "collapsed": true
   },
   "outputs": [],
   "source": [
    "# yem = FORMER DEMOCRATIC YEMEN + FORMER YEMEN\n",
    "\n",
    "select = (co2.name == 'FORMER DEMOCRATIC YEMEN') | (co2.name == 'FORMER YEMEN')\n",
    "\n",
    "to_append = co2.ix[select].copy()\n",
    "to_append['geo'] = 'yem'\n",
    "\n",
    "co2 = co2.append(to_append, ignore_index=True)"
   ]
  },
  {
   "cell_type": "code",
   "execution_count": 18,
   "metadata": {
    "collapsed": true
   },
   "outputs": [],
   "source": [
    "# tza = TANGANYIKA + ZANZIBAR\n",
    "\n",
    "select = (co2.name == 'TANGANYIKA') | (co2.name == 'ZANZIBAR')\n",
    "\n",
    "to_append = co2.ix[select].copy()\n",
    "to_append['geo'] = 'tza'\n",
    "\n",
    "co2 = co2.append(to_append, ignore_index=True)"
   ]
  },
  {
   "cell_type": "code",
   "execution_count": null,
   "metadata": {
    "collapsed": true
   },
   "outputs": [],
   "source": []
  },
  {
   "cell_type": "code",
   "execution_count": null,
   "metadata": {
    "collapsed": true
   },
   "outputs": [],
   "source": []
  },
  {
   "cell_type": "code",
   "execution_count": 19,
   "metadata": {
    "collapsed": true
   },
   "outputs": [],
   "source": [
    "def split_with_ratio(data, ratio):\n",
    "    new_data = []\n",
    "\n",
    "    for idx, row in data.iterrows():\n",
    "        year = row['year']\n",
    "\n",
    "        for geo, r in ratio.items():\n",
    "            new_data.append({'geo': geo, \n",
    "                           'total_carbon_emissions': row['total_carbon_emissions'] * r, \n",
    "                           'year': year\n",
    "                          })\n",
    "\n",
    "    res = pd.DataFrame.from_records(new_data).sort_values(by=['geo', 'year'])\n",
    "    return res"
   ]
  },
  {
   "cell_type": "code",
   "execution_count": 20,
   "metadata": {
    "collapsed": false
   },
   "outputs": [],
   "source": [
    "# EAST & WEST PAKISTAN:  split with 1972 ratio of pak and bgd\n",
    "\n",
    "pak = co2.ix[(co2.geo == 'pak') & (co2.year == 1972), 'total_carbon_emissions'].values[0]\n",
    "bgd = co2.ix[(co2.geo == 'bgd') & (co2.year == 1972), 'total_carbon_emissions'].values[0]\n",
    "\n",
    "pak_r = pak / (pak + bgd)\n",
    "bgd_r = 1 - pak_r\n",
    "\n",
    "select = (co2.name == 'EAST & WEST PAKISTAN')\n",
    "\n",
    "ratio = {\n",
    "    'pak': pak_r,\n",
    "    'bgd': bgd_r\n",
    "}"
   ]
  },
  {
   "cell_type": "code",
   "execution_count": 21,
   "metadata": {
    "collapsed": false
   },
   "outputs": [],
   "source": [
    "res = split_with_ratio(co2.ix[select], ratio)"
   ]
  },
  {
   "cell_type": "code",
   "execution_count": 22,
   "metadata": {
    "collapsed": false
   },
   "outputs": [],
   "source": [
    "co2 = co2.append(res, ignore_index=True)"
   ]
  },
  {
   "cell_type": "code",
   "execution_count": null,
   "metadata": {
    "collapsed": true
   },
   "outputs": [],
   "source": []
  },
  {
   "cell_type": "code",
   "execution_count": 23,
   "metadata": {
    "collapsed": true
   },
   "outputs": [],
   "source": [
    "# YUGOSLAVIA (MONTENEGRO & SERBIA):  split with 2006 ratio of mne and srb\n",
    "\n",
    "mne = co2.ix[(co2.geo == 'mne') & (co2.year == 2006), 'total_carbon_emissions'].values[0]\n",
    "srb = co2.ix[(co2.geo == 'srb') & (co2.year == 2006), 'total_carbon_emissions'].values[0]\n",
    "\n",
    "mne_r = mne / (mne + srb)\n",
    "srb_r = 1 - mne_r\n",
    "\n",
    "ratio = {\n",
    "    'mne': mne_r,\n",
    "    'srb': srb_r\n",
    "}"
   ]
  },
  {
   "cell_type": "code",
   "execution_count": 24,
   "metadata": {
    "collapsed": true
   },
   "outputs": [],
   "source": [
    "select = (co2.name == 'YUGOSLAVIA (MONTENEGRO & SERBIA)')\n",
    "res = split_with_ratio(co2.ix[select], ratio)"
   ]
  },
  {
   "cell_type": "code",
   "execution_count": 25,
   "metadata": {
    "collapsed": false
   },
   "outputs": [],
   "source": [
    "co2 = co2.append(res, ignore_index=True)"
   ]
  },
  {
   "cell_type": "code",
   "execution_count": null,
   "metadata": {
    "collapsed": true
   },
   "outputs": [],
   "source": []
  },
  {
   "cell_type": "code",
   "execution_count": 26,
   "metadata": {
    "collapsed": true
   },
   "outputs": [],
   "source": [
    "def get_ratio(data, year, base):\n",
    "    splits = dict()\n",
    "    ratio = dict()\n",
    "    for b in base:\n",
    "        spl = data.ix[(data.geo == b) & (data.year == year), 'total_carbon_emissions'].values[0]\n",
    "        splits[b] = spl\n",
    "    \n",
    "    sum_all = sum(splits.values())\n",
    "    \n",
    "    for b, value in splits.items():\n",
    "        ratio[b] = value / sum_all\n",
    "        \n",
    "    return ratio"
   ]
  },
  {
   "cell_type": "code",
   "execution_count": null,
   "metadata": {
    "collapsed": true
   },
   "outputs": [],
   "source": []
  },
  {
   "cell_type": "code",
   "execution_count": 27,
   "metadata": {
    "collapsed": false
   },
   "outputs": [],
   "source": [
    "# CZECHOSLOVAKIA: split with 1992 ratio of cze and svk\n",
    "\n",
    "ratio = get_ratio(co2, 1992, ['cze', 'svk'])"
   ]
  },
  {
   "cell_type": "code",
   "execution_count": 28,
   "metadata": {
    "collapsed": false
   },
   "outputs": [],
   "source": [
    "select = (co2.name == 'CZECHOSLOVAKIA')\n",
    "res = split_with_ratio(co2.ix[select], ratio)"
   ]
  },
  {
   "cell_type": "code",
   "execution_count": 29,
   "metadata": {
    "collapsed": false
   },
   "outputs": [],
   "source": [
    "co2 = co2.append(res, ignore_index=True)"
   ]
  },
  {
   "cell_type": "code",
   "execution_count": null,
   "metadata": {
    "collapsed": true
   },
   "outputs": [],
   "source": []
  },
  {
   "cell_type": "code",
   "execution_count": 30,
   "metadata": {
    "collapsed": true
   },
   "outputs": [],
   "source": [
    "# USSR = ukr, rus, blr, arm, aze, est, geo, kaz, kgz, lva, ltu, mda, tjk, tkm, uzb on 1992\n",
    "\n",
    "spls = ['ukr', 'rus', 'blr', 'arm', 'aze', 'est', 'geo', 'kaz', 'kgz', 'lva', 'ltu', \n",
    "        'mda', 'tjk', 'tkm', 'uzb']\n",
    "\n",
    "ratio = get_ratio(co2, 1992, spls)"
   ]
  },
  {
   "cell_type": "code",
   "execution_count": 31,
   "metadata": {
    "collapsed": true
   },
   "outputs": [],
   "source": [
    "select = (co2.name == 'USSR')\n",
    "res = split_with_ratio(co2.ix[select], ratio)"
   ]
  },
  {
   "cell_type": "code",
   "execution_count": 33,
   "metadata": {
    "collapsed": true
   },
   "outputs": [],
   "source": [
    "# only add rus\n",
    "\n",
    "co2 = co2.append(res[res.geo == 'rus'], ignore_index=True)"
   ]
  },
  {
   "cell_type": "code",
   "execution_count": null,
   "metadata": {
    "collapsed": true
   },
   "outputs": [],
   "source": []
  },
  {
   "cell_type": "markdown",
   "metadata": {},
   "source": [
    "Because we only set the geo for the merge cases, now we should group the data by geo/year and get aggregate values"
   ]
  },
  {
   "cell_type": "code",
   "execution_count": null,
   "metadata": {
    "collapsed": true
   },
   "outputs": [],
   "source": []
  },
  {
   "cell_type": "code",
   "execution_count": 34,
   "metadata": {
    "collapsed": false,
    "scrolled": false
   },
   "outputs": [],
   "source": [
    "co2_filtered = co2[~co2.geo.isnull()].copy()  # drop all rows don't have geo mappings."
   ]
  },
  {
   "cell_type": "code",
   "execution_count": 35,
   "metadata": {
    "collapsed": true
   },
   "outputs": [],
   "source": [
    "co2_agg = co2_filtered.groupby(by=['geo', 'year'])['total_carbon_emissions'].sum()"
   ]
  },
  {
   "cell_type": "code",
   "execution_count": 36,
   "metadata": {
    "collapsed": false,
    "scrolled": false
   },
   "outputs": [
    {
     "data": {
      "text/plain": [
       "geo  year\n",
       "abw  1986     49.0\n",
       "     1987    122.0\n",
       "     1988    167.0\n",
       "     1989    177.0\n",
       "     1990    472.0\n",
       "     1991    483.0\n",
       "     1992    425.0\n",
       "     1993    437.0\n",
       "     1994    435.0\n",
       "     1995    439.0\n",
       "     1996    441.0\n",
       "     1997    450.0\n",
       "     1998    467.0\n",
       "     1999    477.0\n",
       "     2000    633.0\n",
       "     2001    643.0\n",
       "     2002    647.0\n",
       "     2003    659.0\n",
       "     2004    660.0\n",
       "     2005    681.0\n",
       "     2006    681.0\n",
       "     2007    707.0\n",
       "     2008    684.0\n",
       "     2009    688.0\n",
       "     2010    670.0\n",
       "     2011    665.0\n",
       "     2012    355.0\n",
       "     2013    239.0\n",
       "afg  1949      4.0\n",
       "     1950     23.0\n",
       "Name: total_carbon_emissions, dtype: float64"
      ]
     },
     "execution_count": 36,
     "metadata": {},
     "output_type": "execute_result"
    }
   ],
   "source": [
    "co2_agg[:30]"
   ]
  },
  {
   "cell_type": "code",
   "execution_count": null,
   "metadata": {
    "collapsed": true
   },
   "outputs": [],
   "source": []
  },
  {
   "cell_type": "code",
   "execution_count": 37,
   "metadata": {
    "collapsed": true
   },
   "outputs": [],
   "source": [
    "co2_agg = co2_agg.reset_index()"
   ]
  },
  {
   "cell_type": "code",
   "execution_count": 38,
   "metadata": {
    "collapsed": true
   },
   "outputs": [],
   "source": [
    "co2_agg.columns = ['country', 'year', 'total_carbon_emissions']"
   ]
  },
  {
   "cell_type": "code",
   "execution_count": null,
   "metadata": {
    "collapsed": true
   },
   "outputs": [],
   "source": []
  },
  {
   "cell_type": "code",
   "execution_count": null,
   "metadata": {
    "collapsed": true
   },
   "outputs": [],
   "source": []
  },
  {
   "cell_type": "code",
   "execution_count": null,
   "metadata": {
    "collapsed": true
   },
   "outputs": [],
   "source": []
  },
  {
   "cell_type": "code",
   "execution_count": null,
   "metadata": {
    "collapsed": true
   },
   "outputs": [],
   "source": []
  },
  {
   "cell_type": "code",
   "execution_count": null,
   "metadata": {
    "collapsed": true
   },
   "outputs": [],
   "source": []
  },
  {
   "cell_type": "code",
   "execution_count": null,
   "metadata": {
    "collapsed": true
   },
   "outputs": [],
   "source": []
  },
  {
   "cell_type": "markdown",
   "metadata": {},
   "source": [
    "# calculation of indicators\n",
    "\n",
    "full list see https://github.com/open-numbers/ddf--gapminder--co2_emission/issues/2"
   ]
  },
  {
   "cell_type": "code",
   "execution_count": 39,
   "metadata": {
    "collapsed": true
   },
   "outputs": [],
   "source": [
    "# Yearly CO2 emissions (1000 tonnes)\n",
    "\n",
    "yearly_co2 = co2_agg.copy()"
   ]
  },
  {
   "cell_type": "code",
   "execution_count": 40,
   "metadata": {
    "collapsed": false
   },
   "outputs": [
    {
     "data": {
      "text/html": [
       "<div>\n",
       "<table border=\"1\" class=\"dataframe\">\n",
       "  <thead>\n",
       "    <tr style=\"text-align: right;\">\n",
       "      <th></th>\n",
       "      <th>country</th>\n",
       "      <th>year</th>\n",
       "      <th>total_carbon_emissions</th>\n",
       "    </tr>\n",
       "  </thead>\n",
       "  <tbody>\n",
       "    <tr>\n",
       "      <th>0</th>\n",
       "      <td>abw</td>\n",
       "      <td>1986</td>\n",
       "      <td>49.0</td>\n",
       "    </tr>\n",
       "    <tr>\n",
       "      <th>1</th>\n",
       "      <td>abw</td>\n",
       "      <td>1987</td>\n",
       "      <td>122.0</td>\n",
       "    </tr>\n",
       "    <tr>\n",
       "      <th>2</th>\n",
       "      <td>abw</td>\n",
       "      <td>1988</td>\n",
       "      <td>167.0</td>\n",
       "    </tr>\n",
       "    <tr>\n",
       "      <th>3</th>\n",
       "      <td>abw</td>\n",
       "      <td>1989</td>\n",
       "      <td>177.0</td>\n",
       "    </tr>\n",
       "    <tr>\n",
       "      <th>4</th>\n",
       "      <td>abw</td>\n",
       "      <td>1990</td>\n",
       "      <td>472.0</td>\n",
       "    </tr>\n",
       "  </tbody>\n",
       "</table>\n",
       "</div>"
      ],
      "text/plain": [
       "  country  year  total_carbon_emissions\n",
       "0     abw  1986                    49.0\n",
       "1     abw  1987                   122.0\n",
       "2     abw  1988                   167.0\n",
       "3     abw  1989                   177.0\n",
       "4     abw  1990                   472.0"
      ]
     },
     "execution_count": 40,
     "metadata": {},
     "output_type": "execute_result"
    }
   ],
   "source": [
    "yearly_co2.head()"
   ]
  },
  {
   "cell_type": "code",
   "execution_count": 41,
   "metadata": {
    "collapsed": true
   },
   "outputs": [],
   "source": [
    "yearly_co2.columns = ['country', 'year', 'yearly_co2_emissions_1000_tonnes']"
   ]
  },
  {
   "cell_type": "code",
   "execution_count": 42,
   "metadata": {
    "collapsed": true
   },
   "outputs": [],
   "source": [
    "yearly_co2 = yearly_co2.set_index(['country', 'year'])"
   ]
  },
  {
   "cell_type": "code",
   "execution_count": 43,
   "metadata": {
    "collapsed": true
   },
   "outputs": [],
   "source": [
    "# get CO2 emission\n",
    "\n",
    "yearly_co2 = yearly_co2 * ((12+16*2)/12)"
   ]
  },
  {
   "cell_type": "code",
   "execution_count": 44,
   "metadata": {
    "collapsed": false
   },
   "outputs": [],
   "source": [
    "# set negative value to zero.\n",
    "\n",
    "yearly_co2.ix[yearly_co2['yearly_co2_emissions_1000_tonnes'] < 0, 'yearly_co2_emissions_1000_tonnes'] = 0"
   ]
  },
  {
   "cell_type": "code",
   "execution_count": 45,
   "metadata": {
    "collapsed": false
   },
   "outputs": [
    {
     "data": {
      "text/html": [
       "<div>\n",
       "<table border=\"1\" class=\"dataframe\">\n",
       "  <thead>\n",
       "    <tr style=\"text-align: right;\">\n",
       "      <th></th>\n",
       "      <th></th>\n",
       "      <th>yearly_co2_emissions_1000_tonnes</th>\n",
       "    </tr>\n",
       "    <tr>\n",
       "      <th>country</th>\n",
       "      <th>year</th>\n",
       "      <th></th>\n",
       "    </tr>\n",
       "  </thead>\n",
       "  <tbody>\n",
       "  </tbody>\n",
       "</table>\n",
       "</div>"
      ],
      "text/plain": [
       "Empty DataFrame\n",
       "Columns: [yearly_co2_emissions_1000_tonnes]\n",
       "Index: []"
      ]
     },
     "execution_count": 45,
     "metadata": {},
     "output_type": "execute_result"
    }
   ],
   "source": [
    "# confirm no negative values\n",
    "yearly_co2.ix[yearly_co2['yearly_co2_emissions_1000_tonnes'] < 0]"
   ]
  },
  {
   "cell_type": "code",
   "execution_count": 46,
   "metadata": {
    "collapsed": true
   },
   "outputs": [],
   "source": [
    "csv = yearly_co2.copy()"
   ]
  },
  {
   "cell_type": "code",
   "execution_count": 47,
   "metadata": {
    "collapsed": false
   },
   "outputs": [],
   "source": [
    "csv['yearly_co2_emissions_1000_tonnes'] = \\\n",
    "csv['yearly_co2_emissions_1000_tonnes'].map(format_float_digits)"
   ]
  },
  {
   "cell_type": "code",
   "execution_count": 48,
   "metadata": {
    "collapsed": false
   },
   "outputs": [],
   "source": [
    "csv.to_csv('../../ddf--datapoints--yearly_co2_emissions_1000_tonnes--by--country--year.csv')"
   ]
  },
  {
   "cell_type": "code",
   "execution_count": null,
   "metadata": {
    "collapsed": true
   },
   "outputs": [],
   "source": []
  },
  {
   "cell_type": "code",
   "execution_count": 49,
   "metadata": {
    "collapsed": false
   },
   "outputs": [],
   "source": [
    "# Cumulative CO2 emissions (tonnes)\n",
    "\n",
    "cumulative_co2 = yearly_co2.sort_index(level=[0, 1]).groupby(level=0)"
   ]
  },
  {
   "cell_type": "code",
   "execution_count": 50,
   "metadata": {
    "collapsed": false
   },
   "outputs": [],
   "source": [
    "cumulative_co2 = cumulative_co2['yearly_co2_emissions_1000_tonnes'].apply(np.cumsum)"
   ]
  },
  {
   "cell_type": "code",
   "execution_count": 51,
   "metadata": {
    "collapsed": false
   },
   "outputs": [],
   "source": [
    "cumulative_co2 = cumulative_co2.reset_index()"
   ]
  },
  {
   "cell_type": "code",
   "execution_count": 52,
   "metadata": {
    "collapsed": true
   },
   "outputs": [],
   "source": [
    "cumulative_co2.columns = ['country', 'year', 'cumulative_co2_emissions_tonnes']"
   ]
  },
  {
   "cell_type": "code",
   "execution_count": 53,
   "metadata": {
    "collapsed": false
   },
   "outputs": [
    {
     "data": {
      "text/html": [
       "<div>\n",
       "<table border=\"1\" class=\"dataframe\">\n",
       "  <thead>\n",
       "    <tr style=\"text-align: right;\">\n",
       "      <th></th>\n",
       "      <th>country</th>\n",
       "      <th>year</th>\n",
       "      <th>cumulative_co2_emissions_tonnes</th>\n",
       "    </tr>\n",
       "  </thead>\n",
       "  <tbody>\n",
       "    <tr>\n",
       "      <th>0</th>\n",
       "      <td>abw</td>\n",
       "      <td>1986</td>\n",
       "      <td>179.666667</td>\n",
       "    </tr>\n",
       "    <tr>\n",
       "      <th>1</th>\n",
       "      <td>abw</td>\n",
       "      <td>1987</td>\n",
       "      <td>627.000000</td>\n",
       "    </tr>\n",
       "    <tr>\n",
       "      <th>2</th>\n",
       "      <td>abw</td>\n",
       "      <td>1988</td>\n",
       "      <td>1239.333333</td>\n",
       "    </tr>\n",
       "    <tr>\n",
       "      <th>3</th>\n",
       "      <td>abw</td>\n",
       "      <td>1989</td>\n",
       "      <td>1888.333333</td>\n",
       "    </tr>\n",
       "    <tr>\n",
       "      <th>4</th>\n",
       "      <td>abw</td>\n",
       "      <td>1990</td>\n",
       "      <td>3619.000000</td>\n",
       "    </tr>\n",
       "  </tbody>\n",
       "</table>\n",
       "</div>"
      ],
      "text/plain": [
       "  country  year  cumulative_co2_emissions_tonnes\n",
       "0     abw  1986                       179.666667\n",
       "1     abw  1987                       627.000000\n",
       "2     abw  1988                      1239.333333\n",
       "3     abw  1989                      1888.333333\n",
       "4     abw  1990                      3619.000000"
      ]
     },
     "execution_count": 53,
     "metadata": {},
     "output_type": "execute_result"
    }
   ],
   "source": [
    "cumulative_co2.head()"
   ]
  },
  {
   "cell_type": "code",
   "execution_count": 54,
   "metadata": {
    "collapsed": true
   },
   "outputs": [],
   "source": [
    "# unit\n",
    "\n",
    "cumulative_co2['cumulative_co2_emissions_tonnes'] = \\\n",
    "cumulative_co2['cumulative_co2_emissions_tonnes'] * 1000"
   ]
  },
  {
   "cell_type": "code",
   "execution_count": 55,
   "metadata": {
    "collapsed": false
   },
   "outputs": [],
   "source": [
    "csv = cumulative_co2.copy()\n",
    "\n",
    "csv['cumulative_co2_emissions_tonnes'] = \\\n",
    "csv['cumulative_co2_emissions_tonnes'].map(int)"
   ]
  },
  {
   "cell_type": "code",
   "execution_count": 56,
   "metadata": {
    "collapsed": true
   },
   "outputs": [],
   "source": [
    "csv.to_csv('../../ddf--datapoints--cumulative_co2_emissions_tonnes--by--country--year.csv', index=False)"
   ]
  },
  {
   "cell_type": "code",
   "execution_count": null,
   "metadata": {
    "collapsed": true
   },
   "outputs": [],
   "source": []
  },
  {
   "cell_type": "code",
   "execution_count": 57,
   "metadata": {
    "collapsed": false
   },
   "outputs": [],
   "source": [
    "# CO2 per capita (tonnes per person)\n",
    "\n",
    "pop.columns = ['country', 'year', 'value']\n",
    "pop = pop.set_index(['country', 'year'])"
   ]
  },
  {
   "cell_type": "code",
   "execution_count": 58,
   "metadata": {
    "collapsed": false
   },
   "outputs": [],
   "source": [
    "a = yearly_co2.yearly_co2_emissions_1000_tonnes / pop['value']"
   ]
  },
  {
   "cell_type": "code",
   "execution_count": 59,
   "metadata": {
    "collapsed": false
   },
   "outputs": [],
   "source": [
    "per_person = a.dropna() * 1000"
   ]
  },
  {
   "cell_type": "code",
   "execution_count": 60,
   "metadata": {
    "collapsed": false
   },
   "outputs": [],
   "source": [
    "per_person = per_person.reset_index()\n",
    "per_person.columns = ['country', 'year', 'co2_emissions_tonnes_per_person']"
   ]
  },
  {
   "cell_type": "code",
   "execution_count": 61,
   "metadata": {
    "collapsed": false
   },
   "outputs": [
    {
     "data": {
      "text/html": [
       "<div>\n",
       "<table border=\"1\" class=\"dataframe\">\n",
       "  <thead>\n",
       "    <tr style=\"text-align: right;\">\n",
       "      <th></th>\n",
       "      <th>country</th>\n",
       "      <th>year</th>\n",
       "      <th>co2_emissions_tonnes_per_person</th>\n",
       "    </tr>\n",
       "  </thead>\n",
       "  <tbody>\n",
       "    <tr>\n",
       "      <th>0</th>\n",
       "      <td>abw</td>\n",
       "      <td>1986</td>\n",
       "      <td>2.868059</td>\n",
       "    </tr>\n",
       "    <tr>\n",
       "      <th>1</th>\n",
       "      <td>abw</td>\n",
       "      <td>1987</td>\n",
       "      <td>7.234306</td>\n",
       "    </tr>\n",
       "    <tr>\n",
       "      <th>2</th>\n",
       "      <td>abw</td>\n",
       "      <td>1988</td>\n",
       "      <td>10.025596</td>\n",
       "    </tr>\n",
       "    <tr>\n",
       "      <th>3</th>\n",
       "      <td>abw</td>\n",
       "      <td>1989</td>\n",
       "      <td>10.633766</td>\n",
       "    </tr>\n",
       "    <tr>\n",
       "      <th>4</th>\n",
       "      <td>abw</td>\n",
       "      <td>1990</td>\n",
       "      <td>27.847504</td>\n",
       "    </tr>\n",
       "  </tbody>\n",
       "</table>\n",
       "</div>"
      ],
      "text/plain": [
       "  country  year  co2_emissions_tonnes_per_person\n",
       "0     abw  1986                         2.868059\n",
       "1     abw  1987                         7.234306\n",
       "2     abw  1988                        10.025596\n",
       "3     abw  1989                        10.633766\n",
       "4     abw  1990                        27.847504"
      ]
     },
     "execution_count": 61,
     "metadata": {},
     "output_type": "execute_result"
    }
   ],
   "source": [
    "per_person.head()"
   ]
  },
  {
   "cell_type": "code",
   "execution_count": 62,
   "metadata": {
    "collapsed": true
   },
   "outputs": [],
   "source": [
    "csv = per_person.copy()\n",
    "\n",
    "csv['co2_emissions_tonnes_per_person'] = csv['co2_emissions_tonnes_per_person'].map(format_float_digits)"
   ]
  },
  {
   "cell_type": "code",
   "execution_count": 63,
   "metadata": {
    "collapsed": true
   },
   "outputs": [],
   "source": [
    "csv.to_csv('../../ddf--datapoints--co2_emissions_tonnes_per_person--by--country--year.csv', index=False)"
   ]
  },
  {
   "cell_type": "code",
   "execution_count": null,
   "metadata": {
    "collapsed": true
   },
   "outputs": [],
   "source": []
  },
  {
   "cell_type": "markdown",
   "metadata": {},
   "source": [
    "# concepts"
   ]
  },
  {
   "cell_type": "code",
   "execution_count": 49,
   "metadata": {
    "collapsed": true
   },
   "outputs": [],
   "source": [
    "concepts = [\n",
    "    'name',\n",
    "    'indicator_url',\n",
    "    'unit',\n",
    "    'country',\n",
    "    'year',\n",
    "    'yearly_co2_emissions_1000_tonnes',\n",
    "    'cumulative_co2_emissions_tonnes',\n",
    "    'co2_emissions_tonnes_per_person'\n",
    "]"
   ]
  },
  {
   "cell_type": "code",
   "execution_count": 57,
   "metadata": {
    "collapsed": false
   },
   "outputs": [],
   "source": [
    "cdf = pd.DataFrame(concepts, columns=['concept'])"
   ]
  },
  {
   "cell_type": "code",
   "execution_count": 58,
   "metadata": {
    "collapsed": true
   },
   "outputs": [],
   "source": [
    "cdf['name'] = [\n",
    "    'Name',\n",
    "    'Indicator URL',\n",
    "    'Unit',\n",
    "    'Country',\n",
    "    'Year',\n",
    "    'Yearly CO2 emissions',\n",
    "    'Cumulative CO2 emissions',\n",
    "    'CO2 per capita'\n",
    "]"
   ]
  },
  {
   "cell_type": "code",
   "execution_count": 59,
   "metadata": {
    "collapsed": false
   },
   "outputs": [],
   "source": [
    "cdf = cdf.set_index('concept')"
   ]
  },
  {
   "cell_type": "code",
   "execution_count": 60,
   "metadata": {
    "collapsed": true
   },
   "outputs": [],
   "source": [
    "cdf['concept_type'] = 'measure'\n",
    "cdf.ix[['name', 'indicator_url', 'unit'], 'concept_type'] = 'string'\n",
    "cdf.ix['country', 'concept_type'] = 'entity_domain'\n",
    "cdf.ix['year', 'concept_type'] = 'time'"
   ]
  },
  {
   "cell_type": "code",
   "execution_count": 61,
   "metadata": {
    "collapsed": true
   },
   "outputs": [],
   "source": [
    "cdf.ix[cdf.concept_type == 'measure', 'indicator_url'] = 'https://github.com/open-numbers/ddf--gapminder--co2_emission'"
   ]
  },
  {
   "cell_type": "code",
   "execution_count": 62,
   "metadata": {
    "collapsed": true
   },
   "outputs": [],
   "source": [
    "cdf.ix['yearly_co2_emissions_1000_tonnes', 'unit'] = '1000 metric tons'\n",
    "cdf.ix['cumulative_co2_emissions_tonnes', 'unit'] = 'metric tons'\n",
    "cdf.ix['co2_emissions_tonnes_per_person', 'unit'] = 'metric tons per person'"
   ]
  },
  {
   "cell_type": "code",
   "execution_count": 63,
   "metadata": {
    "collapsed": false
   },
   "outputs": [
    {
     "data": {
      "text/html": [
       "<div>\n",
       "<table border=\"1\" class=\"dataframe\">\n",
       "  <thead>\n",
       "    <tr style=\"text-align: right;\">\n",
       "      <th></th>\n",
       "      <th>name</th>\n",
       "      <th>concept_type</th>\n",
       "      <th>indicator_url</th>\n",
       "      <th>unit</th>\n",
       "    </tr>\n",
       "    <tr>\n",
       "      <th>concept</th>\n",
       "      <th></th>\n",
       "      <th></th>\n",
       "      <th></th>\n",
       "      <th></th>\n",
       "    </tr>\n",
       "  </thead>\n",
       "  <tbody>\n",
       "    <tr>\n",
       "      <th>name</th>\n",
       "      <td>Name</td>\n",
       "      <td>string</td>\n",
       "      <td>NaN</td>\n",
       "      <td>NaN</td>\n",
       "    </tr>\n",
       "    <tr>\n",
       "      <th>indicator_url</th>\n",
       "      <td>Indicator URL</td>\n",
       "      <td>string</td>\n",
       "      <td>NaN</td>\n",
       "      <td>NaN</td>\n",
       "    </tr>\n",
       "    <tr>\n",
       "      <th>unit</th>\n",
       "      <td>Unit</td>\n",
       "      <td>string</td>\n",
       "      <td>NaN</td>\n",
       "      <td>NaN</td>\n",
       "    </tr>\n",
       "    <tr>\n",
       "      <th>country</th>\n",
       "      <td>Country</td>\n",
       "      <td>entity_domain</td>\n",
       "      <td>NaN</td>\n",
       "      <td>NaN</td>\n",
       "    </tr>\n",
       "    <tr>\n",
       "      <th>year</th>\n",
       "      <td>Year</td>\n",
       "      <td>time</td>\n",
       "      <td>NaN</td>\n",
       "      <td>NaN</td>\n",
       "    </tr>\n",
       "    <tr>\n",
       "      <th>yearly_co2_emissions_1000_tonnes</th>\n",
       "      <td>Yearly CO2 emissions</td>\n",
       "      <td>measure</td>\n",
       "      <td>https://github.com/open-numbers/ddf--gapminder...</td>\n",
       "      <td>1000 mertic tons</td>\n",
       "    </tr>\n",
       "    <tr>\n",
       "      <th>cumulative_co2_emissions_tonnes</th>\n",
       "      <td>Cumulative CO2 emissions</td>\n",
       "      <td>measure</td>\n",
       "      <td>https://github.com/open-numbers/ddf--gapminder...</td>\n",
       "      <td>mertic tons</td>\n",
       "    </tr>\n",
       "    <tr>\n",
       "      <th>co2_emissions_tonnes_per_person</th>\n",
       "      <td>CO2 per capita</td>\n",
       "      <td>measure</td>\n",
       "      <td>https://github.com/open-numbers/ddf--gapminder...</td>\n",
       "      <td>metric tons per person</td>\n",
       "    </tr>\n",
       "  </tbody>\n",
       "</table>\n",
       "</div>"
      ],
      "text/plain": [
       "                                                      name   concept_type  \\\n",
       "concept                                                                     \n",
       "name                                                  Name         string   \n",
       "indicator_url                                Indicator URL         string   \n",
       "unit                                                  Unit         string   \n",
       "country                                            Country  entity_domain   \n",
       "year                                                  Year           time   \n",
       "yearly_co2_emissions_1000_tonnes      Yearly CO2 emissions        measure   \n",
       "cumulative_co2_emissions_tonnes   Cumulative CO2 emissions        measure   \n",
       "co2_emissions_tonnes_per_person             CO2 per capita        measure   \n",
       "\n",
       "                                                                      indicator_url  \\\n",
       "concept                                                                               \n",
       "name                                                                            NaN   \n",
       "indicator_url                                                                   NaN   \n",
       "unit                                                                            NaN   \n",
       "country                                                                         NaN   \n",
       "year                                                                            NaN   \n",
       "yearly_co2_emissions_1000_tonnes  https://github.com/open-numbers/ddf--gapminder...   \n",
       "cumulative_co2_emissions_tonnes   https://github.com/open-numbers/ddf--gapminder...   \n",
       "co2_emissions_tonnes_per_person   https://github.com/open-numbers/ddf--gapminder...   \n",
       "\n",
       "                                                    unit  \n",
       "concept                                                   \n",
       "name                                                 NaN  \n",
       "indicator_url                                        NaN  \n",
       "unit                                                 NaN  \n",
       "country                                              NaN  \n",
       "year                                                 NaN  \n",
       "yearly_co2_emissions_1000_tonnes        1000 mertic tons  \n",
       "cumulative_co2_emissions_tonnes              mertic tons  \n",
       "co2_emissions_tonnes_per_person   metric tons per person  "
      ]
     },
     "execution_count": 63,
     "metadata": {},
     "output_type": "execute_result"
    }
   ],
   "source": [
    "cdf"
   ]
  },
  {
   "cell_type": "code",
   "execution_count": 64,
   "metadata": {
    "collapsed": true
   },
   "outputs": [],
   "source": [
    "cdf.to_csv('../../ddf--concepts.csv')"
   ]
  },
  {
   "cell_type": "code",
   "execution_count": null,
   "metadata": {
    "collapsed": true
   },
   "outputs": [],
   "source": []
  },
  {
   "cell_type": "markdown",
   "metadata": {},
   "source": [
    "# entity"
   ]
  },
  {
   "cell_type": "code",
   "execution_count": 65,
   "metadata": {
    "collapsed": true
   },
   "outputs": [],
   "source": [
    "# just copy the GM geo domain\n",
    "\n",
    "geo[['country', 'name']].to_csv('../../ddf--entities--country.csv', index=False)"
   ]
  },
  {
   "cell_type": "code",
   "execution_count": null,
   "metadata": {
    "collapsed": true
   },
   "outputs": [],
   "source": []
  },
  {
   "cell_type": "code",
   "execution_count": null,
   "metadata": {
    "collapsed": true
   },
   "outputs": [],
   "source": []
  },
  {
   "cell_type": "code",
   "execution_count": 158,
   "metadata": {
    "collapsed": false
   },
   "outputs": [
    {
     "name": "stdout",
     "output_type": "stream",
     "text": [
      "[\n",
      "{}]\n",
      "\n"
     ]
    }
   ],
   "source": [
    "!validate-ddf ../../"
   ]
  },
  {
   "cell_type": "code",
   "execution_count": null,
   "metadata": {
    "collapsed": true
   },
   "outputs": [],
   "source": []
  }
 ],
 "metadata": {
  "kernelspec": {
   "display_name": "Python 3",
   "language": "python",
   "name": "python3"
  },
  "language_info": {
   "codemirror_mode": {
    "name": "ipython",
    "version": 3
   },
   "file_extension": ".py",
   "mimetype": "text/x-python",
   "name": "python",
   "nbconvert_exporter": "python",
   "pygments_lexer": "ipython3",
   "version": "3.5.2"
  }
 },
 "nbformat": 4,
 "nbformat_minor": 0
}
